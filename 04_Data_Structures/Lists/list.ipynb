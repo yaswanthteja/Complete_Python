{
 "cells": [
  {
   "cell_type": "code",
   "execution_count": 1,
   "metadata": {},
   "outputs": [],
   "source": [
    "# creating a list\n",
    "\n",
    "\n",
    "my_list = [1, 2, 3, 'apple', 'banana']\n",
    "empty_list = []"
   ]
  },
  {
   "cell_type": "code",
   "execution_count": 2,
   "metadata": {},
   "outputs": [
    {
     "name": "stdout",
     "output_type": "stream",
     "text": [
      "[1, 2, 3, 4, 5, 6, 7, 8, 9, 10]\n"
     ]
    }
   ],
   "source": [
    "num_list = list(range(1,11))\n",
    "print(num_list)"
   ]
  },
  {
   "cell_type": "code",
   "execution_count": 13,
   "metadata": {},
   "outputs": [
    {
     "name": "stdout",
     "output_type": "stream",
     "text": [
      "[2, 3, 4]\n"
     ]
    }
   ],
   "source": [
    "# adding data to list\n",
    "\n",
    "lis=[]\n",
    "# using append method\n",
    "lis.append(1)\n",
    "\n",
    "lis1=[2,3,4]\n",
    "lis.append(lis1)\n",
    "lis\n",
    "\n",
    "# print the index 1\n",
    "print(lis[1])"
   ]
  },
  {
   "cell_type": "code",
   "execution_count": 14,
   "metadata": {},
   "outputs": [
    {
     "data": {
      "text/plain": [
       "[1, 5, [2, 3, 4]]"
      ]
     },
     "execution_count": 14,
     "metadata": {},
     "output_type": "execute_result"
    }
   ],
   "source": [
    "# by using insert method\n",
    "\n",
    "# list.insert(index_value, data)\n",
    "lis.insert(1,5)\n",
    "lis"
   ]
  },
  {
   "cell_type": "code",
   "execution_count": 17,
   "metadata": {},
   "outputs": [
    {
     "data": {
      "text/plain": [
       "[0, 1, 5, [2, 3, 4]]"
      ]
     },
     "execution_count": 17,
     "metadata": {},
     "output_type": "execute_result"
    }
   ],
   "source": [
    "# by using extend method\n",
    "#extend() method is used to add the whole data of the list into another list.\n",
    "lis2=[0]\n",
    "lis2.extend(lis)\n",
    "lis2"
   ]
  },
  {
   "cell_type": "markdown",
   "metadata": {},
   "source": [
    "### Delete data from list"
   ]
  },
  {
   "cell_type": "code",
   "execution_count": 18,
   "metadata": {},
   "outputs": [
    {
     "data": {
      "text/plain": [
       "[0, 1, 5]"
      ]
     },
     "execution_count": 18,
     "metadata": {},
     "output_type": "execute_result"
    }
   ],
   "source": [
    "# by using pop method\n",
    "# pop method removes data at the end of the list\n",
    "\n",
    "lis2.pop()\n",
    "lis2"
   ]
  },
  {
   "cell_type": "code",
   "execution_count": 19,
   "metadata": {},
   "outputs": [
    {
     "data": {
      "text/plain": [
       "[0, 5]"
      ]
     },
     "execution_count": 19,
     "metadata": {},
     "output_type": "execute_result"
    }
   ],
   "source": [
    "# remove - removes specfic data\n",
    "lis2.remove(1)\n",
    "lis2"
   ]
  },
  {
   "cell_type": "code",
   "execution_count": 20,
   "metadata": {},
   "outputs": [
    {
     "data": {
      "text/plain": [
       "[5]"
      ]
     },
     "execution_count": 20,
     "metadata": {},
     "output_type": "execute_result"
    }
   ],
   "source": [
    "# del keword\n",
    "\n",
    "# del listname[index]\n",
    "\n",
    "del lis2[0]\n",
    "lis2"
   ]
  },
  {
   "cell_type": "markdown",
   "metadata": {},
   "source": [
    "## Loop in list"
   ]
  },
  {
   "cell_type": "code",
   "execution_count": 21,
   "metadata": {},
   "outputs": [
    {
     "name": "stdout",
     "output_type": "stream",
     "text": [
      "orange\n",
      "apple\n",
      "pear\n"
     ]
    }
   ],
   "source": [
    "fruits = ['orange', 'apple', 'pear']\n",
    "\n",
    "for i in fruits:\n",
    "    print(i)"
   ]
  },
  {
   "cell_type": "code",
   "execution_count": 23,
   "metadata": {},
   "outputs": [
    {
     "name": "stdout",
     "output_type": "stream",
     "text": [
      "0 orange\n",
      "1 apple\n",
      "2 pear\n"
     ]
    }
   ],
   "source": [
    "fruits = ['orange', 'apple', 'pear']\n",
    "\n",
    "for i in range(len(fruits)):\n",
    "    print(i,fruits[i])"
   ]
  },
  {
   "cell_type": "code",
   "execution_count": 26,
   "metadata": {},
   "outputs": [
    {
     "name": "stdout",
     "output_type": "stream",
     "text": [
      "0 orange\n",
      "1 apple\n",
      "2 pear\n"
     ]
    }
   ],
   "source": [
    "fruits = ['orange', 'apple', 'pear']\n",
    "\n",
    "for i,value in enumerate(fruits):\n",
    "    print(i,value)"
   ]
  },
  {
   "cell_type": "code",
   "execution_count": 27,
   "metadata": {},
   "outputs": [
    {
     "name": "stdout",
     "output_type": "stream",
     "text": [
      "1 Appu\n",
      "2 fil\n",
      "3 zill\n"
     ]
    }
   ],
   "source": [
    "# starting index from 1\n",
    "students=['Appu','fil','zill']\n",
    "\n",
    "for i in range(len(students)):\n",
    "    print(i+1,students[i])"
   ]
  },
  {
   "cell_type": "code",
   "execution_count": 28,
   "metadata": {},
   "outputs": [
    {
     "name": "stdout",
     "output_type": "stream",
     "text": [
      "orange\n",
      "apple\n",
      "pear\n"
     ]
    }
   ],
   "source": [
    "# using while loop\n",
    "ruits = ['orange', 'apple', 'pear']\n",
    "\n",
    "i = 0\n",
    "while i < len(fruits):\n",
    "    print(fruits[i])\n",
    "    i+=1"
   ]
  },
  {
   "cell_type": "code",
   "execution_count": 29,
   "metadata": {},
   "outputs": [
    {
     "name": "stdout",
     "output_type": "stream",
     "text": [
      "1 apple\n",
      "2 orange\n",
      "3 mangaos\n",
      "4 malberry\n"
     ]
    }
   ],
   "source": [
    "fruits=['apple', 'orange','mangaos','malberry']\n",
    "\n",
    "i=0\n",
    "while i<len(fruits):\n",
    "    print(i+1,fruits[i])\n",
    "    i+=1"
   ]
  },
  {
   "cell_type": "markdown",
   "metadata": {},
   "source": [
    "### methods of list"
   ]
  },
  {
   "cell_type": "code",
   "execution_count": 30,
   "metadata": {},
   "outputs": [
    {
     "name": "stdout",
     "output_type": "stream",
     "text": [
      "2\n"
     ]
    }
   ],
   "source": [
    "# count\n",
    "cars = ['Toyota','Chevrolet','Renault','Toyota']\n",
    "\n",
    "print(cars.count('Toyota'))"
   ]
  },
  {
   "cell_type": "code",
   "execution_count": 31,
   "metadata": {},
   "outputs": [
    {
     "name": "stdout",
     "output_type": "stream",
     "text": [
      "[1, 2, 3, 5, 7]\n"
     ]
    }
   ],
   "source": [
    "# sort\n",
    "numbers = [5,2,7,1,3]\n",
    "numbers.sort()\n",
    "print(numbers)"
   ]
  },
  {
   "cell_type": "code",
   "execution_count": 32,
   "metadata": {},
   "outputs": [
    {
     "name": "stdout",
     "output_type": "stream",
     "text": [
      "['A', 'B', 'D', 'F', 'K']\n"
     ]
    }
   ],
   "source": [
    "alphabates = ['A','F','B','K','D']\n",
    "alphabates.sort()\n",
    "print(alphabates)"
   ]
  },
  {
   "cell_type": "code",
   "execution_count": 33,
   "metadata": {},
   "outputs": [
    {
     "name": "stdout",
     "output_type": "stream",
     "text": [
      "[8, 6, 5, 2, 1]\n",
      "['K', 'F', 'D', 'B', 'A']\n"
     ]
    }
   ],
   "source": [
    "# descending order\n",
    "\n",
    "num2 = [1,5,2,6,8]\n",
    "num2.sort(reverse=True)\n",
    "print(num2)  # output: [8, 6, 5, 2, 1]\n",
    "\n",
    "alphabates2 = ['A','F','B','K','D']\n",
    "alphabates2.sort(reverse=True)\n",
    "print(alphabates2) # output: ['K', 'F', 'D', 'B', 'A']\n"
   ]
  },
  {
   "cell_type": "code",
   "execution_count": 34,
   "metadata": {},
   "outputs": [
    {
     "name": "stdout",
     "output_type": "stream",
     "text": [
      "[1, 2, 3, 5, 7]\n",
      "[9, 8, 5, 3, 1]\n"
     ]
    }
   ],
   "source": [
    "# sorted()\n",
    "# ascending order\n",
    "numbers = [5,2,7,1,3]\n",
    "rev_num = sorted(numbers)\n",
    "print(rev_num)\n",
    "\n",
    "# descending order\n",
    "num2 = [1,8,5,9,3]\n",
    "rev_num2 = sorted(num2,reverse=True)\n",
    "print(rev_num2)"
   ]
  },
  {
   "cell_type": "code",
   "execution_count": 35,
   "metadata": {},
   "outputs": [
    {
     "name": "stdout",
     "output_type": "stream",
     "text": [
      "0\n"
     ]
    }
   ],
   "source": [
    "# index\n",
    "\n",
    "bikes = ['Suzuki','TVS','Hero','Suzuki']\n",
    "print(bikes.index('Suzuki'))"
   ]
  },
  {
   "cell_type": "code",
   "execution_count": 36,
   "metadata": {},
   "outputs": [
    {
     "name": "stdout",
     "output_type": "stream",
     "text": [
      "[]\n"
     ]
    }
   ],
   "source": [
    "# clear - clear entire list\n",
    "num = [1,2,3,4,5]\n",
    "num.clear()\n",
    "print(num)"
   ]
  },
  {
   "cell_type": "code",
   "execution_count": 37,
   "metadata": {},
   "outputs": [
    {
     "name": "stdout",
     "output_type": "stream",
     "text": [
      "[2, 3, 5, 7, 11, 13]\n"
     ]
    }
   ],
   "source": [
    "# copy\n",
    "\n",
    "l1 = [2,3,5,7,11,13]\n",
    "l2 = l1.copy()\n",
    "\n",
    "print(l2)"
   ]
  },
  {
   "cell_type": "code",
   "execution_count": null,
   "metadata": {},
   "outputs": [],
   "source": []
  },
  {
   "cell_type": "markdown",
   "metadata": {},
   "source": [
    "## list comprehension"
   ]
  },
  {
   "cell_type": "code",
   "execution_count": 39,
   "metadata": {},
   "outputs": [
    {
     "data": {
      "text/plain": [
       "[1, 4, 9, 16, 25]"
      ]
     },
     "execution_count": 39,
     "metadata": {},
     "output_type": "execute_result"
    }
   ],
   "source": [
    "\n",
    "squares = [x ** 2 for x in range(1, 6)]  # Create a list of squares\n",
    "squares"
   ]
  },
  {
   "cell_type": "code",
   "execution_count": 40,
   "metadata": {},
   "outputs": [
    {
     "name": "stdout",
     "output_type": "stream",
     "text": [
      "[12, 8, 2, 6, 90]\n"
     ]
    }
   ],
   "source": [
    "my_list = [45,12,67,8,2,6,90,13,15]\n",
    "\n",
    "my_list2 = [i for i in my_list if i%2 == 0]\n",
    "\n",
    "print(my_list2)"
   ]
  },
  {
   "cell_type": "code",
   "execution_count": 41,
   "metadata": {},
   "outputs": [
    {
     "name": "stdout",
     "output_type": "stream",
     "text": [
      "['A', 'B', 144, 225, 49, 4, 9, 'O', 'M']\n"
     ]
    }
   ],
   "source": [
    "mixed_list = ['Apple','Banana',12,15,7,2,3,'Orange','Mango']\n",
    "\n",
    "# if type is equal to int then append square of the number\n",
    "# otherwise append first character of string\n",
    "\n",
    "mixed_list2 = [i**2 if type(i) == int else i[0] for i in mixed_list]\n",
    "print(mixed_list2)"
   ]
  }
 ],
 "metadata": {
  "kernelspec": {
   "display_name": "Python 3",
   "language": "python",
   "name": "python3"
  },
  "language_info": {
   "codemirror_mode": {
    "name": "ipython",
    "version": 3
   },
   "file_extension": ".py",
   "mimetype": "text/x-python",
   "name": "python",
   "nbconvert_exporter": "python",
   "pygments_lexer": "ipython3",
   "version": "3.11.1"
  }
 },
 "nbformat": 4,
 "nbformat_minor": 2
}
