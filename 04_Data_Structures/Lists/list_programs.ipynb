{
 "cells": [
  {
   "cell_type": "code",
   "execution_count": 1,
   "metadata": {},
   "outputs": [
    {
     "name": "stdout",
     "output_type": "stream",
     "text": [
      "15\n"
     ]
    }
   ],
   "source": [
    "# 1.sum of Find the Sum of List Elements\n",
    "\n",
    "lst=[1,2,3,4,5]\n",
    "count=0\n",
    "for i in lst:\n",
    "    count+=i\n",
    "print(count)"
   ]
  },
  {
   "cell_type": "code",
   "execution_count": 2,
   "metadata": {},
   "outputs": [
    {
     "data": {
      "text/plain": [
       "15"
      ]
     },
     "execution_count": 2,
     "metadata": {},
     "output_type": "execute_result"
    }
   ],
   "source": [
    "def sum_lst(lst):\n",
    "    total=0\n",
    "    for i in lst:\n",
    "        total+=i\n",
    "    return total\n",
    "lst=[1,2,3,4,5]\n",
    "sum_lst(lst)"
   ]
  },
  {
   "cell_type": "code",
   "execution_count": 3,
   "metadata": {},
   "outputs": [
    {
     "data": {
      "text/plain": [
       "15"
      ]
     },
     "execution_count": 3,
     "metadata": {},
     "output_type": "execute_result"
    }
   ],
   "source": [
    "# using sum()\n",
    "def sum_lst(lst):\n",
    "    return sum(lst)\n",
    "lst=[1,2,3,4,5]\n",
    "sum_lst(lst)"
   ]
  },
  {
   "cell_type": "code",
   "execution_count": 6,
   "metadata": {},
   "outputs": [
    {
     "data": {
      "text/plain": [
       "3"
      ]
     },
     "execution_count": 6,
     "metadata": {},
     "output_type": "execute_result"
    }
   ],
   "source": [
    "# 2. Count occurances of an element\n",
    "def occurances_lst(lst,target):\n",
    "    count=0\n",
    "    for i in lst:\n",
    "        if i==target:\n",
    "            count+=1\n",
    "    return count\n",
    "lst=[1,2,4,5,2,3,4,8,2,6]\n",
    "target=2\n",
    "occurances_lst(lst,target)"
   ]
  },
  {
   "cell_type": "code",
   "execution_count": 7,
   "metadata": {},
   "outputs": [
    {
     "name": "stdout",
     "output_type": "stream",
     "text": [
      "The element with the highest occurrence is 4 with 4 occurrences.\n"
     ]
    }
   ],
   "source": [
    "# write a program to find the occurrence of each elements in the list and print the element with the highest occurrence.\n",
    "\n",
    "from collections import Counter\n",
    "\n",
    "def find_highest_occurrence(lst):\n",
    "    # Count the occurrences of each element in the list\n",
    "    count = Counter(lst)\n",
    "    \n",
    "    # Find the element with the highest occurrence\n",
    "    most_common_element, highest_count = count.most_common(1)[0]\n",
    "    \n",
    "    return most_common_element, highest_count\n",
    "\n",
    "# Example usage\n",
    "lst = [1, 2, 2, 3, 3, 3, 4, 4, 4, 4]\n",
    "element, count = find_highest_occurrence(lst)\n",
    "print(f\"The element with the highest occurrence is {element} with {count} occurrences.\")\n"
   ]
  },
  {
   "cell_type": "code",
   "execution_count": 10,
   "metadata": {},
   "outputs": [
    {
     "name": "stdout",
     "output_type": "stream",
     "text": [
      "1 occurs 1 times\n",
      "2 occurs 3 times\n",
      "3 occurs 2 times\n",
      "4 occurs 1 times\n",
      "5 occurs 1 times\n",
      "6 occurs 1 times\n",
      "7 occurs 1 times\n",
      "Highest Occurence element is 2,with,3 times\n"
     ]
    }
   ],
   "source": [
    "\n",
    "lst=[1,2,3,4,5,6,7,2,2,3]\n",
    "result=[]\n",
    "\n",
    "for i in lst:\n",
    "\tif i not in result:\n",
    "\t\tresult.append(i)\n",
    "\n",
    "highest_occ_element=0\n",
    "highest_occurence=0\n",
    "\n",
    "for i in result:\n",
    "\tc=lst.count(i)\n",
    "\tprint(f\"{i} occurs {c} times\")\n",
    "\tif c>highest_occurence:\n",
    "\t\thighest_occurence=c\n",
    "\t\thighest_occ_element=i\n",
    "\n",
    "print(f\"Highest Occurence element is {highest_occ_element},with,{highest_occurence} times\")"
   ]
  },
  {
   "cell_type": "code",
   "execution_count": 12,
   "metadata": {},
   "outputs": [
    {
     "name": "stdout",
     "output_type": "stream",
     "text": [
      "The total number of elements in the list:  7\n"
     ]
    }
   ],
   "source": [
    "# 3. count the numbers of elements in a list\n",
    "\n",
    "def count_elements(lst):\n",
    "    count=0\n",
    "    for i in lst:\n",
    "        count+=1\n",
    "    return count\n",
    "lst=[2,3,7,8,4,5,6]\n",
    "print('The total number of elements in the list: ',count_elements(lst))"
   ]
  },
  {
   "cell_type": "code",
   "execution_count": 13,
   "metadata": {},
   "outputs": [
    {
     "data": {
      "text/plain": [
       "[5, 4, 3, 2, 1]"
      ]
     },
     "execution_count": 13,
     "metadata": {},
     "output_type": "execute_result"
    }
   ],
   "source": [
    "#4.  reverse a list\n",
    "\n",
    "def reverse_lst(lst):\n",
    "    return lst[::-1]\n",
    "lst=[1,2,3,4,5]\n",
    "reverse_lst(lst)"
   ]
  },
  {
   "cell_type": "code",
   "execution_count": 21,
   "metadata": {},
   "outputs": [
    {
     "name": "stdout",
     "output_type": "stream",
     "text": [
      "[5, 4, 3, 2, 1]\n"
     ]
    }
   ],
   "source": [
    "# revrse a list using two pointer approach\n",
    "def reverse_lst(lst):\n",
    "    low=0\n",
    "    high=(len(lst)-1)\n",
    "    while low<high:\n",
    "        lst[low],lst[high]=lst[high],lst[low]\n",
    "        low+=1\n",
    "        high-=1\n",
    "    return lst\n",
    "lst=[1,2,3,4,5]\n",
    "print(reverse_lst(lst))\n",
    "\n"
   ]
  },
  {
   "cell_type": "code",
   "execution_count": 28,
   "metadata": {},
   "outputs": [
    {
     "name": "stdout",
     "output_type": "stream",
     "text": [
      "[5, 4, 3, 2, 1]\n"
     ]
    }
   ],
   "source": [
    "# using reverse method\n",
    "def reverse_lst(lst):\n",
    "   lst.reverse()\n",
    "   return lst\n",
    "lst=[1,2,3,4,5]\n",
    "print(reverse_lst(lst))"
   ]
  },
  {
   "cell_type": "code",
   "execution_count": 16,
   "metadata": {},
   "outputs": [
    {
     "data": {
      "text/plain": [
       "[1, 2, 3, 4, 5]"
      ]
     },
     "execution_count": 16,
     "metadata": {},
     "output_type": "execute_result"
    }
   ],
   "source": [
    "#5. remove duplicates from list\n",
    "\n",
    "def dup(lst):\n",
    "    new=[]\n",
    "    for i in lst:\n",
    "        if i not in new:\n",
    "            new.append(i)\n",
    "    return new\n",
    "lst=[1,2,3,4,4,5,5]\n",
    "dup(lst)\n"
   ]
  },
  {
   "cell_type": "code",
   "execution_count": 18,
   "metadata": {},
   "outputs": [
    {
     "data": {
      "text/plain": [
       "[1, 2, 3, 4, 5]"
      ]
     },
     "execution_count": 18,
     "metadata": {},
     "output_type": "execute_result"
    }
   ],
   "source": [
    "# using the set() \n",
    "def dup(lst):\n",
    "    return list(set(lst))\n",
    "lst=[1,2,3,4,5,2,4,3]\n",
    "dup(lst)"
   ]
  },
  {
   "cell_type": "code",
   "execution_count": null,
   "metadata": {},
   "outputs": [],
   "source": []
  }
 ],
 "metadata": {
  "kernelspec": {
   "display_name": "Python 3",
   "language": "python",
   "name": "python3"
  },
  "language_info": {
   "codemirror_mode": {
    "name": "ipython",
    "version": 3
   },
   "file_extension": ".py",
   "mimetype": "text/x-python",
   "name": "python",
   "nbconvert_exporter": "python",
   "pygments_lexer": "ipython3",
   "version": "3.12.5"
  }
 },
 "nbformat": 4,
 "nbformat_minor": 2
}
