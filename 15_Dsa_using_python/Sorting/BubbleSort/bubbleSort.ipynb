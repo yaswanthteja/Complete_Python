{
 "cells": [
  {
   "cell_type": "markdown",
   "metadata": {},
   "source": [
    "### Bubble Sort"
   ]
  },
  {
   "cell_type": "code",
   "execution_count": 2,
   "metadata": {},
   "outputs": [
    {
     "name": "stdout",
     "output_type": "stream",
     "text": [
      "[1, 2, 4, 5, 8, 9]\n"
     ]
    }
   ],
   "source": [
    "def BubbleSort(Cuslist):\n",
    "    # Loop through each element in the list, except the last one\n",
    "    for i in range(len(Cuslist)-1):\n",
    "        # Loop through the list up to the already sorted portion\n",
    "        for j in range(len(Cuslist)-i-1):\n",
    "            # If the current element is greater than the next element, swap them\n",
    "            if Cuslist[j] > Cuslist[j+1]:\n",
    "                Cuslist[j], Cuslist[j+1] = Cuslist[j+1], Cuslist[j]\n",
    "    # Print the sorted list\n",
    "    print(Cuslist)\n",
    "\n",
    "# Example list to be sorted\n",
    "custlist = [2, 4, 8, 9, 1, 5]\n",
    "# Call the BubbleSort function with the example list\n",
    "BubbleSort(custlist)\n"
   ]
  },
  {
   "cell_type": "code",
   "execution_count": null,
   "metadata": {},
   "outputs": [],
   "source": []
  }
 ],
 "metadata": {
  "kernelspec": {
   "display_name": "Python 3",
   "language": "python",
   "name": "python3"
  },
  "language_info": {
   "codemirror_mode": {
    "name": "ipython",
    "version": 3
   },
   "file_extension": ".py",
   "mimetype": "text/x-python",
   "name": "python",
   "nbconvert_exporter": "python",
   "pygments_lexer": "ipython3",
   "version": "3.12.5"
  }
 },
 "nbformat": 4,
 "nbformat_minor": 2
}
