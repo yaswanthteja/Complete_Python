{
 "cells": [
  {
   "cell_type": "code",
   "execution_count": 2,
   "metadata": {
    "collapsed": true
   },
   "outputs": [
    {
     "name": "stdout",
     "output_type": "stream",
     "text": [
      "[14, 21, 27, 41, 43, 45, 46, 57, 70]\n"
     ]
    }
   ],
   "source": [
    "# Write a Python program to sort a list of elements using the bubble sort algorithm.\n",
    "# Note : According to Wikipedia \"Bubble sort, sometimes referred to as sinking sort, is a simple sorting algorithm that\n",
    "# repeatedly steps through the list to be sorted, compares each pair of adjacent items and swaps them if they are in the \n",
    "# wrong order. The pass through the list is repeated until no swaps are needed, which indicates that the list is sorted. \n",
    "# The algorithm, which is a comparison sort, is named for the way smaller elements \"bubble\" to the top of the list. \n",
    "# Although the algorithm is simple, it is too slow and impractical for most problems even when compared to insertion sort. \n",
    "# It can be practical if the input is usually in sort order but may occasionally have some out-of-order elements nearly \n",
    "# in position.\n",
    "\n",
    "def bubbleSort(nlist):\n",
    "    for passnum in range(len(nlist)-1,0,-1):\n",
    "        for i in range(passnum):\n",
    "            if nlist[i]>nlist[i+1]:\n",
    "                temp = nlist[i]\n",
    "                nlist[i] = nlist[i+1]\n",
    "                nlist[i+1] = temp\n",
    "\n",
    "nlist = [14,46,43,27,57,41,45,21,70]\n",
    "bubbleSort(nlist)\n",
    "print(nlist)"
   ]
  },
  {
   "cell_type": "code",
   "execution_count": 1,
   "metadata": {},
   "outputs": [
    {
     "name": "stdout",
     "output_type": "stream",
     "text": [
      "[14, 21, 27, 41, 43, 45, 46, 57, 70]\n"
     ]
    }
   ],
   "source": [
    "def BubbleSort(nlist):\n",
    "    for i in range(len(nlist)-1):\n",
    "        for j in range(len(nlist)-i-1):\n",
    "            if nlist[j]>nlist[j+1]:\n",
    "                nlist[j],nlist[j+1]=nlist[j+1],nlist[j]\n",
    "    print(nlist)\n",
    "nlist=[14,46,43,27,57,41,45,21,70]\n",
    "BubbleSort(nlist)"
   ]
  }
 ],
 "metadata": {
  "kernelspec": {
   "display_name": "Python 3",
   "language": "python",
   "name": "python3"
  },
  "language_info": {
   "codemirror_mode": {
    "name": "ipython",
    "version": 3
   },
   "file_extension": ".py",
   "mimetype": "text/x-python",
   "name": "python",
   "nbconvert_exporter": "python",
   "pygments_lexer": "ipython3",
   "version": "3.12.5"
  }
 },
 "nbformat": 4,
 "nbformat_minor": 2
}
