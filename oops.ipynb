{
 "cells": [
  {
   "cell_type": "code",
   "execution_count": 1,
   "metadata": {},
   "outputs": [],
   "source": [
    "from collections import Counter\n",
    "\n",
    "def find_repeated_characters(s):\n",
    "    char_count = Counter(s)\n",
    "    \n",
    "    for char, count in char_count.items():\n",
    "        if count > 2:\n",
    "            print(f\"Character: '{char}' occurs {count} times\")\n",
    "    \n",
    "\n",
    "string = \"Bangalore\"\n",
    "find_repeated_characters(string)\n"
   ]
  },
  {
   "cell_type": "code",
   "execution_count": 1,
   "metadata": {},
   "outputs": [],
   "source": [
    "from collections import Counter\n",
    "\n",
    "def find_repeated_chars(s):\n",
    "    char_count = Counter(s)\n",
    "    repeated_chars = {char: count for char, count in char_count.items() if count > 2}\n",
    "    for char, count in repeated_chars.items():\n",
    "        print(f\"'{char}' is repeated {count} times\")\n",
    "    return\n",
    "input_string = \"Bangalore\"\n",
    "find_repeated_chars(input_string)\n"
   ]
  },
  {
   "cell_type": "markdown",
   "metadata": {},
   "source": [
    "### OOP\n"
   ]
  },
  {
   "cell_type": "code",
   "execution_count": 4,
   "metadata": {},
   "outputs": [
    {
     "name": "stdout",
     "output_type": "stream",
     "text": [
      "Characters repeated more than twice:\n",
      "' ' is repeated 5 times\n",
      "'i' is repeated 4 times\n",
      "'a' is repeated 4 times\n",
      "'n' is repeated 4 times\n"
     ]
    }
   ],
   "source": [
    "from collections import Counter\n",
    "\n",
    "def find_repeated_chars(s):\n",
    "    char_count = Counter(s)\n",
    "    repeated_chars = {char: count for char, count in char_count.items() if count > 2}\n",
    "    \n",
    "    if repeated_chars:\n",
    "        print(\"Characters repeated more than twice:\")\n",
    "        for char, count in repeated_chars.items():\n",
    "            print(f\"'{char}' is repeated {count} times\")\n",
    "    else:\n",
    "        print(\"No characters are repeated more than twice.\")\n",
    "\n",
    "input_string = \"It is raining today in Bangalore\"\n",
    "find_repeated_chars(input_string)\n"
   ]
  },
  {
   "cell_type": "markdown",
   "metadata": {},
   "source": []
  },
  {
   "cell_type": "code",
   "execution_count": 5,
   "metadata": {},
   "outputs": [
    {
     "name": "stdout",
     "output_type": "stream",
     "text": [
      "4 has factors [2] in the set\n",
      "100 has factors [2, 4, 5] in the set\n",
      "78 has factors [2, 3] in the set\n",
      "15 has factors [3, 5] in the set\n"
     ]
    }
   ],
   "source": [
    "def find_factors_in_set(numbers):\n",
    "    factors_dict = {}\n",
    "    \n",
    "    for num in numbers:\n",
    "        factors = [i for i in numbers if i != num and num % i == 0]\n",
    "        if factors:\n",
    "            factors_dict[num] = factors\n",
    "    \n",
    "    for num, factors in factors_dict.items():\n",
    "        print(f\"{num} has factors {factors} in the set\")\n",
    "\n",
    "\n",
    "numbers_set = {15, 5, 78, 3, 100, 2, 4}\n",
    "find_factors_in_set(numbers_set)\n"
   ]
  },
  {
   "cell_type": "code",
   "execution_count": null,
   "metadata": {},
   "outputs": [],
   "source": [
    "from collections import Counter\n",
    "\n",
    "def find_repeated_chars(s):\n",
    "    # Counting characters\n",
    "    char_count = Counter(s)\n",
    "    \n",
    "    # characters repeated more than twice\n",
    "    repeated_chars = {char: count for char, count in char_count.items() if count > 2}\n",
    "    \n",
    "    #  characters repeated more than twice\n",
    "    if repeated_chars:\n",
    "        print(\"Characters repeated more than twice:\")\n",
    "        for char, count in repeated_chars.items():\n",
    "            print(f\"'{char}' is repeated {count} times\")\n",
    "    else:\n",
    "        print(\"No characters are repeated more than twice.\")\n",
    "\n",
    "input_string = \"It is raining today in Bangalore\"\n",
    "find_repeated_chars(input_string)\n"
   ]
  },
  {
   "cell_type": "code",
   "execution_count": 6,
   "metadata": {},
   "outputs": [
    {
     "name": "stdout",
     "output_type": "stream",
     "text": [
      "Number: 4, Factors: [2]\n",
      "Number: 100, Factors: [2, 4, 5]\n",
      "Number: 78, Factors: [2, 3]\n",
      "Number: 15, Factors: [3, 5]\n"
     ]
    }
   ],
   "source": [
    "'''\n",
    "2. Given a set of numbers, find out for any number in the set if its factor is present in the set, if yes print the number and factor/s.\n",
    "\n",
    "Eg. Given {15, 5, 78, 3, 100, 2, 4}\n",
    "'''\n",
    "\n",
    "def find_factors_in_set(numbers):\n",
    "    # Iterating each number\n",
    "    for num in numbers:\n",
    "        # Check each  factor\n",
    "        factors = [factor for factor in numbers if factor != num and num % factor == 0]\n",
    "        \n",
    "        #  print the number and its factors\n",
    "        if factors:\n",
    "            print(f\"Number: {num}, Factors: {factors}\")\n",
    "\n",
    "\n",
    "numbers = {15, 5, 78, 3, 100, 2, 4}\n",
    "find_factors_in_set(numbers)\n"
   ]
  },
  {
   "cell_type": "code",
   "execution_count": 10,
   "metadata": {},
   "outputs": [
    {
     "name": "stdout",
     "output_type": "stream",
     "text": [
      "The value of 'JAVA' is: 34\n",
      "The value of 'PYTHON' is: 98\n"
     ]
    },
    {
     "data": {
      "text/plain": [
       "'# To find the value of  string:\\ninput_string = \"YOURSTRING\"\\nresult = string_value(input_string)\\nprint(f\"The value of \\'{input_string}\\' is: {result}\")'"
      ]
     },
     "execution_count": 10,
     "metadata": {},
     "output_type": "execute_result"
    }
   ],
   "source": [
    "def string_value(s):\n",
    "    #  value of the string  of the characters in the alphabet\n",
    "    value = sum(ord(char) - ord('A') + 1 for char in s)\n",
    "    return value\n",
    "\n",
    "\n",
    "string1 = \"JAVA\"\n",
    "string2 = \"PYTHON\"\n",
    "value1 = string_value(string1)\n",
    "value2 = string_value(string2)\n",
    "\n",
    "print(f\"The value of '{string1}' is: {value1}\")\n",
    "print(f\"The value of '{string2}' is: {value2}\")\n",
    "\n",
    "'''# To find the value of  string:\n",
    "input_string = \"YOURSTRING\"\n",
    "result = string_value(input_string)\n",
    "print(f\"The value of '{input_string}' is: {result}\")'''\n"
   ]
  },
  {
   "cell_type": "code",
   "execution_count": 9,
   "metadata": {},
   "outputs": [
    {
     "name": "stdout",
     "output_type": "stream",
     "text": [
      "34\n",
      "98\n"
     ]
    }
   ],
   "source": [
    "def string_value(s):\n",
    "    sum_chars = 0\n",
    "    for c in s:\n",
    "        if 'A' <= c <= 'Z':\n",
    "            sum_chars += (ord(c) - ord('A') + 1)\n",
    "\n",
    "    \n",
    "    return sum_chars\n",
    "\n",
    "string1 = \"JAVA\"\n",
    "string2 = \"PYTHON\"\n",
    "result1= string_value(string1)\n",
    "result2 = string_value(string2)\n",
    "print(result1)\n",
    "print(result2)\n"
   ]
  },
  {
   "cell_type": "code",
   "execution_count": 11,
   "metadata": {},
   "outputs": [
    {
     "name": "stdout",
     "output_type": "stream",
     "text": [
      "The real word for 'XCSXP' is: 'INDIA'\n"
     ]
    }
   ],
   "source": [
    "def decrypt_word(encrypted_word):\n",
    "    decrypted_word = \"\"\n",
    "    shift = 15\n",
    "    for char in encrypted_word:\n",
    "        # Calculate the original character by shifting backwards\n",
    "        original_char = chr(((ord(char) - ord('A') - shift) % 26) + ord('A'))\n",
    "        decrypted_word += original_char\n",
    "    return decrypted_word\n",
    "\n",
    "encrypted_word = \"XCSXP\"\n",
    "real_word = decrypt_word(encrypted_word)\n",
    "print(f\"The real word for '{encrypted_word}' is: '{real_word}'\")\n"
   ]
  },
  {
   "cell_type": "code",
   "execution_count": 12,
   "metadata": {},
   "outputs": [
    {
     "name": "stdout",
     "output_type": "stream",
     "text": [
      "The decrypted word for 'XCSXP' is 'INDIA'\n"
     ]
    }
   ],
   "source": [
    "def decrypt_word(encrypted_word, cipher_dict):\n",
    "    decrypted_word = \"\"\n",
    "    for char in encrypted_word:\n",
    "        if char in cipher_dict:\n",
    "            decrypted_word += cipher_dict[char]\n",
    "        else:\n",
    "            decrypted_word += char  # If character is not in the cipher dictionary, keep it as is\n",
    "    return decrypted_word\n",
    "\n",
    "# Example substitution cipher dictionary\n",
    "cipher_dict = {\n",
    "    'X': 'I', 'C': 'N', 'S': 'D', 'P': 'A'\n",
    "}\n",
    "\n",
    "encrypted_word = \"XCSXP\"\n",
    "decrypted_word = decrypt_word(encrypted_word, cipher_dict)\n",
    "print(f\"The decrypted word for '{encrypted_word}' is '{decrypted_word}'\")\n"
   ]
  },
  {
   "cell_type": "code",
   "execution_count": 13,
   "metadata": {},
   "outputs": [
    {
     "name": "stdout",
     "output_type": "stream",
     "text": [
      "-1\n",
      "-1\n"
     ]
    }
   ],
   "source": [
    "def find_equilibrium_index(arr):\n",
    "    total_sum = sum(arr)\n",
    "    left_sum = 0\n",
    "    \n",
    "    for i, num in enumerate(arr):\n",
    "        total_sum -= num  # Now total_sum is the sum of elements to the right of index i\n",
    "        \n",
    "        if left_sum == total_sum:\n",
    "            return i\n",
    "        \n",
    "        left_sum += num  # Update left_sum for the next iteration\n",
    "    \n",
    "    return -1\n",
    "\n",
    "# Example usage\n",
    "arr1 = [15, 5, 3, 43, 16, 10, 20, 8, 12]\n",
    "arr2 = [23, 5, 8, 32, 55, 87]\n",
    "\n",
    "print(find_equilibrium_index(arr1))  # Output: -1 (no such position)\n",
    "print(find_equilibrium_index(arr2))  # Output: -1 (no such position)\n"
   ]
  },
  {
   "cell_type": "code",
   "execution_count": 14,
   "metadata": {},
   "outputs": [
    {
     "name": "stdout",
     "output_type": "stream",
     "text": [
      "Position in arr1: -1\n",
      "Position in arr2: -1\n"
     ]
    }
   ],
   "source": [
    "def find_equal_sum_position(arr):\n",
    "    total_sum = sum(arr)\n",
    "    left_sum = 0\n",
    "    \n",
    "    for i, num in enumerate(arr):\n",
    "        left_sum += num\n",
    "        \n",
    "        # Right sum would be the total sum minus the current left sum\n",
    "        right_sum = total_sum - left_sum\n",
    "        \n",
    "        if left_sum == right_sum + num:\n",
    "            return i\n",
    "    \n",
    "    return -1\n",
    "\n",
    "# Example usage\n",
    "arr1 = [15, 5, 3, 43, 16, 10, 20, 8, 12]\n",
    "arr2 = [23, 5, 8, 32, 55, 87]\n",
    "\n",
    "position1 = find_equal_sum_position(arr1)\n",
    "position2 = find_equal_sum_position(arr2)\n",
    "\n",
    "print(f\"Position in arr1: {position1}\")  # Output should be the index where the condition holds, or -1\n",
    "print(f\"Position in arr2: {position2}\")  # Output should be -1 if no such position exists\n"
   ]
  },
  {
   "cell_type": "code",
   "execution_count": 15,
   "metadata": {},
   "outputs": [
    {
     "name": "stdout",
     "output_type": "stream",
     "text": [
      "Balanced position in arr1: 3\n",
      "Balanced position in arr2: -1\n"
     ]
    }
   ],
   "source": [
    "def find_balanced_position(arr):\n",
    "    total_sum = sum(arr)\n",
    "    left_sum = 0\n",
    "    \n",
    "    for i, num in enumerate(arr):\n",
    "        left_sum += num\n",
    "        \n",
    "        # Calculate right sum by subtracting left sum from total sum and the current element\n",
    "        right_sum = total_sum - left_sum\n",
    "        \n",
    "        # Check if left sum equals right sum\n",
    "        if left_sum == right_sum:\n",
    "            return i\n",
    "    \n",
    "    return -1\n",
    "\n",
    "# Example usage\n",
    "arr1 = [15, 5, 3, 43, 16, 10, 20, 8, 12]\n",
    "arr2 = [23, 5, 8, 32, 55, 87]\n",
    "\n",
    "position1 = find_balanced_position(arr1)\n",
    "position2 = find_balanced_position(arr2)\n",
    "\n",
    "print(f\"Balanced position in arr1: {position1}\")  # Expected output: Index 4\n",
    "print(f\"Balanced position in arr2: {position2}\")  # Expected output: -1\n"
   ]
  },
  {
   "cell_type": "code",
   "execution_count": 16,
   "metadata": {},
   "outputs": [
    {
     "name": "stdout",
     "output_type": "stream",
     "text": [
      "-1\n",
      "-1\n"
     ]
    }
   ],
   "source": [
    "def find_equilibrium_index(arr):\n",
    "    total_sum = sum(arr)\n",
    "    left_sum = 0\n",
    "    \n",
    "    for i, num in enumerate(arr):\n",
    "        total_sum -= num  # Now total_sum is the sum of elements to the right of index i\n",
    "        \n",
    "        if left_sum == total_sum:\n",
    "            return i\n",
    "        \n",
    "        left_sum += num  # Update left_sum for the next iteration\n",
    "    \n",
    "    return -1\n",
    "\n",
    "# Example usage\n",
    "arr1 = [15, 5, 3, 43, 16, 10, 20, 8, 12]\n",
    "arr2 = [23, 5, 8, 32, 55, 87]\n",
    "\n",
    "print(find_equilibrium_index(arr1))  # Output: -1 (no such position)\n",
    "print(find_equilibrium_index(arr2))  # Output: -1 (no such position)\n"
   ]
  },
  {
   "cell_type": "code",
   "execution_count": 17,
   "metadata": {},
   "outputs": [
    {
     "name": "stdout",
     "output_type": "stream",
     "text": [
      "Your other name is: bzhdzmgsgvqz\n"
     ]
    }
   ],
   "source": [
    "def swap_alphabets(name):\n",
    "    alphabet = 'abcdefghijklmnopqrstuvwxyz'\n",
    "    # dictionary for c\n",
    "    swap_dict = {alphabet[i]: alphabet[25 - i] for i in range(26)}\n",
    "    swap_dict.update({alphabet[i].upper(): alphabet[25 - i].upper() for i in range(26)})\n",
    "    \n",
    "    # Swap the letters in the name\n",
    "    other_name = ''.join(swap_dict.get(char, char) for char in name)\n",
    "    return other_name\n",
    "\n",
    "name = \"yaswanthteja\"\n",
    "other_name = swap_alphabets(name)\n",
    "print(f\"The other name is: {other_name}\")\n"
   ]
  },
  {
   "cell_type": "code",
   "execution_count": 19,
   "metadata": {},
   "outputs": [
    {
     "name": "stdout",
     "output_type": "stream",
     "text": [
      "The position in arr1: -1\n",
      "The  position in arr2: -1\n"
     ]
    }
   ],
   "source": [
    "def find_position(arr):\n",
    "    total_sum = sum(arr)\n",
    "    left_sum = 0\n",
    "    \n",
    "    for i, num in enumerate(arr):\n",
    "        # Right sum is calculated as total sum minus left sum minus the current element\n",
    "        right_sum = total_sum - left_sum - num\n",
    "        if left_sum == right_sum:\n",
    "            return i\n",
    "        # Updating the  left_sum for the next iteration\n",
    "        left_sum += num\n",
    "    return -1\n",
    "\n",
    "arr1 = [15, 5, 3, 43, 16, 10, 20, 8, 12]\n",
    "arr2 = [23, 5, 8, 32, 55, 87]\n",
    "position1 = find_position(arr1)\n",
    "position2 = find_position(arr2)\n",
    "print(f\"The position in arr1: {position1}\")  \n",
    "print(f\"The  position in arr2: {position2}\")  \n"
   ]
  },
  {
   "cell_type": "code",
   "execution_count": 20,
   "metadata": {},
   "outputs": [
    {
     "name": "stdout",
     "output_type": "stream",
     "text": [
      "Characters repeated more than twice:\n",
      "' ' is repeated 5 times\n",
      "'i' is repeated 4 times\n",
      "'a' is repeated 4 times\n",
      "'n' is repeated 4 times\n"
     ]
    }
   ],
   "source": [
    "from collections import Counter\n",
    "\n",
    "def find_repeated_chars(s):\n",
    "    # Counting characters\n",
    "    char_count = Counter(s)\n",
    "    \n",
    "    # characters repeated more than twice\n",
    "    repeated_chars = {char: count for char, count in char_count.items() if count > 2}\n",
    "    #  characters repeated more than twice\n",
    "    if repeated_chars:\n",
    "        print(\"Characters repeated more than twice:\")\n",
    "        for char, count in repeated_chars.items():\n",
    "            print(f\"'{char}' is repeated {count} times\")\n",
    "    else:\n",
    "        print(\"No characters are repeated more than twice.\")\n",
    "input_string = \"It is raining today in Bangalore\"\n",
    "find_repeated_chars(input_string)\n"
   ]
  },
  {
   "cell_type": "code",
   "execution_count": 21,
   "metadata": {},
   "outputs": [
    {
     "name": "stdout",
     "output_type": "stream",
     "text": [
      "Number: 4, Factors: [2]\n",
      "Number: 100, Factors: [2, 4, 5]\n",
      "Number: 78, Factors: [2, 3]\n",
      "Number: 15, Factors: [3, 5]\n"
     ]
    }
   ],
   "source": [
    "def find_factors_in_set(numbers):\n",
    "    # Iterating each number\n",
    "    for num in numbers:\n",
    "        # Check each factor\n",
    "        factors = [factor for factor in numbers if factor != num and num % factor == 0]\n",
    "        \n",
    "        #  print the number and its factors\n",
    "        if factors:\n",
    "            print(f\"Number: {num}, Factors: {factors}\")\n",
    "\n",
    "numbers = {15, 5, 78, 3, 100, 2, 4}\n",
    "find_factors_in_set(numbers)\n"
   ]
  },
  {
   "cell_type": "code",
   "execution_count": 22,
   "metadata": {},
   "outputs": [
    {
     "name": "stdout",
     "output_type": "stream",
     "text": [
      "The value of 'JAVA' is: 34\n",
      "The value of 'PYTHON' is: 98\n"
     ]
    }
   ],
   "source": [
    "def string_value(s):\n",
    "    #  value of the string  of the characters in the alphabet\n",
    "    value = sum(ord(char) - ord('A') + 1 for char in s)\n",
    "    return value\n",
    "\n",
    "string1 = \"JAVA\"\n",
    "string2 = \"PYTHON\"\n",
    "value1 = string_value(string1)\n",
    "value2 = string_value(string2)\n",
    "\n",
    "print(f\"The value of '{string1}' is: {value1}\")\n",
    "print(f\"The value of '{string2}' is: {value2}\")\n",
    "\n"
   ]
  },
  {
   "cell_type": "code",
   "execution_count": 23,
   "metadata": {},
   "outputs": [
    {
     "name": "stdout",
     "output_type": "stream",
     "text": [
      "4 has factors [2] in the set\n",
      "100 has factors [2, 4, 5] in the set\n",
      "78 has factors [2, 3] in the set\n",
      "15 has factors [3, 5] in the set\n"
     ]
    }
   ],
   "source": [
    "def find_factors_in_set(numbers):\n",
    "    factors_dict = {}\n",
    "    for num in numbers:\n",
    "        factors = [i for i in numbers if i != num and num % i == 0]\n",
    "        if factors:\n",
    "            factors_dict[num] = factors\n",
    "    for num, factors in factors_dict.items():\n",
    "        print(f\"{num} has factors {factors} in the set\")\n",
    "# Example usage\n",
    "numbers_set = {15, 5, 78, 3, 100, 2, 4}\n",
    "find_factors_in_set(numbers_set)\n"
   ]
  },
  {
   "cell_type": "code",
   "execution_count": 24,
   "metadata": {},
   "outputs": [
    {
     "name": "stdout",
     "output_type": "stream",
     "text": [
      "34\n",
      "98\n"
     ]
    }
   ],
   "source": [
    "def string_value(s):\n",
    "    sum_chars = 0\n",
    "    for c in s:\n",
    "        if 'A' <= c <= 'Z':\n",
    "            sum_chars += (ord(c) - ord('A') + 1)\n",
    "    return sum_chars\n",
    "string1 = \"JAVA\"\n",
    "string2 = \"PYTHON\"\n",
    "result1= string_value(string1)\n",
    "result2 = string_value(string2)\n",
    "print(result1)\n",
    "print(result2)\n",
    "\n"
   ]
  },
  {
   "cell_type": "code",
   "execution_count": 25,
   "metadata": {},
   "outputs": [
    {
     "name": "stdout",
     "output_type": "stream",
     "text": [
      "The real word for 'XCSXP' is: 'INDIA'\n"
     ]
    }
   ],
   "source": [
    "def decrypt_word(encrypted_word):\n",
    "    decrypted_word = \"\"\n",
    "    shift = 15\n",
    "    for char in encrypted_word:\n",
    "        # Calculate the original character by shifting backwards\n",
    "        original_char = chr(((ord(char) - ord('A') - shift) % 26) + ord('A'))\n",
    "        decrypted_word += original_char\n",
    "    return decrypted_word\n",
    "\n",
    "encrypted_word = \"XCSXP\"\n",
    "real_word = decrypt_word(encrypted_word)\n",
    "print(f\"The real word for '{encrypted_word}' is: '{real_word}'\")\n"
   ]
  },
  {
   "cell_type": "code",
   "execution_count": 26,
   "metadata": {},
   "outputs": [
    {
     "name": "stdout",
     "output_type": "stream",
     "text": [
      "-1\n",
      "-1\n"
     ]
    }
   ],
   "source": [
    "def find_equilibrium_index(arr):\n",
    "    total_sum = sum(arr)\n",
    "    left_sum = 0\n",
    "    \n",
    "    for i, num in enumerate(arr):\n",
    "        total_sum -= num  # Now total_sum is the sum of elements to the right of index i\n",
    "        \n",
    "        if left_sum == total_sum:\n",
    "            return i\n",
    "        \n",
    "        left_sum += num  # Update left_sum for the next iteration\n",
    "    \n",
    "    return -1\n",
    "arr1 = [15, 5, 3, 43, 16, 10, 20, 8, 12]\n",
    "arr2 = [23, 5, 8, 32, 55, 87]\n",
    "\n",
    "print(find_equilibrium_index(arr1))  \n",
    "print(find_equilibrium_index(arr2))  \n"
   ]
  },
  {
   "cell_type": "code",
   "execution_count": 27,
   "metadata": {},
   "outputs": [
    {
     "name": "stdout",
     "output_type": "stream",
     "text": [
      "Your other name is: olpvhs\n"
     ]
    }
   ],
   "source": [
    "def swap_alphabets(name):\n",
    "    # Create a dictionary for the substitution cipher\n",
    "    alphabet = 'abcdefghijklmnopqrstuvwxyz'\n",
    "    swap_dict = {alphabet[i]: alphabet[25 - i] for i in range(26)}\n",
    "    swap_dict.update({alphabet[i].upper(): alphabet[25 - i].upper() for i in range(26)})\n",
    "    \n",
    "    # Swap the letters in the name\n",
    "    other_name = ''.join(swap_dict.get(char, char) for char in name)\n",
    "    return other_name\n",
    "\n",
    "\n",
    "name = \"lokesh\"\n",
    "other_name = swap_alphabets(name)\n",
    "print(f\"Your other name is: {other_name}\")\n"
   ]
  },
  {
   "cell_type": "code",
   "execution_count": null,
   "metadata": {},
   "outputs": [],
   "source": []
  }
 ],
 "metadata": {
  "kernelspec": {
   "display_name": "Python 3",
   "language": "python",
   "name": "python3"
  },
  "language_info": {
   "codemirror_mode": {
    "name": "ipython",
    "version": 3
   },
   "file_extension": ".py",
   "mimetype": "text/x-python",
   "name": "python",
   "nbconvert_exporter": "python",
   "pygments_lexer": "ipython3",
   "version": "3.11.1"
  }
 },
 "nbformat": 4,
 "nbformat_minor": 2
}
