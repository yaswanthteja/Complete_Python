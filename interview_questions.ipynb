{
 "cells": [
  {
   "cell_type": "code",
   "execution_count": 1,
   "metadata": {},
   "outputs": [
    {
     "name": "stdout",
     "output_type": "stream",
     "text": [
      "1023 3201\n"
     ]
    }
   ],
   "source": [
    "#reverse a number\n",
    "\n",
    "num=int(input(\"Enter a number: \"))\n",
    "temp=num\n",
    "reverse=0\n",
    "while num>0:\n",
    "    remainder=num%10\n",
    "    reverse=(reverse*10)+remainder\n",
    "    num=num//10\n",
    "print(temp,reverse)"
   ]
  },
  {
   "cell_type": "code",
   "execution_count": 1,
   "metadata": {},
   "outputs": [
    {
     "name": "stdout",
     "output_type": "stream",
     "text": [
      "0\n",
      "1\n",
      "1\n",
      "2\n",
      "3\n"
     ]
    }
   ],
   "source": [
    "num=int(input(\"Enter a number: \"))\n",
    "first=0\n",
    "second=1\n",
    "for i in range(num):\n",
    "    print(first)\n",
    "    temp=first\n",
    "    first=second\n",
    "    second=temp+second\n"
   ]
  },
  {
   "cell_type": "code",
   "execution_count": 2,
   "metadata": {},
   "outputs": [
    {
     "name": "stdout",
     "output_type": "stream",
     "text": [
      "Constant\n"
     ]
    }
   ],
   "source": [
    "Alphabet=input(\"Enter alphabet: \")\n",
    "vovels=['A','E','I','O','U','a','e','i','o','u']\n",
    "if Alphabet in vovels:\n",
    "    print(\"Alphbet is vovel\")\n",
    "else:\n",
    "    print(\"Constant\")"
   ]
  },
  {
   "cell_type": "code",
   "execution_count": 3,
   "metadata": {},
   "outputs": [
    {
     "name": "stdout",
     "output_type": "stream",
     "text": [
      "leap year\n"
     ]
    }
   ],
   "source": [
    "year=int(input(\"Enter a year:\"))\n",
    "if year %4==0 and year %100==0 or year %400==0:\n",
    "    print(\"leap year\")\n",
    "else:\n",
    "    print(\"not a leap year\")"
   ]
  },
  {
   "cell_type": "code",
   "execution_count": 2,
   "metadata": {},
   "outputs": [
    {
     "name": "stdout",
     "output_type": "stream",
     "text": [
      "1023 3201\n"
     ]
    }
   ],
   "source": [
    "num=(int(input(\"Enter a number: \")))\n",
    "temp=num\n",
    "reverse=0\n",
    "while num>0:\n",
    "    remainder=num%10\n",
    "    reverse=(reverse*10)+remainder\n",
    "    num=num//10\n",
    "print(temp,reverse)"
   ]
  },
  {
   "cell_type": "code",
   "execution_count": 5,
   "metadata": {},
   "outputs": [
    {
     "name": "stdout",
     "output_type": "stream",
     "text": [
      "Number 1634 is a Armstrong number\n"
     ]
    }
   ],
   "source": [
    "# Armstrong number\n",
    "input_value=input(\"Enter a number:\")\n",
    "length=len(input_value)\n",
    "armstrong_num=0\n",
    "for num in input_value:\n",
    "    armstrong_num+=int(num)**length\n",
    "if armstrong_num==int(input_value):\n",
    "   print(f\"Number {input_value} is a Armstrong number\")\n",
    "else:\n",
    "    print(\"Not a Armstrong number\")"
   ]
  },
  {
   "cell_type": "code",
   "execution_count": 8,
   "metadata": {},
   "outputs": [
    {
     "name": "stdout",
     "output_type": "stream",
     "text": [
      "Hello, Jim!\n"
     ]
    }
   ],
   "source": [
    "names = [\"Jacob\", \"Joe\", \"Jim\"]\n",
    "\n",
    "if (name := input(\"Enter a name: \")) in names:\n",
    "    print(f\"Hello, {name}!\")\n",
    "else:\n",
    "    print(\"Name not found.\")"
   ]
  },
  {
   "cell_type": "code",
   "execution_count": 17,
   "metadata": {},
   "outputs": [
    {
     "name": "stdout",
     "output_type": "stream",
     "text": [
      "30\n"
     ]
    }
   ],
   "source": [
    "x=10\n",
    "y=20\n",
    "while y!=0:\n",
    "    temp=x&y\n",
    "    x=x^y\n",
    "    y=temp<<1\n",
    "print(x)"
   ]
  },
  {
   "cell_type": "code",
   "execution_count": 18,
   "metadata": {},
   "outputs": [
    {
     "name": "stdout",
     "output_type": "stream",
     "text": [
      "Armstrong number\n"
     ]
    }
   ],
   "source": [
    "input_num=input(\"Enter a number: \")\n",
    "length=len(input_num)\n",
    "armstrong_num=0\n",
    "for num in input_num:\n",
    "    armstrong_num+=int(num)**length\n",
    "if armstrong_num==int(input_num):\n",
    "    print(\"Armstrong number\")\n",
    "else:\n",
    "    print(\"Not an Armstrong number\")"
   ]
  },
  {
   "cell_type": "code",
   "execution_count": 20,
   "metadata": {},
   "outputs": [
    {
     "name": "stdout",
     "output_type": "stream",
     "text": [
      "1023 3201\n"
     ]
    }
   ],
   "source": [
    "#reverse a number\n",
    "num=int(input(\"Enter a number: \"))\n",
    "temp=num\n",
    "reverse=0\n",
    "while num>0:\n",
    "    remainder=num%10\n",
    "    reverse=(reverse*10)+remainder\n",
    "    num=num//10\n",
    "print(temp,reverse)"
   ]
  },
  {
   "cell_type": "code",
   "execution_count": 21,
   "metadata": {},
   "outputs": [
    {
     "name": "stdout",
     "output_type": "stream",
     "text": [
      "l\n",
      "e\n",
      "e\n",
      "p\n",
      "u\n"
     ]
    }
   ],
   "source": [
    "# seperate characters \n",
    "def seperate_char(input_string):\n",
    "    characters=list(input_string)\n",
    "    return characters\n",
    "input_string=input(\"Enter a string:\")\n",
    "result=seperate_char(input_string)\n",
    "for i in result:\n",
    "    print(i)"
   ]
  },
  {
   "cell_type": "code",
   "execution_count": 24,
   "metadata": {},
   "outputs": [
    {
     "name": "stdout",
     "output_type": "stream",
     "text": [
      "Nomi\n"
     ]
    }
   ],
   "source": [
    "# single inheritence \n",
    "class Company:\n",
    "    def __init__(self,name) -> None:\n",
    "        self.name=name\n",
    "class Employee(Company):\n",
    "    def info(self):\n",
    "        print(self.name)\n",
    "obj=Employee(\"Nomi\")\n",
    "obj.info()\n",
    "    "
   ]
  },
  {
   "cell_type": "code",
   "execution_count": 25,
   "metadata": {},
   "outputs": [
    {
     "data": {
      "text/plain": [
       "8"
      ]
     },
     "execution_count": 25,
     "metadata": {},
     "output_type": "execute_result"
    }
   ],
   "source": [
    "# multiple inheritence\n",
    "class Superclass1:\n",
    "    num1=3\n",
    "class Superclass2:\n",
    "    num2=5\n",
    "class Subclass(Superclass1,Superclass2):\n",
    "    def addition(self):\n",
    "        return self.num1+self.num2\n",
    "obj=Subclass()\n",
    "obj.addition()\n"
   ]
  },
  {
   "cell_type": "code",
   "execution_count": 26,
   "metadata": {},
   "outputs": [
    {
     "name": "stdout",
     "output_type": "stream",
     "text": [
      "PythonProgramming\n"
     ]
    }
   ],
   "source": [
    "# multi level\n",
    "\n",
    "class Grand:\n",
    "    str1='Python'\n",
    "class Parent(Grand):\n",
    "    str2='Programming'\n",
    "class Child(Parent):\n",
    "    def get_str(self):\n",
    "        print(self.str1+self.str2)\n",
    "obj=Child()\n",
    "obj.get_str()\n"
   ]
  },
  {
   "cell_type": "code",
   "execution_count": 27,
   "metadata": {},
   "outputs": [
    {
     "name": "stdout",
     "output_type": "stream",
     "text": [
      "YU\n",
      "YU\n"
     ]
    }
   ],
   "source": [
    "# Hierarchical Inheritence\n",
    "class Company:\n",
    "    c_name=\"YU\"\n",
    "class Employee(Company):\n",
    "    def info(self):\n",
    "        print(self.c_name)\n",
    "class Branch(Company):\n",
    "    def show(self):\n",
    "        print(self.c_name)\n",
    "obj1=Employee()\n",
    "obj1.info()\n",
    "obj2=Branch()\n",
    "obj2.show()"
   ]
  },
  {
   "cell_type": "code",
   "execution_count": 40,
   "metadata": {},
   "outputs": [
    {
     "name": "stdout",
     "output_type": "stream",
     "text": [
      "10\n"
     ]
    }
   ],
   "source": [
    "# hybrid\n",
    "class X:\n",
    "    num=10\n",
    "class A(X):\n",
    "    pass\n",
    "class B(X):\n",
    "    pass\n",
    "class C(A,B):\n",
    "    pass\n",
    "obj=C()\n",
    "print(C.num) "
   ]
  },
  {
   "cell_type": "code",
   "execution_count": 46,
   "metadata": {},
   "outputs": [
    {
     "name": "stdout",
     "output_type": "stream",
     "text": [
      "Yuio\n",
      "250000\n",
      "Yuio 250000\n"
     ]
    }
   ],
   "source": [
    "class Company:\n",
    "    def details(self,name,sal):\n",
    "        self.name=name\n",
    "        self.sal=sal\n",
    "class Person(Company):\n",
    "    def info(self):\n",
    "        print(self.name)\n",
    "class Employee(Company):\n",
    "    def show(self):\n",
    "        print(self.sal)\n",
    "class Hr(Employee,Person):\n",
    "    def hr_details(self):\n",
    "        print(self.name,self.sal)\n",
    "obj=Hr()\n",
    "obj.details(\"Yuio\",250000)\n",
    "obj.info()\n",
    "obj.show()\n",
    "obj.hr_details()"
   ]
  },
  {
   "cell_type": "code",
   "execution_count": 47,
   "metadata": {},
   "outputs": [
    {
     "name": "stdout",
     "output_type": "stream",
     "text": [
      "120\n"
     ]
    }
   ],
   "source": [
    "def factorial(n):\n",
    "    assert n>=0 and int(n)==n,'The number must be positive'\n",
    "    if n in [0,1]:\n",
    "        return n\n",
    "    else:\n",
    "        return n * factorial(n-1)\n",
    "print(factorial(5))"
   ]
  },
  {
   "cell_type": "code",
   "execution_count": 50,
   "metadata": {},
   "outputs": [
    {
     "name": "stdout",
     "output_type": "stream",
     "text": [
      "21\n"
     ]
    }
   ],
   "source": [
    "def fibanocci(n):\n",
    "    assert n>=0 and int(n)==n,\"The number must be positive\"\n",
    "    if n in [0,1]:\n",
    "        return n\n",
    "    else:\n",
    "        return fibanocci(n-1)+fibanocci(n-2)\n",
    "print(fibanocci(8))"
   ]
  },
  {
   "cell_type": "code",
   "execution_count": 51,
   "metadata": {},
   "outputs": [
    {
     "name": "stdout",
     "output_type": "stream",
     "text": [
      "20 10\n"
     ]
    }
   ],
   "source": [
    "# swaping\n",
    "a=10\n",
    "b=20\n",
    "temp=a\n",
    "a=b\n",
    "b=temp\n",
    "print(a,b)\n"
   ]
  },
  {
   "cell_type": "code",
   "execution_count": null,
   "metadata": {},
   "outputs": [],
   "source": [
    "x=20\n",
    "y=10\n",
    "while y!=0:\n",
    "    temp=x^y\n",
    "    \n",
    "\n",
    "\n"
   ]
  },
  {
   "cell_type": "code",
   "execution_count": 2,
   "metadata": {},
   "outputs": [
    {
     "name": "stdout",
     "output_type": "stream",
     "text": [
      "4 It is not a prime number\n"
     ]
    }
   ],
   "source": [
    "# prime number\n",
    "\n",
    "num=int(input(\"Enter a number: \"))\n",
    "if num==1:\n",
    "    print('It is not a prime number')\n",
    "if num>1:\n",
    "    for i in range(2,num):\n",
    "        if num%i==0:\n",
    "            print(num,'It is not a prime number')\n",
    "            break\n",
    "    else:\n",
    "        print(num,'is a prime number')"
   ]
  },
  {
   "cell_type": "code",
   "execution_count": 3,
   "metadata": {},
   "outputs": [
    {
     "name": "stdout",
     "output_type": "stream",
     "text": [
      "2\n",
      "3\n",
      "5\n",
      "7\n",
      "11\n",
      "13\n",
      "17\n",
      "19\n",
      "23\n",
      "29\n",
      "31\n",
      "37\n",
      "41\n",
      "43\n",
      "47\n",
      "53\n",
      "59\n",
      "61\n",
      "67\n",
      "71\n",
      "73\n",
      "79\n",
      "83\n",
      "89\n",
      "97\n"
     ]
    }
   ],
   "source": [
    "#  print all prime numbers in a given intervals\n",
    "\n",
    "lower=int(input('Enter a lower limit: '))\n",
    "upper=int(input('Enter a upper limit: '))\n",
    "\n",
    "for num in range(lower,upper+1):\n",
    "    if num>1:\n",
    "        for i in range(2,num):\n",
    "            if num%i==0:\n",
    "                break\n",
    "        else:\n",
    "            print(num)"
   ]
  },
  {
   "cell_type": "code",
   "execution_count": 4,
   "metadata": {},
   "outputs": [
    {
     "name": "stdout",
     "output_type": "stream",
     "text": [
      "2 is a prime number\n"
     ]
    }
   ],
   "source": [
    "num=int(input('Enter a number: '))\n",
    "if num==1:\n",
    "    print(\"It is not a prime number\")\n",
    "\n",
    "if num>1:\n",
    "    for i in range(2,num):\n",
    "        if num%i==0:\n",
    "            print(num,'It is not a prime number')\n",
    "            break\n",
    "    else:\n",
    "        print(num,'is a prime number')\n"
   ]
  },
  {
   "cell_type": "code",
   "execution_count": 6,
   "metadata": {},
   "outputs": [
    {
     "name": "stdout",
     "output_type": "stream",
     "text": [
      "15\n"
     ]
    }
   ],
   "source": [
    "# sum of natural numbers\n",
    "num=int(input('enter a number: '))\n",
    "sum=0\n",
    "if num<0:\n",
    "    print('The number is less than zero')\n",
    "else:\n",
    "    while num>0:\n",
    "        sum+=num \n",
    "        num-=1\n",
    "print(sum)"
   ]
  },
  {
   "cell_type": "code",
   "execution_count": 1,
   "metadata": {},
   "outputs": [
    {
     "name": "stdout",
     "output_type": "stream",
     "text": [
      "[1, 2, 4, 8, 16, 32]\n"
     ]
    }
   ],
   "source": [
    "# program to display powers of 2 using lamda function\n",
    "nterms=int(input('Enter a numbers: '))\n",
    "result=list(map(lambda x:2**x,range(nterms+1)))\n",
    "print(result)\n",
    "# for i in range(nterms+1):\n",
    "#     print('the value of 2 raised to power',i,\"is\",result[i])\n"
   ]
  },
  {
   "cell_type": "code",
   "execution_count": 2,
   "metadata": {},
   "outputs": [
    {
     "data": {
      "text/plain": [
       "0.5555555555555556"
      ]
     },
     "execution_count": 2,
     "metadata": {},
     "output_type": "execute_result"
    }
   ],
   "source": [
    "# find the numbers to find  number divisible  by another number\n"
   ]
  },
  {
   "cell_type": "code",
   "execution_count": 3,
   "metadata": {},
   "outputs": [
    {
     "data": {
      "text/plain": [
       "1.8"
      ]
     },
     "execution_count": 3,
     "metadata": {},
     "output_type": "execute_result"
    }
   ],
   "source": []
  },
  {
   "cell_type": "code",
   "execution_count": null,
   "metadata": {},
   "outputs": [],
   "source": []
  }
 ],
 "metadata": {
  "kernelspec": {
   "display_name": "Python 3",
   "language": "python",
   "name": "python3"
  },
  "language_info": {
   "codemirror_mode": {
    "name": "ipython",
    "version": 3
   },
   "file_extension": ".py",
   "mimetype": "text/x-python",
   "name": "python",
   "nbconvert_exporter": "python",
   "pygments_lexer": "ipython3",
   "version": "3.11.1"
  }
 },
 "nbformat": 4,
 "nbformat_minor": 2
}
