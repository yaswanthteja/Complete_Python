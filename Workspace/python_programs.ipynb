{
 "cells": [
  {
   "cell_type": "code",
   "execution_count": 1,
   "metadata": {},
   "outputs": [
    {
     "name": "stdout",
     "output_type": "stream",
     "text": [
      "The square root of the given number is 7.0\n"
     ]
    }
   ],
   "source": [
    "# 1.find the square root \n",
    "#sr=num**(1/2)\n",
    "#using exponent\n",
    "num=int(input('Enter a number: '))\n",
    "squareroot=num**(1/2) # we can use 0.5\n",
    "print(\"The square root of the given number is\",squareroot)"
   ]
  },
  {
   "cell_type": "code",
   "execution_count": 3,
   "metadata": {},
   "outputs": [
    {
     "name": "stdout",
     "output_type": "stream",
     "text": [
      "The square root of number is  7.0\n"
     ]
    }
   ],
   "source": [
    "def squareroot(num):\n",
    "    sr=num**(0.5)\n",
    "    return sr\n",
    "num=int(input('Enter a number: '))\n",
    "sr_num=squareroot(num)\n",
    "print('The square root of number is ',sr_num)"
   ]
  },
  {
   "cell_type": "code",
   "execution_count": 4,
   "metadata": {},
   "outputs": [
    {
     "name": "stdout",
     "output_type": "stream",
     "text": [
      "The square root of the given number  7.0\n"
     ]
    }
   ],
   "source": [
    "# using math module\n",
    "import math\n",
    "num=int(input('Enter a number '))\n",
    "sr=math.sqrt(num)\n",
    "print('The square root of the given number ',sr)"
   ]
  },
  {
   "cell_type": "code",
   "execution_count": 5,
   "metadata": {},
   "outputs": [
    {
     "name": "stdout",
     "output_type": "stream",
     "text": [
      "The area of triangle is  34.375\n"
     ]
    }
   ],
   "source": [
    "# 2. Area of triangle\n",
    "# area=1/2*base*height\n",
    "\n",
    "height=float(input('Enter the height : ')) #12.5\n",
    "base=float(input('Enter the base : ')) #5.5\n",
    "area=(0.5)*base*height\n",
    "print(\"The area of triangle is \",area)"
   ]
  },
  {
   "cell_type": "code",
   "execution_count": 8,
   "metadata": {},
   "outputs": [
    {
     "name": "stdout",
     "output_type": "stream",
     "text": [
      "The roots are  (-0.25-1.1989578808281798j) (-0.25+1.1989578808281798j)\n"
     ]
    }
   ],
   "source": [
    "# 3. quadratic equation\n",
    "# ax**2+bx+c=0 a,b,c are real numbers a!=0\n",
    "\n",
    "import cmath\n",
    "\n",
    "a=int(input('Enter a number(a!=0): ')) #4\n",
    "b=int(input('Enter a number: ')) #2\n",
    "c=int(input('Enter a number: ')) #6\n",
    "\n",
    "# formula \n",
    "d=(b**2)-(4*a*c)\n",
    "\n",
    "root1=(-b-cmath.sqrt(d))/(2*a)\n",
    "root2=(-b+cmath.sqrt(d))/(2*a)\n",
    "print(\"The roots are \",root1,root2)\n",
    "\n",
    "\n"
   ]
  },
  {
   "cell_type": "code",
   "execution_count": 12,
   "metadata": {},
   "outputs": [
    {
     "name": "stdout",
     "output_type": "stream",
     "text": [
      "20\n",
      "10\n"
     ]
    }
   ],
   "source": [
    "# 4. Swap two variables using third variable\n",
    "a=10\n",
    "b=20\n",
    "c=a\n",
    "a=b\n",
    "b=c\n",
    "print(a)\n",
    "print(b)\n",
    "\n"
   ]
  },
  {
   "cell_type": "code",
   "execution_count": 13,
   "metadata": {},
   "outputs": [
    {
     "name": "stdout",
     "output_type": "stream",
     "text": [
      "20\n",
      "10\n"
     ]
    }
   ],
   "source": [
    "# swap two variables with out using the third variable\n",
    "a=10\n",
    "b=20\n",
    "a,b=b,a\n",
    "print(a)\n",
    "print(b)"
   ]
  },
  {
   "cell_type": "code",
   "execution_count": 17,
   "metadata": {},
   "outputs": [
    {
     "name": "stdout",
     "output_type": "stream",
     "text": [
      "6\n"
     ]
    }
   ],
   "source": [
    "# 5. python program to generate a random number\n",
    "import random\n",
    "num=random.randint(0,10)\n",
    "print(num)"
   ]
  },
  {
   "cell_type": "code",
   "execution_count": 19,
   "metadata": {},
   "outputs": [
    {
     "name": "stdout",
     "output_type": "stream",
     "text": [
      "5.0, kms will be 3.106855, miles\n"
     ]
    }
   ],
   "source": [
    "# 6. convert kilometers to miles\n",
    "# 1km =0.621371 miles\n",
    "\n",
    "km=float(input('Enter the kms:' ))\n",
    "miles=(0.621371)*km\n",
    "print(f'{km}, kms will be {miles}, miles')\n"
   ]
  },
  {
   "cell_type": "code",
   "execution_count": 20,
   "metadata": {},
   "outputs": [
    {
     "name": "stdout",
     "output_type": "stream",
     "text": [
      "60.0 celcius is  140.0 f\n"
     ]
    }
   ],
   "source": [
    "# 7. convert celsuis to fahrenheit\n",
    "celcius=float(input('Enter a celsuis'))\n",
    "fahrenheit=(celcius*9/5)+32 # 9/5 or 1.8\n",
    "print(celcius,'celcius is ', fahrenheit,'f')"
   ]
  },
  {
   "cell_type": "code",
   "execution_count": 2,
   "metadata": {},
   "outputs": [
    {
     "name": "stdout",
     "output_type": "stream",
     "text": [
      "140.0 fahrenheit is 60.0 c\n"
     ]
    }
   ],
   "source": [
    "# . convert fahrenheit to celsius\n",
    "fahrenheit=float(input('Enter the fahrenheit : '))\n",
    "celcius=(fahrenheit-32)*(5/9)\n",
    "print(fahrenheit,'fahrenheit is',celcius,'c')"
   ]
  },
  {
   "cell_type": "code",
   "execution_count": 24,
   "metadata": {},
   "outputs": [
    {
     "name": "stdout",
     "output_type": "stream",
     "text": [
      "-0.5 number is negative\n"
     ]
    }
   ],
   "source": [
    "#8. program to check if number is positive, negative, zero\n",
    "\n",
    "num=float(input('Enter a number: '))\n",
    "if num==0:\n",
    "    print('num is zero')\n",
    "elif num>0:\n",
    "    print(num,'number is positive ')\n",
    "else:\n",
    "    print(num,'number is negative')"
   ]
  },
  {
   "cell_type": "code",
   "execution_count": 25,
   "metadata": {},
   "outputs": [
    {
     "name": "stdout",
     "output_type": "stream",
     "text": [
      "12 num is even\n"
     ]
    }
   ],
   "source": [
    "#9. python program to check if a number is odd or even\n",
    "\n",
    "num=int(input('enter a number: '))\n",
    "if num%2==0:\n",
    "    print(num,'num is even')\n",
    "else:\n",
    "    print(num,'num is odd')"
   ]
  },
  {
   "cell_type": "code",
   "execution_count": 28,
   "metadata": {},
   "outputs": [
    {
     "name": "stdout",
     "output_type": "stream",
     "text": [
      "2002 is not a leap year\n"
     ]
    }
   ],
   "source": [
    "# 10. check the year is leap year or not\n",
    "\n",
    "# year %400 and year% 100 ->0 \n",
    "# 0r year %4 ->0 \n",
    "\n",
    "year=int(input('Enter the year: '))\n",
    "if year%100==0 and year%400==0 or year%4==0:\n",
    "    print(year, 'is a leap year')\n",
    "else:\n",
    "    print(year, 'is not a leap year')\n"
   ]
  },
  {
   "cell_type": "code",
   "execution_count": 29,
   "metadata": {},
   "outputs": [
    {
     "name": "stdout",
     "output_type": "stream",
     "text": [
      "30 num3 is greater\n"
     ]
    }
   ],
   "source": [
    "# 11. python program to find the largest amoung three numbers\n",
    "\n",
    "num1=10\n",
    "num2=20\n",
    "num3=30\n",
    "\n",
    "if num1>num2 and num1>num3:\n",
    "    print(num1,'num1 is greater ')\n",
    "elif num2>num1 and num2>num3:\n",
    "    print(num2,'num2 is greater ')\n",
    "else:\n",
    "    print(num3,'num3 is greater')"
   ]
  },
  {
   "cell_type": "code",
   "execution_count": 33,
   "metadata": {},
   "outputs": [
    {
     "name": "stdout",
     "output_type": "stream",
     "text": [
      "11 number is a prime number\n"
     ]
    }
   ],
   "source": [
    "#12 python program to check prime number\n",
    "# prime number should only be divided by 1 (1 is not prime number )and including itself to give zero is prime number\n",
    "num=int(input('Enter a number: '))\n",
    "if num==1:\n",
    "    print('It is not a prime number')\n",
    "if num>1:\n",
    "    for i in range(2,num):\n",
    "        if num%i==0:\n",
    "            print(num,' is not a prime number')\n",
    "            break\n",
    "    else:\n",
    "        print(num,'number is a prime number')"
   ]
  },
  {
   "cell_type": "code",
   "execution_count": 34,
   "metadata": {},
   "outputs": [
    {
     "name": "stdout",
     "output_type": "stream",
     "text": [
      "2\n",
      "3\n",
      "5\n",
      "7\n",
      "11\n",
      "13\n",
      "17\n",
      "19\n",
      "23\n",
      "29\n",
      "31\n",
      "37\n",
      "41\n",
      "43\n",
      "47\n"
     ]
    }
   ],
   "source": [
    "# python program to print all prime numbers in an interval\n",
    "lower=int(input('Enter alower number: '))\n",
    "upper=int(input('Enter a upper number: '))\n",
    "for num in range(lower,upper+1):\n",
    "    if num>1:\n",
    "        for i in range(2,num):\n",
    "            if num%i==0:\n",
    "                break\n",
    "        else:\n",
    "            print(num)\n"
   ]
  },
  {
   "cell_type": "code",
   "execution_count": 35,
   "metadata": {},
   "outputs": [
    {
     "data": {
      "text/plain": [
       "120"
      ]
     },
     "execution_count": 35,
     "metadata": {},
     "output_type": "execute_result"
    }
   ],
   "source": [
    "\n",
    "#13 find the factorial of number\n",
    "\n",
    "#13.1 by using recursion\n",
    "def factorial(n):\n",
    "    assert int(n)==n &n>=0,'The number must be positive '\n",
    "    if n in [0,1]:\n",
    "        return n\n",
    "    else:\n",
    "        return n* factorial(n-1)\n",
    "factorial(5)"
   ]
  },
  {
   "cell_type": "code",
   "execution_count": 31,
   "metadata": {},
   "outputs": [
    {
     "name": "stdout",
     "output_type": "stream",
     "text": [
      "120\n"
     ]
    }
   ],
   "source": [
    "#13.2 using  math module\n",
    "import math\n",
    "num=int(input('Enter a number: '))\n",
    "fact=math.factorial(num)\n",
    "print(fact)"
   ]
  },
  {
   "cell_type": "code",
   "execution_count": 32,
   "metadata": {},
   "outputs": [
    {
     "name": "stdout",
     "output_type": "stream",
     "text": [
      "The factorial of given number is  1\n"
     ]
    }
   ],
   "source": [
    "#13.3 by using for loop\n",
    "\n",
    "num=int(input('Enter a number: '))\n",
    "fact=1\n",
    "if num<0:\n",
    "    print('the facorial does not exist ')\n",
    "\n",
    "if num==1:\n",
    "    print('The factorial of given number is ',1)\n",
    "if num>1:\n",
    "    for i in range(1,num+1):\n",
    "        fact=fact*i\n",
    "    print(fact)"
   ]
  },
  {
   "cell_type": "code",
   "execution_count": 15,
   "metadata": {},
   "outputs": [
    {
     "name": "stdout",
     "output_type": "stream",
     "text": [
      "2 X 1 = 2\n",
      "2 X 2 = 4\n",
      "2 X 3 = 6\n",
      "2 X 4 = 8\n",
      "2 X 5 = 10\n",
      "2 X 6 = 12\n",
      "2 X 7 = 14\n",
      "2 X 8 = 16\n",
      "2 X 9 = 18\n",
      "2 X 10 = 20\n"
     ]
    }
   ],
   "source": [
    "# 14. print multiplication of a number \n",
    "num=int(input('Enter a number: '))\n",
    "for i in range(1,11):\n",
    "    print(num,'X',i,'=',num*i)"
   ]
  },
  {
   "cell_type": "code",
   "execution_count": 16,
   "metadata": {},
   "outputs": [
    {
     "name": "stdout",
     "output_type": "stream",
     "text": [
      "5 x 1 = 5\n",
      "5 x 2 = 10\n",
      "5 x 3 = 15\n",
      "5 x 4 = 20\n",
      "5 x 5 = 25\n",
      "5 x 6 = 30\n",
      "5 x 7 = 35\n",
      "5 x 8 = 40\n",
      "5 x 9 = 45\n",
      "5 x 10 = 50\n"
     ]
    }
   ],
   "source": [
    "n=int(input('enter a number: '))\n",
    "i=1\n",
    "while i<=10:\n",
    "    print(n,'x',i,'=',n*i)\n",
    "    i+=1 "
   ]
  },
  {
   "cell_type": "code",
   "execution_count": 23,
   "metadata": {},
   "outputs": [
    {
     "name": "stdout",
     "output_type": "stream",
     "text": [
      "0\n",
      "1\n",
      "1\n",
      "2\n",
      "3\n",
      "5\n",
      "8\n",
      "13\n",
      "21\n",
      "34\n"
     ]
    }
   ],
   "source": [
    "#15 ibonacci series\n",
    "# 15.1 using for loop\n",
    "n=int(input('enter a number:'))\n",
    "first=0\n",
    "second=1\n",
    "for i in range(n):\n",
    "    print(first)\n",
    "    temp=first\n",
    "    first=second\n",
    "    second=second+temp\n",
    "   \n"
   ]
  },
  {
   "cell_type": "markdown",
   "metadata": {},
   "source": []
  },
  {
   "cell_type": "code",
   "execution_count": 29,
   "metadata": {},
   "outputs": [
    {
     "data": {
      "text/plain": [
       "55"
      ]
     },
     "execution_count": 29,
     "metadata": {},
     "output_type": "execute_result"
    }
   ],
   "source": [
    "# 15.2 by using recursive \n",
    "\n",
    "def fibanocci(n):\n",
    "    assert int(n)==n & n>=0,'The given number must be positive'\n",
    "    if n in [0,1]:\n",
    "        return n\n",
    "    else:\n",
    "        return fibanocci(n-1)+fibanocci(n-2)\n",
    "n=int(input('enter a number: '))\n",
    "fibanocci(n)"
   ]
  },
  {
   "cell_type": "code",
   "execution_count": 43,
   "metadata": {},
   "outputs": [
    {
     "name": "stdout",
     "output_type": "stream",
     "text": [
      "153 is a armnstrong number\n"
     ]
    }
   ],
   "source": [
    "# 16. armstrong number\n",
    "\n",
    "input_value=input('enter a number: ')\n",
    "length=len(input_value)\n",
    "armstrong_number=0\n",
    "for num in input_value:\n",
    "    armstrong_number+=int(num)**length\n",
    "if armstrong_number==int(input_value):\n",
    "    print(input_value, 'is a armnstrong number')\n",
    "else:\n",
    "    print(input_value,'is not a armstong number')\n"
   ]
  },
  {
   "cell_type": "code",
   "execution_count": 47,
   "metadata": {},
   "outputs": [
    {
     "name": "stdout",
     "output_type": "stream",
     "text": [
      "153\n",
      "370\n",
      "371\n",
      "407\n"
     ]
    }
   ],
   "source": [
    "# 16.1 armstrong number from given range\n",
    "lower=int(input('enter lower limit: '))\n",
    "upper=int(input('enter upper limit: '))\n",
    "\n",
    "for num in range(lower,upper+1):\n",
    "    length = len(str(num))\n",
    "    armstrong_num = 0\n",
    "    temp = num\n",
    "    while temp > 0:\n",
    "        digit = temp % 10\n",
    "        armstrong_num += digit ** length\n",
    "        temp //= 10\n",
    "    if num==armstrong_num:\n",
    "        print(num)"
   ]
  },
  {
   "cell_type": "code",
   "execution_count": 1,
   "metadata": {},
   "outputs": [
    {
     "name": "stdout",
     "output_type": "stream",
     "text": [
      "[1, 2, 4, 8, 16, 32]\n"
     ]
    }
   ],
   "source": [
    "# 17. program to display powers of 2 using lamda function\n",
    "\n",
    "nterms=int(input('Enter a numbers: '))\n",
    "result=list(map(lambda x:2**x,range(nterms+1)))\n",
    "print(result)\n",
    " \n",
    "# for i in range(nterms+1):\n",
    "#     print('the value of 2 raised to power',i,\"is\",result[i])"
   ]
  },
  {
   "cell_type": "code",
   "execution_count": 2,
   "metadata": {},
   "outputs": [
    {
     "name": "stdout",
     "output_type": "stream",
     "text": [
      "13\n",
      "26\n",
      "39\n",
      "52\n",
      "65\n",
      "78\n",
      "91\n"
     ]
    }
   ],
   "source": [
    "# find the numbers divisible by another number:\n",
    "start_num=int(input('enter the starting number: '))\n",
    "end_num=int(input('enter the  ending  number: '))\n",
    "div_num=int(input('Enter the num for divison: '))\n",
    "\n",
    "for i in range(start_num,end_num+1):\n",
    "    if i% div_num==0:\n",
    "        print(i)"
   ]
  },
  {
   "cell_type": "code",
   "execution_count": 6,
   "metadata": {},
   "outputs": [
    {
     "name": "stdout",
     "output_type": "stream",
     "text": [
      "the given list is[39, 48, 26, 98, 33, 67, 87]  and the divisible are  [39, 26]\n"
     ]
    }
   ],
   "source": [
    "#by using the lambda function and fliter function\n",
    "\n",
    "l=[39,48,26,98,33,67,87]\n",
    "result=list(filter(lambda x:x%13==0,l))\n",
    "print(f'the given list is{l} ','and the divisible are ',result)"
   ]
  },
  {
   "cell_type": "code",
   "execution_count": 9,
   "metadata": {},
   "outputs": [
    {
     "name": "stdout",
     "output_type": "stream",
     "text": [
      "0b1100 in binary\n",
      "0o14 In  octal\n",
      "0xc in hexadecimal\n"
     ]
    }
   ],
   "source": [
    "# 20 Convert Decimal to binary, octal & hexa decimal\n",
    "decimal=int(input('enter the decimal numbers: '))\n",
    "\n",
    "# decimal to binary\n",
    "print(bin(decimal),'in binary')\n",
    "\n",
    "# decimal to octal\n",
    "print(oct(decimal),'In  octal')\n",
    "\n",
    "# decimsl to hexa\n",
    "print(hex(decimal),'in hexadecimal')"
   ]
  },
  {
   "cell_type": "code",
   "execution_count": 15,
   "metadata": {},
   "outputs": [
    {
     "name": "stdout",
     "output_type": "stream",
     "text": [
      "the ascii value of a t is 116\n"
     ]
    }
   ],
   "source": [
    "# 21. Find the ascii value of a character\n",
    "\n",
    "char=input('Enter a char: ')\n",
    "print(f'the ascii value of a {char} is',ord(char))"
   ]
  },
  {
   "cell_type": "code",
   "execution_count": 17,
   "metadata": {},
   "outputs": [
    {
     "data": {
      "text/plain": [
       "6"
      ]
     },
     "execution_count": 17,
     "metadata": {},
     "output_type": "execute_result"
    }
   ],
   "source": [
    "#22 program to find the hcf or gcd \n",
    "\n",
    "def cal_hcf(x,y):\n",
    "    if x>y:\n",
    "        smaller=y\n",
    "    else:\n",
    "        smaller=x\n",
    "    for i in range(1,smaller+1):\n",
    "        if (x%i==0)and (y%i==0):\n",
    "            hcf=i\n",
    "    return hcf\n",
    "cal_hcf(12,30)"
   ]
  },
  {
   "cell_type": "code",
   "execution_count": 18,
   "metadata": {},
   "outputs": [
    {
     "name": "stdout",
     "output_type": "stream",
     "text": [
      "1\n",
      "2\n",
      "3\n",
      "4\n",
      "6\n",
      "12\n"
     ]
    }
   ],
   "source": [
    "#23 find the factorial  of number\n",
    "\n",
    "num=int(input('Enter a number: '))\n",
    "for i in range(1,num+1):\n",
    "    if num%i==0:\n",
    "        print(i)\n",
    "    "
   ]
  },
  {
   "cell_type": "code",
   "execution_count": 20,
   "metadata": {},
   "outputs": [
    {
     "name": "stdout",
     "output_type": "stream",
     "text": [
      "30\n"
     ]
    }
   ],
   "source": [
    "#24 CALCULAOR\n",
    "num1=int(input(\"enter a number: \"))\n",
    "num2=int(input('enter a number: '))\n",
    "operator=input('enter  the operator,(+,-,*,/)')\n",
    "if operator=='+':\n",
    "    print(num1+num2)\n",
    "elif operator=='-':\n",
    "    print(num1-num2)\n",
    "elif operator=='*':\n",
    "    print(num1*num2)\n",
    "elif operator=='/':\n",
    "    print(num1/num2)\n",
    "else:\n",
    "    print('enter the numbers')"
   ]
  },
  {
   "cell_type": "code",
   "execution_count": 22,
   "metadata": {},
   "outputs": [
    {
     "name": "stdout",
     "output_type": "stream",
     "text": [
      "[(3, 'Heart'), (4, 'Heart'), (12, 'Spade'), (7, 'Diamond'), (8, 'Spade'), (5, 'Spade'), (1, 'Diamond'), (13, 'Club'), (12, 'Heart'), (6, 'Heart'), (3, 'Diamond'), (11, 'Spade'), (5, 'Heart'), (10, 'Heart'), (9, 'Heart'), (2, 'Heart'), (3, 'Spade'), (6, 'Club'), (1, 'Spade'), (1, 'Club'), (8, 'Club'), (6, 'Diamond'), (9, 'Club'), (10, 'Club'), (2, 'Club'), (7, 'Spade'), (5, 'Diamond'), (13, 'Spade'), (5, 'Club'), (4, 'Diamond'), (8, 'Diamond'), (6, 'Spade'), (11, 'Heart'), (3, 'Club'), (8, 'Heart'), (7, 'Club'), (13, 'Diamond'), (12, 'Diamond'), (12, 'Club'), (4, 'Club'), (2, 'Spade'), (10, 'Diamond'), (11, 'Club'), (4, 'Spade'), (10, 'Spade'), (2, 'Diamond'), (1, 'Heart'), (7, 'Heart'), (13, 'Heart'), (9, 'Diamond'), (9, 'Spade'), (11, 'Diamond')]\n",
      "4 of Heart\n",
      "12 of Spade\n",
      "7 of Diamond\n",
      "8 of Spade\n"
     ]
    }
   ],
   "source": [
    "#25 suffle deck of cards\n",
    "\n",
    "import random,itertools\n",
    "\n",
    "deck=list(itertools.product(range(1,14),['Spade','Diamond','Heart','Club']))\n",
    "random.shuffle(deck)\n",
    "print(deck)\n",
    "\n",
    "for i in range(1,5):\n",
    "    print(deck[i][0],'of',deck[i][1])\n"
   ]
  },
  {
   "cell_type": "code",
   "execution_count": 23,
   "metadata": {},
   "outputs": [
    {
     "name": "stdout",
     "output_type": "stream",
     "text": [
      "   February 2000\n",
      "Mo Tu We Th Fr Sa Su\n",
      "    1  2  3  4  5  6\n",
      " 7  8  9 10 11 12 13\n",
      "14 15 16 17 18 19 20\n",
      "21 22 23 24 25 26 27\n",
      "28 29\n",
      "\n"
     ]
    }
   ],
   "source": [
    "# 26 program to display calendar\n",
    "import calendar\n",
    "\n",
    "year=int(input('Enter a year: '))\n",
    "month=int(input('enter a month: '))\n",
    "cal=calendar.month(year,month)\n",
    "print(cal)"
   ]
  },
  {
   "cell_type": "code",
   "execution_count": 30,
   "metadata": {},
   "outputs": [
    {
     "data": {
      "text/plain": [
       "5"
      ]
     },
     "execution_count": 30,
     "metadata": {},
     "output_type": "execute_result"
    }
   ],
   "source": [
    "#27 display using fibanocci series using recurssion\n",
    "def fibanocci(n):\n",
    "    assert n>=0 and int(n)==n,'the number must be positive'\n",
    "    if n in [0,1]:\n",
    "        return n\n",
    "    else:\n",
    "        return fibanocci(n-1)+fibanocci(n-2)\n",
    "fibanocci(5)"
   ]
  },
  {
   "cell_type": "code",
   "execution_count": 31,
   "metadata": {},
   "outputs": [
    {
     "data": {
      "text/plain": [
       "15"
      ]
     },
     "execution_count": 31,
     "metadata": {},
     "output_type": "execute_result"
    }
   ],
   "source": [
    "# 28 find the sum of natural number using recursion\n",
    "def num_sum(n):\n",
    "    assert n>=0 and int(n)==n,'The  number must be positive' \n",
    "    if n in [0,1]:\n",
    "        return n\n",
    "    else:\n",
    "        return n+num_sum(n-1)\n",
    "num_sum(5)"
   ]
  },
  {
   "cell_type": "code",
   "execution_count": 32,
   "metadata": {},
   "outputs": [
    {
     "data": {
      "text/plain": [
       "120"
      ]
     },
     "execution_count": 32,
     "metadata": {},
     "output_type": "execute_result"
    }
   ],
   "source": [
    "#29 find the factorial of number using recurssion\n",
    "\n",
    "def factorial(n):\n",
    "    assert n>=0 and int(n)==n,'The number must be positive'\n",
    "    if n in [0,1]:\n",
    "        return n\n",
    "    else:\n",
    "        return n* factorial(n-1)\n",
    "factorial(5)"
   ]
  },
  {
   "cell_type": "code",
   "execution_count": 33,
   "metadata": {},
   "outputs": [
    {
     "name": "stdout",
     "output_type": "stream",
     "text": [
      "1 1 1 1 "
     ]
    }
   ],
   "source": [
    "#30 convert decimal to binaru using recursion\n",
    "def ConvertBinary(n):\n",
    "    if n>1:\n",
    "        ConvertBinary(n//2)\n",
    "    print(n%2,end=' ')\n",
    "ConvertBinary(15)\n"
   ]
  },
  {
   "cell_type": "code",
   "execution_count": 2,
   "metadata": {},
   "outputs": [
    {
     "name": "stdout",
     "output_type": "stream",
     "text": [
      "[5, 10, 14]\n",
      "[12, 15, 8]\n",
      "[10, 7, 9]\n"
     ]
    }
   ],
   "source": [
    "# 31 adding two matrices\n",
    "A=[[1,5,8],\n",
    "   [4,6,7],\n",
    "   [7,2,3]]\n",
    "B=[[4,5,6],\n",
    "   [8,9,1],\n",
    "   [3,5,6]]\n",
    "\n",
    "result=[[0,0,0],\n",
    "        [0,0,0],\n",
    "        [0,0,0]]\n",
    "for i in range(len(A)):\n",
    "    for j in range(len(A[0])):\n",
    "        result[i][j]=A[i][j]+B[i][j]\n",
    "for r in result:\n",
    "    print(r)\n"
   ]
  },
  {
   "cell_type": "code",
   "execution_count": 3,
   "metadata": {},
   "outputs": [
    {
     "name": "stdout",
     "output_type": "stream",
     "text": [
      "[1, 4]\n",
      "[2, 5]\n",
      "[3, 6]\n"
     ]
    }
   ],
   "source": [
    "# 32  transpose of a matrix\n",
    "A=[[1,2,3],\n",
    "   [4,5,6]]\n",
    "T=[[0,0],\n",
    "   [0,0],\n",
    "   [0,0]]\n",
    "\n",
    "for i in range(len(A)):\n",
    "    for j in range(len(A[0])):\n",
    "        T[j][i]=A[i][j]\n",
    "for i in T:\n",
    "    print(i)"
   ]
  },
  {
   "cell_type": "code",
   "execution_count": 4,
   "metadata": {},
   "outputs": [
    {
     "name": "stdout",
     "output_type": "stream",
     "text": [
      "[1, 4]\n",
      "[2, 5]\n",
      "[3, 6]\n"
     ]
    }
   ],
   "source": [
    "#  using list comprehension\n",
    "A=[[1,2,3],\n",
    "   [4,5,6]]\n",
    "\n",
    "T=[[A[j][i] for j in range(len(A))] for i in range(len(A[0]))]\n",
    "\n",
    "for i in T:\n",
    "    print(i)"
   ]
  },
  {
   "cell_type": "code",
   "execution_count": 6,
   "metadata": {},
   "outputs": [
    {
     "name": "stdout",
     "output_type": "stream",
     "text": [
      "[27, 15, 15, 8]\n",
      "[60, 36, 33, 20]\n",
      "[93, 57, 51, 32]\n"
     ]
    }
   ],
   "source": [
    "#33 multiply two matrices \n",
    "A=[[1,2,3,],\n",
    "   [4,5,6],\n",
    "   [7,8,9]]\n",
    "B=[[1,2,1,1],\n",
    "   [4,2,1,2],\n",
    "   [6,3,4,1]]\n",
    "\n",
    "result=[[0,0,0,0],\n",
    "        [0,0,0,0],\n",
    "        [0,0,0,0]]\n",
    "\n",
    "for i in range(len(A)):\n",
    "    for j in range(len(B[0])):\n",
    "        for k in range(len(B)):\n",
    "            result[i][j]+=A[i][k]*B[k][j]\n",
    "for i in result:\n",
    "    print(i)"
   ]
  },
  {
   "cell_type": "code",
   "execution_count": 7,
   "metadata": {},
   "outputs": [
    {
     "name": "stdout",
     "output_type": "stream",
     "text": [
      "madam Palindrome\n"
     ]
    }
   ],
   "source": [
    "# 34 check whether a string is palindrome or not\n",
    "string=input('enter a string')\n",
    "if string==string[::-1]:\n",
    "    print(string,'is a Palindrome')\n",
    "else:\n",
    "    print(string,'is not a plaindrome')"
   ]
  },
  {
   "cell_type": "code",
   "execution_count": 10,
   "metadata": {},
   "outputs": [
    {
     "name": "stdout",
     "output_type": "stream",
     "text": [
      "hello hi how are you im fine\n"
     ]
    }
   ],
   "source": [
    "# 35 Remove punctuations from a string\n",
    "symbols='''!@#$%^&*()_+{}[]:;\"'<,>./?`~\\|'''\n",
    "input_str=input(\"Enter a string with punctuations: \")\n",
    "emp_str=''\n",
    "for i in input_str:\n",
    "    if i not in symbols:\n",
    "        emp_str+=i\n",
    "print(emp_str)\n",
    "\n"
   ]
  },
  {
   "cell_type": "code",
   "execution_count": 22,
   "metadata": {},
   "outputs": [
    {
     "name": "stdout",
     "output_type": "stream",
     "text": [
      "['aegio', 'amir', 'belloi', 'benno', 'makio']\n"
     ]
    }
   ],
   "source": [
    "#36 sort words in Alphabetic order\n",
    "input_str=input(\"enter a string: \").lower()\n",
    "words=input_str.split()\n",
    "for i in words:\n",
    "    words.sort()\n",
    "print(words)"
   ]
  },
  {
   "cell_type": "code",
   "execution_count": 23,
   "metadata": {},
   "outputs": [
    {
     "name": "stdout",
     "output_type": "stream",
     "text": [
      "The Union {1, 2, 3, 4, 5, 6, 7, 8, 9}\n",
      "The intersection {8, 3, 6}\n",
      "The Difference is {1, 2, 9}\n",
      "The symmetric difference is {1, 2, 4, 5, 7, 9}\n"
     ]
    }
   ],
   "source": [
    "#37 python program to illustrate different set operators\n",
    "A={1,2,3,6,8,9}\n",
    "B={3,4,5,6,7,8}\n",
    "\n",
    "print('The Union',A|B)\n",
    "print('The intersection',A&B)\n",
    "print('The Difference is',A-B)\n",
    "print('The symmetric difference is',A^B)"
   ]
  },
  {
   "cell_type": "code",
   "execution_count": 26,
   "metadata": {},
   "outputs": [
    {
     "name": "stdout",
     "output_type": "stream",
     "text": [
      "count of vowels in a given string: learn python with logic {'a': 1, 'e': 1, 'i': 2, 'o': 2, 'u': 0}\n"
     ]
    }
   ],
   "source": [
    "#38 count the number of each vowel\n",
    "\n",
    "my_str=input('enter your string: ').lower()\n",
    "vowels={'a':0,'e':0,'i':0,'o':0,'u':0}\n",
    "\n",
    "for char in my_str:\n",
    "    if char in vowels:\n",
    "        vowels[char]+=1\n",
    "print('count of vowels in a given string:',my_str, vowels)"
   ]
  },
  {
   "cell_type": "code",
   "execution_count": 7,
   "metadata": {},
   "outputs": [
    {
     "name": "stdout",
     "output_type": "stream",
     "text": [
      "1099 X 2970\n"
     ]
    }
   ],
   "source": [
    "#39 find the image resolution \n",
    "\n",
    "import PIL\n",
    "from PIL import Image\n",
    "img=PIL.Image.open(\"F:/courses/Sql/SqlRoadmap.png\")\n",
    "width,height=img.size\n",
    "print(width,'X',height)\n"
   ]
  },
  {
   "cell_type": "code",
   "execution_count": 1,
   "metadata": {},
   "outputs": [
    {
     "name": "stdout",
     "output_type": "stream",
     "text": [
      "{'yewa': 54, 'teja': 89, ',meto': 69}\n"
     ]
    }
   ],
   "source": [
    "# 40 python program to merge two dictonaries\n",
    "\n",
    "# 40.1 solution using | operator\n",
    "dict1={'yewa':54,'teja':95}\n",
    "dict2={'teja':89,',meto':69}\n",
    "print(dict1|dict2)"
   ]
  },
  {
   "cell_type": "code",
   "execution_count": 2,
   "metadata": {},
   "outputs": [
    {
     "name": "stdout",
     "output_type": "stream",
     "text": [
      "{'yewa': 54, 'teja': 89, ',meto': 69}\n"
     ]
    }
   ],
   "source": [
    "# 40.2 solution using exponent(**)\n",
    "\n",
    "dict1={'yewa':54,'teja':95}\n",
    "dict2={'teja':89,',meto':69}\n",
    "print({**dict1,**dict2})"
   ]
  },
  {
   "cell_type": "code",
   "execution_count": 4,
   "metadata": {},
   "outputs": [
    {
     "name": "stdout",
     "output_type": "stream",
     "text": [
      "{'teja': 95, ',meto': 69, 'yewa': 54}\n"
     ]
    }
   ],
   "source": [
    "# 40.3 by using copy and Update method\n",
    "dict1={'yewa':54,'teja':95}\n",
    "dict2={'teja':89,',meto':69}\n",
    "dict3=dict2.copy()\n",
    "dict3.update(dict1)\n",
    "print(dict3)"
   ]
  },
  {
   "cell_type": "code",
   "execution_count": 11,
   "metadata": {},
   "outputs": [],
   "source": [
    "#41 python program to safely create a Nested directory \n",
    "# 41.1 using pathlib \n",
    "from pathlib import Path\n",
    "Path('f:/dirA/dirB').mkdir(parents=True,exist_ok=True)\n"
   ]
  },
  {
   "cell_type": "code",
   "execution_count": 13,
   "metadata": {},
   "outputs": [],
   "source": [
    "# 41.2 using os \n",
    "\n",
    "import os \n",
    "try:\n",
    "    os.makedirs('f:/dirA/dirB') # location  to make  folders\n",
    "except FileExistsError:\n",
    "    print('File already exists')"
   ]
  },
  {
   "cell_type": "code",
   "execution_count": 14,
   "metadata": {},
   "outputs": [
    {
     "name": "stdout",
     "output_type": "stream",
     "text": [
      "0 23\n",
      "1 3\n",
      "2 4\n",
      "3 5\n",
      "4 67\n"
     ]
    }
   ],
   "source": [
    "#42 access index of list elements using enumerate\n",
    "l=[23,3,4,5,67]\n",
    "for index,value in enumerate(l):\n",
    "    print(index,value)"
   ]
  },
  {
   "cell_type": "code",
   "execution_count": 15,
   "metadata": {},
   "outputs": [
    {
     "name": "stdout",
     "output_type": "stream",
     "text": [
      "1 23\n",
      "2 3\n",
      "3 4\n",
      "4 5\n",
      "5 67\n"
     ]
    }
   ],
   "source": [
    "# access index of list elements using enumerate starting index from 1 \n",
    "l=[23,3,4,5,67]\n",
    "for index,value in enumerate(l,start=1):\n",
    "    print(index,value)"
   ]
  },
  {
   "cell_type": "code",
   "execution_count": 17,
   "metadata": {},
   "outputs": [
    {
     "name": "stdout",
     "output_type": "stream",
     "text": [
      "0 23\n",
      "1 3\n",
      "2 4\n",
      "3 5\n",
      "4 67\n"
     ]
    }
   ],
   "source": [
    "# 42.2 # access index of elements with out using  enumarate\n",
    "my_list=[23,3,4,5,67]\n",
    "for index in range(len(l)):\n",
    "    value=my_list[index]\n",
    "    print(index,value)"
   ]
  },
  {
   "cell_type": "code",
   "execution_count": 21,
   "metadata": {},
   "outputs": [
    {
     "data": {
      "text/plain": [
       "['Jessa', 'Ross']"
      ]
     },
     "execution_count": 21,
     "metadata": {},
     "output_type": "execute_result"
    }
   ],
   "source": [
    "# 43 Slice the list\n",
    "\n",
    "l=['Jessa','mounica','phoebe','Ross','Chandler','Rachel']\n",
    "l[::-1]\n",
    "l[:4]\n",
    "l[0::3]"
   ]
  },
  {
   "cell_type": "code",
   "execution_count": 22,
   "metadata": {},
   "outputs": [
    {
     "name": "stdout",
     "output_type": "stream",
     "text": [
      "Rachel Ross\n",
      "Mounica chandler\n",
      "phobe preo\n"
     ]
    }
   ],
   "source": [
    "#44 iterate through dictonaries\n",
    "friends={'Rachel':'Ross',\"Mounica\":\"chandler\",\"phobe\":'preo'}\n",
    "for key,value in friends.items():\n",
    "    print(key,value)"
   ]
  },
  {
   "cell_type": "code",
   "execution_count": 24,
   "metadata": {},
   "outputs": [
    {
     "name": "stdout",
     "output_type": "stream",
     "text": [
      "Rachel Ross\n",
      "Mounica chandler\n",
      "phobe preo\n"
     ]
    }
   ],
   "source": [
    "for key in friends:\n",
    "    print(key,friends[key])"
   ]
  },
  {
   "cell_type": "code",
   "execution_count": 26,
   "metadata": {},
   "outputs": [
    {
     "name": "stdout",
     "output_type": "stream",
     "text": [
      "Rachel\n",
      "Mounica\n",
      "phobe\n",
      "Rachel\n",
      "Mounica\n",
      "phobe\n"
     ]
    }
   ],
   "source": [
    "for key in friends:\n",
    "    print(key)\n",
    "for i in friends:\n",
    "    print(i)"
   ]
  },
  {
   "cell_type": "code",
   "execution_count": 27,
   "metadata": {},
   "outputs": [
    {
     "name": "stdout",
     "output_type": "stream",
     "text": [
      "[('john', 23), ('sid', 48), ('lisa', 56)]\n"
     ]
    }
   ],
   "source": [
    "# 45 sort the dictionary based on values\n",
    "\n",
    "marks={\"john\":23,\"lisa\":56,'sid':48}\n",
    "\n",
    "sv=sorted(marks.items(),key=lambda x:x[1])\n",
    "print(sv)"
   ]
  },
  {
   "cell_type": "code",
   "execution_count": 28,
   "metadata": {},
   "outputs": [
    {
     "name": "stdout",
     "output_type": "stream",
     "text": [
      "[23, 48, 56]\n"
     ]
    }
   ],
   "source": [
    "v=sorted(marks.values())\n",
    "print(v)"
   ]
  },
  {
   "cell_type": "code",
   "execution_count": 29,
   "metadata": {},
   "outputs": [
    {
     "name": "stdout",
     "output_type": "stream",
     "text": [
      "list is empty\n"
     ]
    }
   ],
   "source": [
    "#46 program to check if a list is empty or not\n",
    "my_lst=[]\n",
    "\n",
    "if len(my_lst)==0:\n",
    "    print('list is empty')\n",
    "else:\n",
    "    print(my_lst)"
   ]
  },
  {
   "cell_type": "code",
   "execution_count": 30,
   "metadata": {},
   "outputs": [
    {
     "name": "stdout",
     "output_type": "stream",
     "text": [
      "The list is empty\n"
     ]
    }
   ],
   "source": [
    "my_lst=[]\n",
    "if my_lst==[]:\n",
    "    print(\"The list is empty\")\n",
    "else:\n",
    "    print(my_lst)"
   ]
  },
  {
   "cell_type": "code",
   "execution_count": 32,
   "metadata": {},
   "outputs": [
    {
     "name": "stdout",
     "output_type": "stream",
     "text": [
      "can only concatenate str (not \"int\") to str\n",
      "thank you\n"
     ]
    }
   ],
   "source": [
    "#47 python programto catch multiple exceptios in one line\n",
    "\n",
    "string=input('Enter the text: ')\n",
    "try:\n",
    "    num=int(input('Enter a number: '))\n",
    "    print(string+ num)\n",
    "except Exception as e:\n",
    "    print(e)\n",
    "print('thank you')"
   ]
  },
  {
   "cell_type": "code",
   "execution_count": 34,
   "metadata": {},
   "outputs": [
    {
     "data": {
      "text/plain": [
       "'E:/Complete_Placement/modern-python-101/Workspace/desti.txt'"
      ]
     },
     "execution_count": 34,
     "metadata": {},
     "output_type": "execute_result"
    }
   ],
   "source": [
    "# 48 python progrsm to copy a file\n",
    "\n",
    "from shutil import copyfile\n",
    "copyfile('E:/Complete_Placement/modern-python-101/Workspace/demo.txt','E:/Complete_Placement/modern-python-101/Workspace/desti.txt')"
   ]
  },
  {
   "cell_type": "code",
   "execution_count": 35,
   "metadata": {},
   "outputs": [
    {
     "name": "stdout",
     "output_type": "stream",
     "text": [
      "[23, 34, 'k', 'uri', 32, 45, 56, 'iso']\n"
     ]
    }
   ],
   "source": [
    "# 49 concatenate two lists\n",
    "\n",
    "# 49.1 using the + operator\n",
    "\n",
    "l1=[23,34,'k','uri']\n",
    "l2=[32,45,56,'iso']\n",
    "print(l1+l2)"
   ]
  },
  {
   "cell_type": "code",
   "execution_count": 3,
   "metadata": {},
   "outputs": [
    {
     "name": "stdout",
     "output_type": "stream",
     "text": [
      "[2, 3, 'a', 6, 8, 'k', 'j', 'f']\n"
     ]
    }
   ],
   "source": [
    "# 49.2 with unique value\n",
    "l1=[3,6,8,2,'a','j']\n",
    "l2=[3,6,'k','j','f']\n",
    "l12=list(set(l1+l2))\n",
    "print(l12)"
   ]
  },
  {
   "cell_type": "code",
   "execution_count": 5,
   "metadata": {},
   "outputs": [
    {
     "name": "stdout",
     "output_type": "stream",
     "text": [
      "[3, 6, 8, 2, 'a', 'j', 3, 6, 'k', 'j', 'f']\n"
     ]
    }
   ],
   "source": [
    "# 49.3 using extend()\n",
    "l1=[3,6,8,2,'a','j']\n",
    "l2=[3,6,'k','j','f']\n",
    "l1.extend(l2)\n",
    "print(l1)"
   ]
  },
  {
   "cell_type": "code",
   "execution_count": 6,
   "metadata": {},
   "outputs": [
    {
     "name": "stdout",
     "output_type": "stream",
     "text": [
      "It is not present \n"
     ]
    }
   ],
   "source": [
    "# 50 check if a key is already present in a dictionary\n",
    "friends={'Rachel':'Ross',\"Mounica\":\"chandler\",\"phobe\":'preo'}\n",
    "name=input(\"enter a key here: \")\n",
    "if name in friends.keys():\n",
    "    print(\"It is present\")\n",
    "else:\n",
    "    print(\"It is not present \")"
   ]
  },
  {
   "cell_type": "code",
   "execution_count": 7,
   "metadata": {},
   "outputs": [
    {
     "name": "stdout",
     "output_type": "stream",
     "text": [
      "<class 'str'>\n",
      "<class 'int'>\n"
     ]
    }
   ],
   "source": [
    "#51 parese a string to a float or int\n",
    "\n",
    "string='12345'\n",
    "print(type(string))\n",
    "int_str=int(string)\n",
    "print(type(int_str))"
   ]
  },
  {
   "cell_type": "code",
   "execution_count": 10,
   "metadata": {},
   "outputs": [
    {
     "name": "stdout",
     "output_type": "stream",
     "text": [
      "<class 'str'>\n",
      "<class 'float'>\n"
     ]
    }
   ],
   "source": [
    "string='12.5'\n",
    "print(type(string))\n",
    "float_str=float(string)\n",
    "print(type(float_str))"
   ]
  },
  {
   "cell_type": "code",
   "execution_count": 17,
   "metadata": {},
   "outputs": [
    {
     "name": "stdout",
     "output_type": "stream",
     "text": [
      "<class 'str'>\n",
      "1997-10-14 07:15:00\n"
     ]
    }
   ],
   "source": [
    "#52 convert string to date time\n",
    "\n",
    "from datetime import datetime\n",
    "\n",
    "date ='Oct 14 1997 7:15AM'\n",
    "date_time=datetime.strptime(date,'%b %d %Y %I:%M%p')\n",
    "print(date_time)"
   ]
  },
  {
   "cell_type": "code",
   "execution_count": 18,
   "metadata": {},
   "outputs": [
    {
     "name": "stdout",
     "output_type": "stream",
     "text": [
      "1997-10-14 07:15:00\n"
     ]
    }
   ],
   "source": [
    "#52.2 using dateutil module\n",
    "\n",
    "from dateutil import parser\n",
    "date_time=parser.parse('Oct 14 1997 7:15AM')\n",
    "print(date_time)"
   ]
  },
  {
   "cell_type": "code",
   "execution_count": 19,
   "metadata": {},
   "outputs": [
    {
     "name": "stdout",
     "output_type": "stream",
     "text": [
      "Capitan America\n"
     ]
    }
   ],
   "source": [
    "# 53 get the last element of a list\n",
    "\n",
    "avenger=['Hulk','Ironman','Thor','vision','Capitan America']\n",
    "print(avenger[-1])"
   ]
  },
  {
   "cell_type": "code",
   "execution_count": 20,
   "metadata": {},
   "outputs": [
    {
     "name": "stdout",
     "output_type": "stream",
     "text": [
      "harry Potter\n"
     ]
    }
   ],
   "source": [
    "#54 geta substring of a string\n",
    "a='harry Potter and the Goblet of fire'\n",
    "print(a[0:12])\n"
   ]
  },
  {
   "cell_type": "code",
   "execution_count": 21,
   "metadata": {},
   "outputs": [
    {
     "name": "stdout",
     "output_type": "stream",
     "text": [
      "Harry potter and the Goblet of Fire\n"
     ]
    }
   ],
   "source": [
    "#55 print output without a newline \n",
    "print('Harry potter', end=' ')\n",
    "print('and the Goblet of Fire')"
   ]
  },
  {
   "cell_type": "code",
   "execution_count": 23,
   "metadata": {},
   "outputs": [
    {
     "name": "stdout",
     "output_type": "stream",
     "text": [
      "['john 89', 'jatu 98', 'preethi 69', 'david 95']\n"
     ]
    }
   ],
   "source": [
    "#56 python program read a file line by linr into a list\n",
    "f=open('demo.txt','r')\n",
    "lines=f.readlines()\n",
    "new_lines=[x.strip() for x in lines]\n",
    "print(new_lines)"
   ]
  },
  {
   "cell_type": "code",
   "execution_count": 24,
   "metadata": {},
   "outputs": [
    {
     "name": "stdout",
     "output_type": "stream",
     "text": [
      "['john 89\\n', 'jatu 98\\n', 'preethi 69\\n', 'david 95']\n",
      "['john 89', 'jatu 98', 'preethi 69', 'david 95']\n"
     ]
    }
   ],
   "source": [
    "# 56.2 using for loop and list comprehension\n",
    "f=open('demo.txt','r')\n",
    "lines=[line for line in f]\n",
    "print(lines)\n",
    "new_lines=[x.strip() for x in lines]\n",
    "print(new_lines)"
   ]
  },
  {
   "cell_type": "code",
   "execution_count": 27,
   "metadata": {},
   "outputs": [
    {
     "name": "stdout",
     "output_type": "stream",
     "text": [
      "p\n"
     ]
    }
   ],
   "source": [
    "# 57 Randomly select an element from the list\n",
    "\n",
    "# using random module\n",
    "\n",
    "import random \n",
    "\n",
    "l=[2,5,'a','y',8,'p']\n",
    "random_value=random.choice(l)\n",
    "print(random_value)"
   ]
  },
  {
   "cell_type": "code",
   "execution_count": 28,
   "metadata": {},
   "outputs": [
    {
     "name": "stdout",
     "output_type": "stream",
     "text": [
      "5\n"
     ]
    }
   ],
   "source": [
    "# using secret module\n",
    "\n",
    "import secrets \n",
    "l=[2,5,'a','y',8,'p']\n",
    "random_value=secrets.choice(l)\n",
    "print(random_value)"
   ]
  },
  {
   "cell_type": "code",
   "execution_count": 30,
   "metadata": {},
   "outputs": [
    {
     "name": "stdout",
     "output_type": "stream",
     "text": [
      "False\n"
     ]
    }
   ],
   "source": [
    "#58 check if a string is a number\n",
    "num=input('enter a string')\n",
    "def float_check(num):\n",
    "    try:\n",
    "        float(num)\n",
    "        return True\n",
    "    except:\n",
    "        return False\n",
    "print(float_check(num))"
   ]
  },
  {
   "cell_type": "code",
   "execution_count": 32,
   "metadata": {},
   "outputs": [
    {
     "name": "stdout",
     "output_type": "stream",
     "text": [
      "2\n"
     ]
    }
   ],
   "source": [
    "# 59 count occurance of a list \n",
    "\n",
    "num=[10,20,30,50,10,30,20,40,70,40]\n",
    "count_occurance=num.count(10)\n",
    "print(count_occurance)\n",
    "\n"
   ]
  },
  {
   "cell_type": "code",
   "execution_count": 35,
   "metadata": {},
   "outputs": [
    {
     "name": "stdout",
     "output_type": "stream",
     "text": [
      "Occurrences of 2 is 4\n"
     ]
    }
   ],
   "source": [
    "# 59.2 count occurence of a list \n",
    "def count_occurrences(lst, target):\n",
    "    count = 0\n",
    "    for item in lst:\n",
    "        if item == target:\n",
    "            count += 1\n",
    "    return count\n",
    "\n",
    "# Example usage:\n",
    "my_list = [1, 2, 2, 3, 2, 4, 5, 2]\n",
    "target_element = 2\n",
    "print(\"Occurrences of\", target_element, \"is\", count_occurrences(my_list, target_element))\n",
    "\n"
   ]
  },
  {
   "cell_type": "code",
   "execution_count": 40,
   "metadata": {},
   "outputs": [],
   "source": [
    "# 60 Append file\n",
    "f=open('demo.txt','a')\n",
    "f.write('\\nthis is a demo file')\n",
    "f.close()"
   ]
  },
  {
   "cell_type": "code",
   "execution_count": 42,
   "metadata": {},
   "outputs": [
    {
     "name": "stdout",
     "output_type": "stream",
     "text": [
      "{'lisa': 96, 'David': 67, 'petter': 32}\n"
     ]
    }
   ],
   "source": [
    "#61 delete an elemnets from dictionary\n",
    "# using pop method \n",
    "\n",
    "marks={'john':89,'lisa':96,'David':67,'petter':32}\n",
    "pop_item=marks.pop('john')\n",
    "print(marks)\n"
   ]
  },
  {
   "cell_type": "code",
   "execution_count": 43,
   "metadata": {},
   "outputs": [
    {
     "name": "stdout",
     "output_type": "stream",
     "text": [
      "{'john': 89, 'lisa': 96, 'David': 67, 'petter': 32}\n",
      "{'lisa': 96, 'David': 67, 'petter': 32}\n"
     ]
    }
   ],
   "source": [
    "# using del\n",
    "marks={'john':89,'lisa':96,'David':67,'petter':32}\n",
    "print(marks)\n",
    "del marks['john']\n",
    "print(marks)"
   ]
  },
  {
   "cell_type": "code",
   "execution_count": 44,
   "metadata": {},
   "outputs": [
    {
     "name": "stdout",
     "output_type": "stream",
     "text": [
      "hello everyone \n",
      "     this is demo file\n",
      "      in python \n"
     ]
    }
   ],
   "source": [
    "#62 python program to create a long multiline string\n",
    "\n",
    "# using doc string\n",
    "\n",
    "print('''hello everyone \n",
    "     this is demo file\n",
    "      in python ''')"
   ]
  },
  {
   "cell_type": "code",
   "execution_count": 45,
   "metadata": {},
   "outputs": [
    {
     "name": "stdout",
     "output_type": "stream",
     "text": [
      "hello everyone \n",
      " this is demo file \n",
      "  in python \n"
     ]
    }
   ],
   "source": [
    "# using \\n\n",
    "print('hello everyone \\n this is demo file \\n  in python ')"
   ]
  },
  {
   "cell_type": "code",
   "execution_count": 48,
   "metadata": {},
   "outputs": [
    {
     "name": "stdout",
     "output_type": "stream",
     "text": [
      "hello everyone\n",
      "this is demo file\n",
      "in python\n"
     ]
    }
   ],
   "source": [
    "# using string\n",
    "string='hello everyone\\n'\\\n",
    "        'this is demo file\\n'\\\n",
    "        'in python'\n",
    "print(string)"
   ]
  },
  {
   "cell_type": "code",
   "execution_count": 49,
   "metadata": {},
   "outputs": [
    {
     "name": "stdout",
     "output_type": "stream",
     "text": [
      ".txt\n"
     ]
    }
   ],
   "source": [
    "#63 python program to extract file extension from a file name\n",
    "\n",
    "# using os module\n",
    "import os\n",
    "file_ext=os.path.splitext('E:/Complete_Placement/modern-python-101/Workspace/demo.txt')\n",
    "print(file_ext[1])"
   ]
  },
  {
   "cell_type": "code",
   "execution_count": 51,
   "metadata": {},
   "outputs": [
    {
     "name": "stdout",
     "output_type": "stream",
     "text": [
      ".txt\n"
     ]
    }
   ],
   "source": [
    "# using Pathlib module\n",
    "from pathlib import Path\n",
    "print(Path('E:/Complete_Placement/modern-python-101/Workspace/demo.txt').suffix)\n",
    "\n"
   ]
  },
  {
   "cell_type": "code",
   "execution_count": 52,
   "metadata": {},
   "outputs": [
    {
     "name": "stdout",
     "output_type": "stream",
     "text": [
      "3\n",
      "-3.2169463634490967\n"
     ]
    }
   ],
   "source": [
    "# 64 Measure the elapsed time in python\n",
    "import time\n",
    "starting_time=time.time()\n",
    "\n",
    "num=int(input(\"enter a num: \"))\n",
    "num1=int(input(\"enter a num: \"))\n",
    "print(num+num1)\n",
    "\n",
    "ending_time=time.time()\n",
    "print(ending_time-starting_time)"
   ]
  },
  {
   "cell_type": "code",
   "execution_count": 53,
   "metadata": {},
   "outputs": [
    {
     "name": "stdout",
     "output_type": "stream",
     "text": [
      "400\n",
      "0.00018849998014047742\n"
     ]
    }
   ],
   "source": [
    "#using timeit module\n",
    "from timeit import default_timer as timer\n",
    "starting_value=timer()\n",
    "print(20**2)\n",
    "ending_value=timer()\n",
    "print(ending_value-starting_value)"
   ]
  },
  {
   "cell_type": "code",
   "execution_count": 55,
   "metadata": {},
   "outputs": [
    {
     "name": "stdout",
     "output_type": "stream",
     "text": [
      "SmartPhone\n"
     ]
    }
   ],
   "source": [
    "#65 python program to get the class name of an instance\n",
    "\n",
    "class SmartPhone:\n",
    "    def name(self,name):\n",
    "        return name\n",
    "s1=SmartPhone()\n",
    "\n",
    "print(s1.__class__.__name__)\n"
   ]
  },
  {
   "cell_type": "code",
   "execution_count": 56,
   "metadata": {},
   "outputs": [
    {
     "name": "stdout",
     "output_type": "stream",
     "text": [
      "SmartPhone\n"
     ]
    }
   ],
   "source": [
    "class SmartPhone:\n",
    "    def name(self,name):\n",
    "        return name\n",
    "s1=SmartPhone()\n",
    "\n",
    "print(type(s1).__name__)"
   ]
  },
  {
   "cell_type": "code",
   "execution_count": 4,
   "metadata": {},
   "outputs": [
    {
     "name": "stdout",
     "output_type": "stream",
     "text": [
      "{'Jhon': 98, 'peter': 78, 'lisa': 88, 'david': 72}\n"
     ]
    }
   ],
   "source": [
    " #66 Convert two lists into a dicitionary\n",
    "names=['Jhon','peter','lisa','david']\n",
    "marks=[98,78,88,72]\n",
    "\n",
    "dictionary=zip(names,marks)\n",
    "print(dict(dictionary))"
   ]
  },
  {
   "cell_type": "code",
   "execution_count": 5,
   "metadata": {},
   "outputs": [
    {
     "name": "stdout",
     "output_type": "stream",
     "text": [
      "{'Jhon': 98, 'peter': 78, 'lisa': 88, 'david': 72}\n"
     ]
    }
   ],
   "source": [
    "#66.2 using zip() and listcomprehension\n",
    "names=['Jhon','peter','lisa','david']\n",
    "marks=[98,78,88,72]\n",
    "dictionary={key:value for key,value in zip(names,marks)}\n",
    "print(dictionary)"
   ]
  },
  {
   "cell_type": "code",
   "execution_count": 6,
   "metadata": {},
   "outputs": [],
   "source": [
    "#67. difference between type() and isinstance()"
   ]
  },
  {
   "cell_type": "code",
   "execution_count": 7,
   "metadata": {},
   "outputs": [
    {
     "name": "stdout",
     "output_type": "stream",
     "text": [
      "\n",
      " I love Python\n",
      "\n",
      " I love Python\n"
     ]
    }
   ],
   "source": [
    "#68 Trim whitespaces from a string\n",
    "string='\\nI love Python'\n",
    "print(string)\n",
    "print(string.strip(' '))"
   ]
  },
  {
   "cell_type": "code",
   "execution_count": 9,
   "metadata": {},
   "outputs": [
    {
     "name": "stdout",
     "output_type": "stream",
     "text": [
      "I love python\n"
     ]
    }
   ],
   "source": [
    "#using regular Expressions(RegEx)\n",
    "import re\n",
    "string='I love python'\n",
    "\n",
    "x=re.sub(r'^\\s|\\s$','',string)\n",
    "print(x)"
   ]
  },
  {
   "cell_type": "code",
   "execution_count": 10,
   "metadata": {},
   "outputs": [
    {
     "name": "stdout",
     "output_type": "stream",
     "text": [
      "demo\n"
     ]
    }
   ],
   "source": [
    "#69 Get the file name from the file path\n",
    "\n",
    "# using os module\n",
    "import os\n",
    "file_name=os.path.basename('E:/Complete_Placement/modern-python-101/Workspace/demo.txt')\n",
    "print(os.path.splitext(file_name)[0])"
   ]
  },
  {
   "cell_type": "code",
   "execution_count": 11,
   "metadata": {},
   "outputs": [
    {
     "name": "stdout",
     "output_type": "stream",
     "text": [
      "demo\n"
     ]
    }
   ],
   "source": [
    "# using path module\n",
    "from pathlib import Path\n",
    "print(Path('E:/Complete_Placement/modern-python-101/Workspace/demo.txt').stem)"
   ]
  },
  {
   "cell_type": "code",
   "execution_count": 1,
   "metadata": {},
   "outputs": [
    {
     "name": "stdout",
     "output_type": "stream",
     "text": [
      "SmartPhone.Samsung\n",
      "Samsung\n",
      "1\n"
     ]
    }
   ],
   "source": [
    "#70 python program to represent enum\n",
    "\n",
    "from enum import Enum\n",
    "\n",
    "class SmartPhone(Enum):\n",
    "    Samsung=1\n",
    "    Nokia=2\n",
    "    Apple=3\n",
    "print(SmartPhone.Samsung)\n",
    "print(SmartPhone.Samsung.name)\n",
    "print(SmartPhone.Samsung.value)"
   ]
  },
  {
   "cell_type": "code",
   "execution_count": 3,
   "metadata": {},
   "outputs": [
    {
     "name": "stdout",
     "output_type": "stream",
     "text": [
      "('yash', 'teja')\n",
      "yash teja\n"
     ]
    }
   ],
   "source": [
    "# 71 Return multiple values from a function\n",
    "# using unpacking of Tuples \n",
    "def Friends():\n",
    "    return 'yash','teja'\n",
    "print(Friends())\n",
    "n1,n2=Friends()\n",
    "print(n1,n2)"
   ]
  },
  {
   "cell_type": "code",
   "execution_count": 4,
   "metadata": {},
   "outputs": [
    {
     "name": "stdout",
     "output_type": "stream",
     "text": [
      "{1: 'yash', 2: 'teja'}\n"
     ]
    }
   ],
   "source": [
    "# Using dictionary\n",
    "def Friends():\n",
    "    n1='yash'\n",
    "    n2='teja'\n",
    "    return {1:n1,2:n2}\n",
    "print(Friends())"
   ]
  },
  {
   "cell_type": "code",
   "execution_count": 5,
   "metadata": {},
   "outputs": [
    {
     "name": "stdout",
     "output_type": "stream",
     "text": [
      "4\n"
     ]
    }
   ],
   "source": [
    "#72 get line count of a file\n",
    "# using the len() function\n",
    "f=open(\"demo.txt\")\n",
    "print(len(f.readlines()))"
   ]
  },
  {
   "cell_type": "code",
   "execution_count": 6,
   "metadata": {},
   "outputs": [
    {
     "name": "stdout",
     "output_type": "stream",
     "text": [
      "4\n"
     ]
    }
   ],
   "source": [
    "# using the list comprehension\n",
    "lines=sum(1 for i in open('demo.txt'))\n",
    "print(lines)"
   ]
  },
  {
   "cell_type": "code",
   "execution_count": 7,
   "metadata": {},
   "outputs": [
    {
     "name": "stdout",
     "output_type": "stream",
     "text": [
      "demo.txt\n",
      "desti.txt\n"
     ]
    }
   ],
   "source": [
    "#73 Python Program to find all file with .txt extension present inside a directory\n",
    "\n",
    "# using Glob module and os module\n",
    "\n",
    "import glob,os \n",
    "os.chdir('E:/Complete_Placement/modern-python-101/Workspace/')\n",
    "for files in glob.glob('*txt'):\n",
    "    print(files)"
   ]
  },
  {
   "cell_type": "code",
   "execution_count": 8,
   "metadata": {},
   "outputs": [
    {
     "name": "stdout",
     "output_type": "stream",
     "text": [
      "demo.txt\n",
      "desti.txt\n"
     ]
    }
   ],
   "source": [
    "# using os module\n",
    "import os\n",
    "for files in os.listdir('E:/Complete_Placement/modern-python-101/Workspace/'):\n",
    "    if files.endswith('.txt'):\n",
    "        print(files)"
   ]
  },
  {
   "cell_type": "code",
   "execution_count": 9,
   "metadata": {},
   "outputs": [
    {
     "name": "stdout",
     "output_type": "stream",
     "text": [
      "demo.txt\n",
      "desti.txt\n"
     ]
    }
   ],
   "source": [
    "# using  os.walk()\n",
    "import os\n",
    "for root,dir,files in os.walk('E:/Complete_Placement/modern-python-101/Workspace/'):\n",
    "    for file in files:\n",
    "        if file.endswith('.txt'):\n",
    "            print(file)\n"
   ]
  },
  {
   "cell_type": "code",
   "execution_count": 2,
   "metadata": {},
   "outputs": [
    {
     "name": "stdout",
     "output_type": "stream",
     "text": [
      "e:\\Complete_Placement\\modern-python-101\\Workspace\n",
      "E:\\Complete_Placement\\modern-python-101\\Workspace\n"
     ]
    }
   ],
   "source": [
    "# 74 python program to get the full path of the current working directory\n",
    "# using os module\n",
    "import os\n",
    "\n",
    "# currentpath\n",
    "print(os.path.abspath(os.getcwd()))\n",
    "\n",
    "# file path\n",
    "print(os.path.dirname(os.path.abspath('E:/Complete_Placement/modern-python-101/Workspace/demo.txt')))\n"
   ]
  },
  {
   "cell_type": "code",
   "execution_count": 4,
   "metadata": {},
   "outputs": [
    {
     "name": "stdout",
     "output_type": "stream",
     "text": [
      "e:\\Complete_Placement\\modern-python-101\\Workspace\n"
     ]
    }
   ],
   "source": [
    "# using pathlib\n",
    "\n",
    "import pathlib\n",
    "print(pathlib.Path().absolute())"
   ]
  },
  {
   "cell_type": "code",
   "execution_count": 5,
   "metadata": {},
   "outputs": [
    {
     "name": "stdout",
     "output_type": "stream",
     "text": [
      "Rachel Ross\n",
      "mounika chandler\n",
      "Phoebe joe\n"
     ]
    }
   ],
   "source": [
    "#75 iterate thri=oughtwo lists in parallel\n",
    "l1=['Rachel','mounika','Phoebe']\n",
    "l2=['Ross','chandler','joe']\n",
    "\n",
    "for x,y in zip(l1,l2):\n",
    "    print(x,y)"
   ]
  },
  {
   "cell_type": "code",
   "execution_count": 7,
   "metadata": {},
   "outputs": [
    {
     "name": "stdout",
     "output_type": "stream",
     "text": [
      "38\n"
     ]
    }
   ],
   "source": [
    "#76 Check the file size \n",
    "# using os module\n",
    "\n",
    "import os\n",
    "\n",
    "file_size=os.stat('E:/Complete_Placement/modern-python-101/Workspace/demo.txt')\n",
    "print(file_size.st_size)"
   ]
  },
  {
   "cell_type": "code",
   "execution_count": 8,
   "metadata": {},
   "outputs": [
    {
     "name": "stdout",
     "output_type": "stream",
     "text": [
      "38\n"
     ]
    }
   ],
   "source": [
    "#using pathlib module\n",
    "\n",
    "from pathlib import Path\n",
    "file_size=Path('E:/Complete_Placement/modern-python-101/Workspace/demo.txt')\n",
    "print(file_size.stat().st_size)"
   ]
  },
  {
   "cell_type": "code",
   "execution_count": 12,
   "metadata": {},
   "outputs": [
    {
     "name": "stdout",
     "output_type": "stream",
     "text": [
      "3201\n"
     ]
    }
   ],
   "source": [
    "#77 Reverse a number\n",
    "\n",
    "num=int(input('enter a number: '))\n",
    "reverse=0\n",
    "while num>0:\n",
    "    remainder=num%10\n",
    "    reverse=(reverse*10)+remainder\n",
    "    num=num//10\n",
    "print(reverse)\n"
   ]
  },
  {
   "cell_type": "code",
   "execution_count": 3,
   "metadata": {},
   "outputs": [
    {
     "name": "stdout",
     "output_type": "stream",
     "text": [
      "Answer 100\n"
     ]
    }
   ],
   "source": [
    "#78 compute the power of number\n",
    "# using while loop\n",
    "base=int(input('Enter a number: '))\n",
    "exponent=int(input('Enter a number: '))\n",
    "result=1\n",
    "while exponent!=0:\n",
    "    result*=base\n",
    "    exponent-=1\n",
    "print('Answer',+ result)"
   ]
  },
  {
   "cell_type": "code",
   "execution_count": 3,
   "metadata": {},
   "outputs": [
    {
     "name": "stdout",
     "output_type": "stream",
     "text": [
      "The computed value is 243\n"
     ]
    }
   ],
   "source": [
    "# using for loop \n",
    "base=int(input('Enter a number: '))\n",
    "exponent=int(input('Enter a number: '))\n",
    "result=1\n",
    "for i in range(exponent,0,-1):\n",
    "    result=result*base\n",
    "print(\"The computed value is\",result)"
   ]
  },
  {
   "cell_type": "code",
   "execution_count": 5,
   "metadata": {},
   "outputs": [
    {
     "name": "stdout",
     "output_type": "stream",
     "text": [
      "243\n"
     ]
    }
   ],
   "source": [
    "# using pow()\n",
    "base=int(input('Enter a number: '))\n",
    "exponent=int(input('Enter a number: '))\n",
    "value=pow(base,exponent)\n",
    "print(value)"
   ]
  },
  {
   "cell_type": "code",
   "execution_count": 7,
   "metadata": {},
   "outputs": [
    {
     "name": "stdout",
     "output_type": "stream",
     "text": [
      "32\n"
     ]
    }
   ],
   "source": [
    "# using ** operator\n",
    "base=int(input('Enter a number: '))\n",
    "expoonent=int(input('Enter a number: '))\n",
    "result=base**exponent\n",
    "print(result)"
   ]
  },
  {
   "cell_type": "code",
   "execution_count": 8,
   "metadata": {},
   "outputs": [
    {
     "name": "stdout",
     "output_type": "stream",
     "text": [
      "6\n"
     ]
    }
   ],
   "source": [
    "# 79 Count the number of digits present in a number\n",
    "\n",
    "# using the len()\n",
    "num=input('Enter a number: ')\n",
    "count=len(num)\n",
    "print(count)"
   ]
  },
  {
   "cell_type": "code",
   "execution_count": 9,
   "metadata": {},
   "outputs": [
    {
     "name": "stdout",
     "output_type": "stream",
     "text": [
      "6\n"
     ]
    }
   ],
   "source": [
    "# using while loop\n",
    "num=int(input('enter a number: '))\n",
    "count=0\n",
    "while num!=0:\n",
    "    num=num//10\n",
    "    count+=1\n",
    "print(count)"
   ]
  },
  {
   "cell_type": "code",
   "execution_count": 10,
   "metadata": {},
   "outputs": [
    {
     "name": "stdout",
     "output_type": "stream",
     "text": [
      "The given string is a anagram\n"
     ]
    }
   ],
   "source": [
    "# 80 check whether two strings are anagram or not\n",
    "a1=input(\"enter a string: \") #elbow\n",
    "a2=input(\"enter a string: \") #below\n",
    "\n",
    "# length of two strings must be equal\n",
    "if len(a1)==len(a2):\n",
    "    # next we need to sort the strings \n",
    "    a1_sorted=sorted(a1)\n",
    "    a2_sorted=sorted(a2)\n",
    "    if a1_sorted==a2_sorted:\n",
    "        print('The given string is a anagram')\n",
    "    else:\n",
    "        print('The given string is not a anagram')\n",
    "else:\n",
    "    print('The given string is not a anagram')"
   ]
  },
  {
   "cell_type": "code",
   "execution_count": 12,
   "metadata": {},
   "outputs": [
    {
     "name": "stdout",
     "output_type": "stream",
     "text": [
      "Python\n"
     ]
    }
   ],
   "source": [
    "#81 Capitalize the First Character of String\n",
    "# using .upper( ) and slicing \n",
    "a='python'\n",
    "print(a[0].upper()+a[1:])"
   ]
  },
  {
   "cell_type": "code",
   "execution_count": 13,
   "metadata": {},
   "outputs": [
    {
     "name": "stdout",
     "output_type": "stream",
     "text": [
      "python\n",
      "Python\n"
     ]
    }
   ],
   "source": [
    "# using capitalize()\n",
    "a='python'\n",
    "print(a)\n",
    "print(a.capitalize())"
   ]
  },
  {
   "cell_type": "code",
   "execution_count": 16,
   "metadata": {},
   "outputs": [
    {
     "name": "stdout",
     "output_type": "stream",
     "text": [
      "00:13\n",
      "00:12\n",
      "00:11\n",
      "00:10\n",
      "00:09\n",
      "00:08\n",
      "00:07\n",
      "00:06\n",
      "00:05\n",
      "00:04\n",
      "00:03\n",
      "00:02\n",
      "00:01\n",
      "stop\n"
     ]
    }
   ],
   "source": [
    "#82 python program to create a countdown timer\n",
    "import time\n",
    "def coutdown(sec):\n",
    "    while sec:\n",
    "        mins,secs=divmod(sec,60)\n",
    "        time_format='{:02d}:{:02d}'.format(mins,secs)\n",
    "        print(time_format)\n",
    "        time.sleep(1)\n",
    "        sec-=1\n",
    "    print(\"stop\")\n",
    "coutdown(13)\n",
    "\n"
   ]
  },
  {
   "cell_type": "code",
   "execution_count": 17,
   "metadata": {},
   "outputs": [
    {
     "name": "stdout",
     "output_type": "stream",
     "text": [
      "2\n"
     ]
    }
   ],
   "source": [
    "# 83 count the number f occurance of a chharater in string\n",
    "# using a  for loop\n",
    "\n",
    "string='PythonProgramming'\n",
    "char='P'\n",
    "count=0\n",
    "for i in string:\n",
    "    if i==char:\n",
    "        count+=1\n",
    "print(count)"
   ]
  },
  {
   "cell_type": "code",
   "execution_count": 18,
   "metadata": {},
   "outputs": [
    {
     "name": "stdout",
     "output_type": "stream",
     "text": [
      "2\n"
     ]
    }
   ],
   "source": [
    "# using the count method\n",
    "a='pythonprograms'\n",
    "char='p'\n",
    "print(a.count(char))"
   ]
  },
  {
   "cell_type": "code",
   "execution_count": 22,
   "metadata": {},
   "outputs": [
    {
     "name": "stdout",
     "output_type": "stream",
     "text": [
      "[1, 2, 3]\n"
     ]
    }
   ],
   "source": [
    "#84 Remove duplicte values in list \n",
    "\n",
    "lst=[1,2,3,1,2]\n",
    "non_duplicates=list(set(lst))\n",
    "print(non_duplicates)\n"
   ]
  },
  {
   "cell_type": "code",
   "execution_count": 34,
   "metadata": {},
   "outputs": [
    {
     "name": "stdout",
     "output_type": "stream",
     "text": [
      "[1, 2, 3]\n"
     ]
    }
   ],
   "source": [
    "# using for loop\n",
    "\n",
    "lst=[1,2,3,2,1]\n",
    "non_dup=[]\n",
    "for i in lst:\n",
    "    if i not in non_dup:\n",
    "        non_dup.append(i)\n",
    "print(non_dup)\n",
    "\n"
   ]
  },
  {
   "cell_type": "code",
   "execution_count": 38,
   "metadata": {},
   "outputs": [
    {
     "name": "stdout",
     "output_type": "stream",
     "text": [
      "😃\n"
     ]
    }
   ],
   "source": [
    "#85 Convert bytes to a string\n",
    "\n",
    "print(b'\\xF0\\x9F\\x98\\x83'.decode('utf-8'))"
   ]
  },
  {
   "cell_type": "code",
   "execution_count": null,
   "metadata": {},
   "outputs": [],
   "source": []
  }
 ],
 "metadata": {
  "kernelspec": {
   "display_name": "Python 3",
   "language": "python",
   "name": "python3"
  },
  "language_info": {
   "codemirror_mode": {
    "name": "ipython",
    "version": 3
   },
   "file_extension": ".py",
   "mimetype": "text/x-python",
   "name": "python",
   "nbconvert_exporter": "python",
   "pygments_lexer": "ipython3",
   "version": "3.11.1"
  }
 },
 "nbformat": 4,
 "nbformat_minor": 2
}
