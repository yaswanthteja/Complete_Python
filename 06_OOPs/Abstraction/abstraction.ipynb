{
 "cells": [
  {
   "cell_type": "markdown",
   "metadata": {},
   "source": [
    "### Abstraction"
   ]
  },
  {
   "cell_type": "markdown",
   "metadata": {},
   "source": [
    "- Abstraction is one of the important topics of object-oriented programming (OOP) which **is used to handle complexity by hiding unnecessary information and showing only essential information to the user.** \n",
    "\n",
    "- Abstraction becomes very useful when we want to implement or handle complex logic without knowing the hidden complexity.\n",
    "\n",
    "**Hiding complex implementation details and showing only signatures to users.**"
   ]
  },
  {
   "cell_type": "markdown",
   "metadata": {},
   "source": [
    "#### Real World Example of Abstraction:-\n",
    "\n",
    "For example, when we go to an ATM we can perform various tasks like withdrawing cash, checking balance, retrieving statements, changing a PIN, and many more so while performing these tasks we don’t know the internal implementation of the tasks. That’s how abstraction is useful when we want to show only the required information to the user while hiding other information."
   ]
  },
  {
   "cell_type": "markdown",
   "metadata": {},
   "source": [
    "### How abstraction achieved in python:-\n",
    "\n",
    "- In python there is no built in abstract class unlike in c++ and java.\n",
    "- But in python there is a module called abc module.\n",
    "- Through this we can achieve abstraction **By using abc module:**\n",
    "- ABC class abstract method and  we need to use `@abstractmethod`\n",
    "- Inherit your class from ABC class.\n",
    "- Create abstract methods in your abstract class.\n"
   ]
  },
  {
   "cell_type": "markdown",
   "metadata": {},
   "source": [
    "### Syntax\n",
    "\n",
    "```python\n",
    "from abc import ABC,abstractmethod\n",
    "class classname(ABC):\n",
    "\t#Abstract methods\n",
    "\t@abstractmethod\n",
    "\tdef abstrat_method(self):\n",
    "\t\tpass\n",
    "\t# concrete methods\n",
    "```\n"
   ]
  },
  {
   "cell_type": "markdown",
   "metadata": {},
   "source": [
    "#### Example\n",
    "\n",
    "```python\n",
    "from abc import ABC, abstractmethod\n",
    "class abs_class(ABC):\n",
    "    #normal method\n",
    "    def method(self):\n",
    "        #method definition\n",
    "    @abstractmethod\n",
    "    def Abs_method(self):\n",
    "        #Abs_method definition\n",
    "        pass\n",
    "```"
   ]
  },
  {
   "cell_type": "markdown",
   "metadata": {},
   "source": [
    "Here, abs_class is the abstract class inside which abstract methods or any other sort of methods can be defined.\n",
    "\n",
    "As a property, abstract classes can have any number of abstract methods coexisting with any number of other methods. For example we can see below.\n",
    "\n",
    "Here, method() is normal method whereas Abs_method() is an abstract method implementing @abstractmethod from the abc module\n",
    "\n"
   ]
  },
  {
   "cell_type": "markdown",
   "metadata": {},
   "source": [
    "#### 1. Abstract Methods\n",
    "\n",
    "Abstract Methods that has a declaration but doesn't have any implementation (we just use pass inside the method) and along with @abstractmethod then it considered as abstract method.\n",
    "- Every abstract method should be include  in every child class else it will give Type Error\n",
    "- All abstract methods present in abstract class must be implemented in child classes else Child class becomes abstract\n",
    "\n",
    "#### 2. Concrete Methods\n",
    "Concrete methods are normal methods \n",
    "- concrete methods can be called using object reference."
   ]
  },
  {
   "cell_type": "markdown",
   "metadata": {},
   "source": [
    "#### 3. Abstract Class\n",
    "\n",
    "- A class Which contains one or more abstract methods  and Concrete methods \n",
    "- Abstract class must have at least one abstract method \n",
    "- An Abstract class can be considered as a blueprint for other classes\n",
    "- A class which is inhereted from ABC class"
   ]
  },
  {
   "cell_type": "markdown",
   "metadata": {},
   "source": [
    "### IMP\n",
    "\n",
    "- You can't initialize abstract classes (Can't create a object for abstract class)\n",
    "- Abstract Class requires at least one method abstract\n",
    "- If there is abstract method in class that class must be abstract class\n",
    "- All abstract methods present in abstract class must be implemented in child class else,child class become abstract class \n"
   ]
  },
  {
   "cell_type": "code",
   "execution_count": 1,
   "metadata": {},
   "outputs": [
    {
     "name": "stdout",
     "output_type": "stream",
     "text": [
      "Mileage is 40 kmph\n",
      "White\n",
      "Mileage is 35 kmph\n",
      "White\n",
      "Mileage is 30 kmph\n",
      "White\n"
     ]
    }
   ],
   "source": [
    "# Example 1:\n",
    "\n",
    "from abc import ABC,abstractmethod\n",
    "class Car(ABC):\n",
    "\n",
    "\t# abstract method\n",
    "\t@abstractmethod\n",
    "\tdef mileage(self):       # This method is mandatory to all child classes\n",
    "\t\tpass\n",
    "\n",
    "\t# concrete method (normal method)\n",
    "\tdef color(self):\n",
    "\t\tprint('White')\n",
    "\t\n",
    "class Maruti_suziki(Car):\n",
    "\tdef mileage(self):\n",
    "\t\tprint('Mileage is 30 kmph')\n",
    "\n",
    "class Tata(Car):\n",
    "\tdef mileage(self):\n",
    "\t\tprint('Mileage is 35 kmph')\n",
    "\n",
    "class Dustur(Car):\n",
    "\tdef mileage(self):\n",
    "\t\tprint('Mileage is 40 kmph')\n",
    "\n",
    "#c1=Car()\n",
    "'''\n",
    " TypeError:can't instantiate abstract class car with abstract method mileage\n",
    " we can't create object for abstract class.\n",
    " Except abstract class for all class we can create objects.\n",
    " All classes should contain abstract method,if not it will raise a Type error\n",
    "'''\n",
    "\n",
    "# creating the objects for classes\n",
    "m1=Maruti_suziki()\n",
    "t1=Tata()\n",
    "d1=Dustur()\n",
    "\n",
    "# accessing abstract method and concrete methods\n",
    "d1.mileage()\n",
    "d1.color()\n",
    "\n",
    "t1.mileage()\n",
    "t1.color()\n",
    "\n",
    "m1.mileage()\n",
    "m1.color()"
   ]
  },
  {
   "cell_type": "code",
   "execution_count": 4,
   "metadata": {},
   "outputs": [
    {
     "name": "stdout",
     "output_type": "stream",
     "text": [
      "Implementing the abstract method\n"
     ]
    },
    {
     "ename": "TypeError",
     "evalue": "Can't instantiate abstract class IncompleteChildClass without an implementation for abstract method 'my_method'",
     "output_type": "error",
     "traceback": [
      "\u001b[1;31m---------------------------------------------------------------------------\u001b[0m",
      "\u001b[1;31mTypeError\u001b[0m                                 Traceback (most recent call last)",
      "Cell \u001b[1;32mIn[4], line 22\u001b[0m\n\u001b[0;32m     19\u001b[0m \u001b[38;5;28;01mclass\u001b[39;00m \u001b[38;5;21;01mIncompleteChildClass\u001b[39;00m(AbstractClass):\n\u001b[0;32m     20\u001b[0m     \u001b[38;5;28;01mpass\u001b[39;00m\n\u001b[1;32m---> 22\u001b[0m incomplete_child \u001b[38;5;241m=\u001b[39m \u001b[43mIncompleteChildClass\u001b[49m\u001b[43m(\u001b[49m\u001b[43m)\u001b[49m  \u001b[38;5;66;03m# Raises TypeError\u001b[39;00m\n",
      "\u001b[1;31mTypeError\u001b[0m: Can't instantiate abstract class IncompleteChildClass without an implementation for abstract method 'my_method'"
     ]
    }
   ],
   "source": [
    "# Every abstract method should be include  in every child class else it will give Type Error\n",
    "\n",
    "from abc import ABC, abstractmethod\n",
    "\n",
    "class AbstractClass(ABC):\n",
    "    @abstractmethod\n",
    "    def my_method(self):\n",
    "        pass\n",
    "\n",
    "class ChildClass(AbstractClass):\n",
    "    def my_method(self):\n",
    "        print(\"Implementing the abstract method\")\n",
    "\n",
    "# This will work\n",
    "child = ChildClass()\n",
    "child.my_method()\n",
    "\n",
    "# This will raise a TypeError\n",
    "class IncompleteChildClass(AbstractClass):\n",
    "    pass\n",
    "\n",
    "incomplete_child = IncompleteChildClass()  # Raises TypeError\n"
   ]
  },
  {
   "cell_type": "code",
   "execution_count": 5,
   "metadata": {},
   "outputs": [
    {
     "ename": "TypeError",
     "evalue": "Can't instantiate abstract class PartialChildClass without an implementation for abstract method 'method_two'",
     "output_type": "error",
     "traceback": [
      "\u001b[1;31m---------------------------------------------------------------------------\u001b[0m",
      "\u001b[1;31mTypeError\u001b[0m                                 Traceback (most recent call last)",
      "Cell \u001b[1;32mIn[5], line 19\u001b[0m\n\u001b[0;32m     16\u001b[0m         \u001b[38;5;28mprint\u001b[39m(\u001b[38;5;124m\"\u001b[39m\u001b[38;5;124mImplemented method_one\u001b[39m\u001b[38;5;124m\"\u001b[39m)\n\u001b[0;32m     18\u001b[0m \u001b[38;5;66;03m# This will raise a TypeError because method_two is not implemented\u001b[39;00m\n\u001b[1;32m---> 19\u001b[0m partial_child \u001b[38;5;241m=\u001b[39m \u001b[43mPartialChildClass\u001b[49m\u001b[43m(\u001b[49m\u001b[43m)\u001b[49m\n",
      "\u001b[1;31mTypeError\u001b[0m: Can't instantiate abstract class PartialChildClass without an implementation for abstract method 'method_two'"
     ]
    }
   ],
   "source": [
    "#  All abstract methods present in abstract class must be implemented in child classes else Child class becomes abstract\n",
    "\n",
    "from abc import ABC, abstractmethod\n",
    "\n",
    "class AbstractClass(ABC):\n",
    "    @abstractmethod\n",
    "    def method_one(self):\n",
    "        pass\n",
    "\n",
    "    @abstractmethod\n",
    "    def method_two(self):\n",
    "        pass\n",
    "\n",
    "# Child class not implementing all abstract methods\n",
    "class PartialChildClass(AbstractClass):\n",
    "    def method_one(self):\n",
    "        print(\"Implemented method_one\")\n",
    "\n",
    "# This will raise a TypeError because method_two is not implemented\n",
    "partial_child = PartialChildClass()\n",
    "\n",
    "'''\n",
    "In this case, PartialChildClass has only implemented method_one but not method_two. Therefore, attempting to instantiate PartialChildClass will raise a TypeError\n",
    "'''\n"
   ]
  },
  {
   "cell_type": "code",
   "execution_count": 6,
   "metadata": {},
   "outputs": [
    {
     "ename": "TypeError",
     "evalue": "Can't instantiate abstract class AbstractClass without an implementation for abstract method 'my_method'",
     "output_type": "error",
     "traceback": [
      "\u001b[1;31m---------------------------------------------------------------------------\u001b[0m",
      "\u001b[1;31mTypeError\u001b[0m                                 Traceback (most recent call last)",
      "Cell \u001b[1;32mIn[6], line 11\u001b[0m\n\u001b[0;32m      8\u001b[0m         \u001b[38;5;28;01mpass\u001b[39;00m\n\u001b[0;32m     10\u001b[0m \u001b[38;5;66;03m# This will raise a TypeError\u001b[39;00m\n\u001b[1;32m---> 11\u001b[0m abstract_instance \u001b[38;5;241m=\u001b[39m \u001b[43mAbstractClass\u001b[49m\u001b[43m(\u001b[49m\u001b[43m)\u001b[49m\n",
      "\u001b[1;31mTypeError\u001b[0m: Can't instantiate abstract class AbstractClass without an implementation for abstract method 'my_method'"
     ]
    }
   ],
   "source": [
    "# You can't initialize abstract classes (Can't create a object for abstract class)\n",
    "\n",
    "from abc import ABC, abstractmethod\n",
    "\n",
    "class AbstractClass(ABC):\n",
    "    @abstractmethod\n",
    "    def my_method(self):\n",
    "        pass\n",
    "\n",
    "# This will raise a TypeError\n",
    "abstract_instance = AbstractClass()\n"
   ]
  },
  {
   "cell_type": "code",
   "execution_count": null,
   "metadata": {},
   "outputs": [],
   "source": []
  },
  {
   "cell_type": "markdown",
   "metadata": {},
   "source": [
    "### Interface\n",
    "\n",
    "\n",
    "\n",
    "An interface is like a contract or blueprint that defines what methods a class should have, but not how they should be implemented.\n",
    "\n",
    "It’s mostly used in object-oriented programming (especially in languages like Java, C#, and Python (via abstract classes)) to ensure that different classes implement the same set of methods in their own way.\n",
    "\n",
    "(or)\n",
    "\n",
    "An interface is a set of method declarations without implementation.\n",
    "\n",
    "\n",
    "example:\n",
    "\n",
    "- Imagine a remote control interface.\n",
    "\n",
    "- It says: Every device must have a powerOn() and powerOff() button.\n",
    "\n",
    "- How those buttons work will depend on the actual device (TV, AC, Projector).\n",
    "\n",
    "So:\n",
    "\n",
    "- The interface = remote control layout (declares functions)\n",
    "\n",
    "- The implementation = each device’s unique response to button press\n",
    "\n",
    "\n",
    "\n"
   ]
  },
  {
   "cell_type": "markdown",
   "metadata": {},
   "source": [
    "### Interview Explanation:\n",
    "“An interface defines a set of methods that any class must implement. It doesn’t care how the methods work — it just ensures that they exist. This is useful when you want to ensure that different classes can be used in the same way, like different payment methods or notification systems.”"
   ]
  },
  {
   "cell_type": "code",
   "execution_count": 1,
   "metadata": {},
   "outputs": [
    {
     "name": "stdout",
     "output_type": "stream",
     "text": [
      "Paid ₹500 using PayPal\n",
      "Paid ₹700 using Razorpay\n"
     ]
    }
   ],
   "source": [
    "from abc import ABC, abstractmethod\n",
    "\n",
    "# Interface\n",
    "class PaymentGateway(ABC):\n",
    "    \n",
    "    @abstractmethod\n",
    "    def pay(self, amount):\n",
    "        pass\n",
    "\n",
    "# Implementation 1\n",
    "class PayPal(PaymentGateway):\n",
    "    def pay(self, amount):\n",
    "        print(f\"Paid ₹{amount} using PayPal\")\n",
    "\n",
    "# Implementation 2\n",
    "class Razorpay(PaymentGateway):\n",
    "    def pay(self, amount):\n",
    "        print(f\"Paid ₹{amount} using Razorpay\")\n",
    "\n",
    "# Usage\n",
    "def checkout(payment_method: PaymentGateway, amount):\n",
    "    payment_method.pay(amount)\n",
    "\n",
    "checkout(PayPal(), 500)\n",
    "checkout(Razorpay(), 700)\n"
   ]
  },
  {
   "cell_type": "code",
   "execution_count": null,
   "metadata": {},
   "outputs": [],
   "source": []
  }
 ],
 "metadata": {
  "kernelspec": {
   "display_name": "Python 3",
   "language": "python",
   "name": "python3"
  },
  "language_info": {
   "codemirror_mode": {
    "name": "ipython",
    "version": 3
   },
   "file_extension": ".py",
   "mimetype": "text/x-python",
   "name": "python",
   "nbconvert_exporter": "python",
   "pygments_lexer": "ipython3",
   "version": "3.12.5"
  }
 },
 "nbformat": 4,
 "nbformat_minor": 2
}
