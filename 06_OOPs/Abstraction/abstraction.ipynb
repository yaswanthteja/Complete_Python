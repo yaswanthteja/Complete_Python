{
 "cells": [
  {
   "cell_type": "markdown",
   "metadata": {},
   "source": [
    "### Abstraction"
   ]
  },
  {
   "cell_type": "markdown",
   "metadata": {},
   "source": [
    "- Abstraction is one of the important topics of object-oriented programming (OOP) which **is used to handle complexity by hiding unnecessary information and showing only essential information to the user.** \n",
    "\n",
    "- Abstraction becomes very useful when we want to implement or handle complex logic without knowing the hidden complexity.\n",
    "\n",
    "**Hiding complex implementation details and showing only signatures to users.**"
   ]
  },
  {
   "cell_type": "markdown",
   "metadata": {},
   "source": [
    "#### Real World Example of Abstraction:-\n",
    "\n",
    "For example, when we go to an ATM we can perform various tasks like withdrawing cash, checking balance, retrieving statements, changing a PIN, and many more so while performing these tasks we don’t know the internal implementation of the tasks. That’s how abstraction is useful when we want to show only the required information to the user while hiding other information."
   ]
  },
  {
   "cell_type": "markdown",
   "metadata": {},
   "source": [
    "### How abstraction achieved in python:-\n",
    "\n",
    "- In python there is no built in abstract class unlike in c++ and java.\n",
    "- But in python there is a module called abc module.\n",
    "- Through this we can achieve abstraction **By using abc module:**\n",
    "- ABC class abstract method and  we need to use `@abstractmethod`\n",
    "- Inherit your class from ABC class.\n",
    "- Create abstract methods in your abstract class.\n"
   ]
  },
  {
   "cell_type": "markdown",
   "metadata": {},
   "source": [
    "### Syntax\n",
    "\n",
    "```python\n",
    "from abc import ABC,abstractmethod\n",
    "class classname(ABC):\n",
    "\t#Abstract methods\n",
    "\t@abstractmethod\n",
    "\tdef abstrat_method(self):\n",
    "\t\tpass\n",
    "\t# concrete methods\n",
    "```\n"
   ]
  },
  {
   "cell_type": "markdown",
   "metadata": {},
   "source": [
    "#### Example\n",
    "\n",
    "```python\n",
    "from abc import ABC, abstractmethod\n",
    "class abs_class(ABC):\n",
    "    #normal method\n",
    "    def method(self):\n",
    "        #method definition\n",
    "    @abstractmethod\n",
    "    def Abs_method(self):\n",
    "        #Abs_method definition\n",
    "```"
   ]
  },
  {
   "cell_type": "markdown",
   "metadata": {},
   "source": [
    "Here, abs_class is the abstract class inside which abstract methods or any other sort of methods can be defined.\n",
    "\n",
    "As a property, abstract classes can have any number of abstract methods coexisting with any number of other methods. For example we can see below.\n",
    "\n",
    "Here, method() is normal method whereas Abs_method() is an abstract method implementing @abstractmethod from the abc module\n",
    "\n"
   ]
  },
  {
   "cell_type": "markdown",
   "metadata": {},
   "source": []
  }
 ],
 "metadata": {
  "kernelspec": {
   "display_name": "Python 3",
   "language": "python",
   "name": "python3"
  },
  "language_info": {
   "name": "python",
   "version": "3.12.5"
  }
 },
 "nbformat": 4,
 "nbformat_minor": 2
}
