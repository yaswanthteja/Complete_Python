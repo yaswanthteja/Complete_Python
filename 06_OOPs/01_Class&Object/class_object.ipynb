{
 "cells": [
  {
   "cell_type": "markdown",
   "metadata": {},
   "source": [
    "## Class and Object"
   ]
  },
  {
   "cell_type": "markdown",
   "metadata": {},
   "source": [
    "### class\n",
    "\n",
    "**class is a blue print of an object which has attributes and methods**\n",
    "\n",
    "**class is a user defined data type**"
   ]
  },
  {
   "cell_type": "markdown",
   "metadata": {},
   "source": [
    "### Objects\n",
    "\n",
    "**Object is an instance of class  that has its own unique set of attributes and methods**\n",
    "\n",
    "Objects are created using the class name followed by parentheses, and can be assigned to variables for later use."
   ]
  },
  {
   "cell_type": "code",
   "execution_count": 1,
   "metadata": {},
   "outputs": [
    {
     "name": "stdout",
     "output_type": "stream",
     "text": [
      "<__main__.Person object at 0x0000017AF173F020>\n"
     ]
    }
   ],
   "source": [
    "# simple creation of class and object\n",
    "class Person:\n",
    "\tpass\n",
    "\n",
    "# object\n",
    "obj=Person()\n",
    "print(obj)"
   ]
  },
  {
   "cell_type": "code",
   "execution_count": null,
   "metadata": {},
   "outputs": [],
   "source": [
    "class Person:\n",
    "    # constructor\n",
    "    def __init__(self,name,age):  #self,name,age --> paramaters\n",
    "        #attributes\n",
    "        self.name=name\n",
    "        self.age=age\n",
    "    \n",
    "    # method\n",
    "    def greet(self):\n",
    "        print(f\"Hello,my name is {self.name} and I'm {self.age} years old.\")"
   ]
  },
  {
   "cell_type": "code",
   "execution_count": null,
   "metadata": {},
   "outputs": [],
   "source": []
  }
 ],
 "metadata": {
  "kernelspec": {
   "display_name": "Python 3",
   "language": "python",
   "name": "python3"
  },
  "language_info": {
   "codemirror_mode": {
    "name": "ipython",
    "version": 3
   },
   "file_extension": ".py",
   "mimetype": "text/x-python",
   "name": "python",
   "nbconvert_exporter": "python",
   "pygments_lexer": "ipython3",
   "version": "3.12.5"
  }
 },
 "nbformat": 4,
 "nbformat_minor": 2
}
