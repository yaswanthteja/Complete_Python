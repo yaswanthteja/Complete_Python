{
 "cells": [
  {
   "cell_type": "markdown",
   "metadata": {},
   "source": [
    "## Magic or Dunder Methods"
   ]
  },
  {
   "cell_type": "markdown",
   "metadata": {},
   "source": [
    "Magic methods (or dunder methods, short for double underscore) are special methods with double underscores at the beginning and end of their names. They allow you to define the behavior of your objects with respect to built-in operations such as arithmetic, comparison, and other operations."
   ]
  },
  {
   "cell_type": "markdown",
   "metadata": {},
   "source": [
    "there are different magic methods available to perform overloading operations. The below table shows the magic methods names to overload the mathematical operator, assignment operator, and relational operators in Python."
   ]
  },
  {
   "cell_type": "markdown",
   "metadata": {},
   "source": [
    "| **Operator Name** | **Symbol** | **Magic method** |\n",
    "| --- | --- | --- |\n",
    "| Addition | `+` | `__add__(self, other)` |\n",
    "| Subtraction | `-` | `__sub__(self, other)` |\n",
    "| Multiplication | `*` | `__mul**__**(self, other)` |\n",
    "| Division | `/` | `__div__(self, other)` |\n",
    "| Floor Division | `//` | `__floordiv__(self,other)` |\n",
    "| Modulus | `%` | `__mod__(self, other)` |\n",
    "| Power | `**` | `__pow__(self, other)` |\n",
    "| Increment | `+=` | `__iadd__(self, other)` |\n",
    "| Decrement | `-=` | `__isub__(self, other)` |\n",
    "| Product | `*=` | `__imul__(self, other)` |\n",
    "| Division | `/+` | `__idiv__(self, other)` |\n",
    "| Modulus | `%=` | `__imod__(self, other)` |\n",
    "| Power | `**=` | `__ipow__(self, other)` |\n",
    "| Less than | `<` | `__lt__(self, other)` |\n",
    "| Greater than | `>` | `__gt__(self, other)` |\n",
    "| Less than or equal to | `<=` | `__le__(self, other)` |\n",
    "| Greater than or equal to | `>=` | `__ge__(self, other)` |\n",
    "| Equal to | `==` | `__eq__(self, other)` |\n",
    "| Not equal | `!=` | `__ne__(self, other)` ||"
   ]
  },
  {
   "cell_type": "markdown",
   "metadata": {},
   "source": [
    "These magic methods enable you to create custom behaviors for these operators, making your classes more intuitive and easier to use in arithmetic operations and comparisons."
   ]
  },
  {
   "cell_type": "markdown",
   "metadata": {},
   "source": []
  }
 ],
 "metadata": {
  "language_info": {
   "name": "python"
  }
 },
 "nbformat": 4,
 "nbformat_minor": 2
}
