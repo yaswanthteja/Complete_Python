{
 "cells": [
  {
   "cell_type": "markdown",
   "metadata": {},
   "source": [
    "### Overloading"
   ]
  },
  {
   "cell_type": "markdown",
   "metadata": {},
   "source": [
    "**Overloading is a ability to define multiple methods in a class with the same but different parameters or arguments.**\n",
    "\n",
    "This allows objects of a class to behave differently depending on the arguments passed to the method.\n",
    "\n",
    "Python supports two types of over loading .\n",
    "\n",
    "Method overloading\n",
    "\n",
    "operator overloading"
   ]
  },
  {
   "cell_type": "markdown",
   "metadata": {},
   "source": [
    "#### **Method Overloading**\n",
    "\n",
    "**The process of calling the same method with different parameters is known as method overloading.** \n",
    "\n",
    "**Compile-Time (Static) Polymorphism (or Early Binding):** In this type of overriding, the decision about which method to call is made at compile time. It's also called \"early binding\" because the method to be executed is determined during the compilation of the program. Compile-time polymorphism is achieved through method overloading.\n",
    "\n",
    "Python does not support pure method overloading. Python considers only the latest defined method even if you overload the method. \n",
    "\n",
    "Python will raise a TypeError if you overload the method."
   ]
  },
  {
   "cell_type": "code",
   "execution_count": 9,
   "metadata": {},
   "outputs": [
    {
     "name": "stdout",
     "output_type": "stream",
     "text": [
      "14\n"
     ]
    }
   ],
   "source": [
    "# traditional  Approach\n",
    "class Shop:\n",
    "    # First product method.Takes two argument and print their sum\n",
    "    def product(self,a, b):\n",
    "        p = a + b\n",
    "        print(p)\n",
    "\n",
    "    # Second product method Takes three argument and print their sum\n",
    "    def product(self,a, b, c):\n",
    "        p = a + b + c\n",
    "        print(p)\n",
    "\n",
    "# Object Creation\n",
    "obj=Shop()\n",
    "\n",
    "# Uncommenting the below line shows an error\n",
    "# obj.product(4, 5)      # TypeError: Shop.product() missing 1 required positional argument: 'c'\n",
    "\n",
    "# This line will call the second product method\n",
    "obj.product(4, 5, 5)"
   ]
  },
  {
   "cell_type": "markdown",
   "metadata": {},
   "source": [
    "In Python  We may define many methods of the same name and different arguments, but we can only use the latest defined method only. \n",
    "To overcome the above problem we can use different ways to achieve the method overloading."
   ]
  },
  {
   "cell_type": "markdown",
   "metadata": {},
   "source": [
    "method overloading isn't supported directly like in some other programming languages such as C++ or Java. However, you can achieve a similar effect using default arguments, variable-length arguments, or by manually checking the type and number of arguments within the function. Here are a few ways you can simulate method overloading in Python:\n"
   ]
  },
  {
   "cell_type": "code",
   "execution_count": 6,
   "metadata": {},
   "outputs": [
    {
     "name": "stdout",
     "output_type": "stream",
     "text": [
      "No arguments passed\n",
      "10\n",
      "10 20\n"
     ]
    }
   ],
   "source": [
    "# Using Default Arguments\n",
    "class Example:\n",
    "    def display(self, a=None, b=None):\n",
    "        if a is not None and b is not None:\n",
    "            print(a, b)\n",
    "        elif a is not None:\n",
    "            print(a)\n",
    "        else:\n",
    "            print(\"No arguments passed\")\n",
    "\n",
    "obj = Example()\n",
    "obj.display()         # No arguments passed\n",
    "obj.display(10)       # 10\n",
    "obj.display(10, 20)   # 10 20\n"
   ]
  },
  {
   "cell_type": "code",
   "execution_count": 7,
   "metadata": {},
   "outputs": [
    {
     "name": "stdout",
     "output_type": "stream",
     "text": [
      "No arguments or more than expected\n",
      "10\n",
      "10 20\n"
     ]
    }
   ],
   "source": [
    "# Using Variable-Length Arguments\n",
    "\n",
    "class Example:\n",
    "    def display(self, *args):\n",
    "        if len(args) == 1:\n",
    "            print(args[0])\n",
    "        elif len(args) == 2:\n",
    "            print(args[0], args[1])\n",
    "        else:\n",
    "            print(\"No arguments or more than expected\")\n",
    "\n",
    "obj = Example()\n",
    "obj.display()         # No arguments or more than expected\n",
    "obj.display(10)       # 10\n",
    "obj.display(10, 20)   # 10 20\n"
   ]
  },
  {
   "cell_type": "code",
   "execution_count": 8,
   "metadata": {},
   "outputs": [
    {
     "name": "stdout",
     "output_type": "stream",
     "text": [
      "10 20\n",
      "10\n",
      "Invalid arguments\n"
     ]
    }
   ],
   "source": [
    "# Using Type Checking\n",
    "class Example:\n",
    "    def display(self, a=None, b=None):\n",
    "        if isinstance(a, int) and isinstance(b, int):\n",
    "            print(a, b)\n",
    "        elif isinstance(a, int):\n",
    "            print(a)\n",
    "        else:\n",
    "            print(\"Invalid arguments\")\n",
    "\n",
    "obj = Example()\n",
    "obj.display(10, 20)   # 10 20\n",
    "obj.display(10)       # 10\n",
    "obj.display(\"text\")   # Invalid arguments\n"
   ]
  },
  {
   "cell_type": "code",
   "execution_count": 12,
   "metadata": {},
   "outputs": [
    {
     "name": "stdout",
     "output_type": "stream",
     "text": [
      "11\n",
      "Hi Programmer\n"
     ]
    }
   ],
   "source": [
    "# Function to take multiple arguments\n",
    "def add(datatype, *args):\n",
    "\n",
    "    # if datatype is int initialize answer as 0\n",
    "    if datatype == 'int':\n",
    "        answer = 0\n",
    "\n",
    "    # if datatype is str initialize answer as ''\n",
    "    if datatype == 'str':\n",
    "        answer = ''\n",
    "\n",
    "    # Traverse through the arguments\n",
    "    for i in args:\n",
    "        # This will do addition if the arguments are int. Or concatenation if the arguments are str\n",
    "        answer = answer + i\n",
    "\n",
    "    print(answer)\n",
    "\n",
    "\n",
    "# Integer\n",
    "add('int', 5, 6)\n",
    "\n",
    "# String\n",
    "add('str', 'Hi ', 'Programmer')"
   ]
  },
  {
   "cell_type": "code",
   "execution_count": null,
   "metadata": {},
   "outputs": [],
   "source": []
  },
  {
   "cell_type": "markdown",
   "metadata": {},
   "source": [
    "### Operator Overloading"
   ]
  },
  {
   "cell_type": "markdown",
   "metadata": {},
   "source": [
    "Operator overloading means changing the default behavior of an operator depending on the operands (values) that we use. In other words, we can use the same operator for multiple purposes.\n",
    "\n",
    "For example, the + operator will perform an arithmetic addition operation when used with numbers. Likewise, it will perform concatenation when used with strings."
   ]
  },
  {
   "cell_type": "markdown",
   "metadata": {},
   "source": [
    "The operator + is used to carry out different operations for distinct data types. This is one of the most simple occurrences of polymorphism in Python."
   ]
  },
  {
   "cell_type": "code",
   "execution_count": 13,
   "metadata": {},
   "outputs": [
    {
     "name": "stdout",
     "output_type": "stream",
     "text": [
      "300\n",
      "JessRoy\n",
      "[10, 20, 30, 'jessa', 'emma', 'kelly']\n"
     ]
    }
   ],
   "source": [
    "# add 2 numbers\n",
    "print(100 + 200)\n",
    "\n",
    "# concatenate two strings\n",
    "print('Jess' + 'Roy')\n",
    "\n",
    "# merger two list\n",
    "print([10, 20, 30] + ['jessa', 'emma', 'kelly'])\n"
   ]
  },
  {
   "cell_type": "markdown",
   "metadata": {},
   "source": [
    "#### Overloading + operator for custom objects\n",
    "Suppose we have two objects, and we want to add these two objects with a binary + operator. However, it will throw an error if we perform addition because the compiler doesn’t add two objects. See the following example for more details."
   ]
  },
  {
   "cell_type": "code",
   "execution_count": 14,
   "metadata": {},
   "outputs": [
    {
     "ename": "TypeError",
     "evalue": "unsupported operand type(s) for +: 'Book' and 'Book'",
     "output_type": "error",
     "traceback": [
      "\u001b[1;31m---------------------------------------------------------------------------\u001b[0m",
      "\u001b[1;31mTypeError\u001b[0m                                 Traceback (most recent call last)",
      "Cell \u001b[1;32mIn[14], line 10\u001b[0m\n\u001b[0;32m      7\u001b[0m b2 \u001b[38;5;241m=\u001b[39m Book(\u001b[38;5;241m300\u001b[39m)\n\u001b[0;32m      9\u001b[0m \u001b[38;5;66;03m# add two objects\u001b[39;00m\n\u001b[1;32m---> 10\u001b[0m \u001b[38;5;28mprint\u001b[39m(\u001b[43mb1\u001b[49m\u001b[43m \u001b[49m\u001b[38;5;241;43m+\u001b[39;49m\u001b[43m \u001b[49m\u001b[43mb2\u001b[49m)\n",
      "\u001b[1;31mTypeError\u001b[0m: unsupported operand type(s) for +: 'Book' and 'Book'"
     ]
    }
   ],
   "source": [
    "class Book:\n",
    "    def __init__(self, pages):\n",
    "        self.pages = pages\n",
    "\n",
    "# creating two objects\n",
    "b1 = Book(400)\n",
    "b2 = Book(300)\n",
    "\n",
    "# add two objects\n",
    "print(b1 + b2)\n"
   ]
  },
  {
   "cell_type": "markdown",
   "metadata": {},
   "source": [
    "We can overload + operator to work with custom objects also. Python provides some special or magic function that is automatically invoked when associated with that particular operator.\n",
    "\n"
   ]
  },
  {
   "cell_type": "markdown",
   "metadata": {},
   "source": [
    "For example, when we use the + operator, the magic method __add__() is automatically invoked. Internally + operator is implemented by using __add__() method. We have to override this method in our class if you want to add two custom objects.\n",
    "\n",
    "Example:"
   ]
  },
  {
   "cell_type": "code",
   "execution_count": 15,
   "metadata": {},
   "outputs": [
    {
     "name": "stdout",
     "output_type": "stream",
     "text": [
      "Total number of pages:  700\n"
     ]
    }
   ],
   "source": [
    "class Book:\n",
    "    def __init__(self, pages):\n",
    "        self.pages = pages\n",
    "\n",
    "    # Overloading + operator with magic method\n",
    "    def __add__(self, other):\n",
    "        return self.pages + other.pages\n",
    "\n",
    "b1 = Book(400)\n",
    "b2 = Book(300)\n",
    "print(\"Total number of pages: \", b1 + b2)\n"
   ]
  },
  {
   "cell_type": "code",
   "execution_count": null,
   "metadata": {},
   "outputs": [],
   "source": []
  },
  {
   "cell_type": "markdown",
   "metadata": {},
   "source": [
    "### Overloading the * Operator\n",
    "The * operator is used to perform the multiplication. Let’s see how to overload it to calculate the salary of an employee for a specific period. Internally * operator is implemented by using the __mul__() method."
   ]
  },
  {
   "cell_type": "code",
   "execution_count": 16,
   "metadata": {},
   "outputs": [
    {
     "name": "stdout",
     "output_type": "stream",
     "text": [
      "Worked for 50 days\n",
      "salary is:  40000\n"
     ]
    }
   ],
   "source": [
    "class Employee:\n",
    "    def __init__(self, name, salary):\n",
    "        self.name = name\n",
    "        self.salary = salary\n",
    "\n",
    "    def __mul__(self, timesheet):\n",
    "        print('Worked for', timesheet.days, 'days')\n",
    "        # calculate salary\n",
    "        return self.salary * timesheet.days\n",
    "\n",
    "\n",
    "class TimeSheet:\n",
    "    def __init__(self, name, days):\n",
    "        self.name = name\n",
    "        self.days = days\n",
    "\n",
    "\n",
    "emp = Employee(\"Jessa\", 800)\n",
    "timesheet = TimeSheet(\"Jessa\", 50)\n",
    "print(\"salary is: \", emp * timesheet)\n"
   ]
  },
  {
   "cell_type": "code",
   "execution_count": null,
   "metadata": {},
   "outputs": [],
   "source": []
  }
 ],
 "metadata": {
  "kernelspec": {
   "display_name": "Python 3",
   "language": "python",
   "name": "python3"
  },
  "language_info": {
   "codemirror_mode": {
    "name": "ipython",
    "version": 3
   },
   "file_extension": ".py",
   "mimetype": "text/x-python",
   "name": "python",
   "nbconvert_exporter": "python",
   "pygments_lexer": "ipython3",
   "version": "3.12.5"
  }
 },
 "nbformat": 4,
 "nbformat_minor": 2
}
