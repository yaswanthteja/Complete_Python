{
 "cells": [
  {
   "cell_type": "markdown",
   "metadata": {},
   "source": [
    "# Overriding\n",
    "\n",
    "**It is a feature of oop that allows child class to provide a different implementation of a method that is already defined in it’s parent class.**\n",
    "\n",
    "It is a run time polymorphism ‘\n",
    "\n",
    "- It has a two types \n",
    "\n",
    "    - **Method overriding**\n",
    "\n",
    "    - Constructor overriding  "
   ]
  },
  {
   "cell_type": "markdown",
   "metadata": {},
   "source": [
    "### Method Overriding\n",
    "\n",
    "- When a child class method has the same name, same parameters, and same return type as a method in its Parent class, then the method in the child is said to override the method in the parent class."
   ]
  },
  {
   "attachments": {
    "image.png": {
     "image/png": "[encoded data removed]"
    }
   },
   "cell_type": "markdown",
   "metadata": {},
   "source": [
    "- In inheritance, all members available in the parent class are by default available in the child class. If the child class does not satisfy with parent class implementation, then the child class is allowed to redefine that method by extending additional functions in the child class. This concept is called method overriding.\n",
    "\n",
    "- When a child class method has the same name, same parameters, and same return type as a method in its superclass, then the method in the child is said to override the method in the parent class.\n",
    "\n",
    "![image.png](attachment:image.png)\n"
   ]
  },
  {
   "cell_type": "markdown",
   "metadata": {},
   "source": []
  },
  {
   "cell_type": "code",
   "execution_count": 2,
   "metadata": {},
   "outputs": [
    {
     "name": "stdout",
     "output_type": "stream",
     "text": [
      "This is the draw method in Square class\n",
      "This is the draw method in Circle class\n",
      "This is the draw method in Hexagon class\n"
     ]
    }
   ],
   "source": [
    "class Shape:\n",
    "    def draw(self):\n",
    "        print(\"This is the draw method in Shape class\")\n",
    "class Square(Shape):\n",
    "    def draw(self):\n",
    "        print(\"This is the draw method in Square class\")\n",
    "class Circle(Shape):\n",
    "    def draw(self):\n",
    "        print(\"This is the draw method in Circle class\")\n",
    "class Hexagon(Shape):\n",
    "    def draw(self):\n",
    "        print(\"This is the draw method in Hexagon class\")\n",
    "\n",
    "#Object creation\n",
    "square=Square()\n",
    "circle=Circle()\n",
    "hexagon=Hexagon()\n",
    "\n",
    "# Calling methods\n",
    "square.draw()\n",
    "circle.draw()\n",
    "hexagon.draw()"
   ]
  },
  {
   "cell_type": "markdown",
   "metadata": {},
   "source": [
    "This clearly shows how the method draw is overridden in each subclass, providing specific implementations for each shape."
   ]
  },
  {
   "cell_type": "code",
   "execution_count": 1,
   "metadata": {},
   "outputs": [
    {
     "name": "stdout",
     "output_type": "stream",
     "text": [
      "This is the method from the ParentClass\n",
      "This is the overridden method from the ChildClass\n"
     ]
    }
   ],
   "source": [
    "class ParentClass:\n",
    "    def show(self):\n",
    "        print(\"This is the method from the ParentClass\")\n",
    "\n",
    "class ChildClass(ParentClass):\n",
    "    def show(self):\n",
    "        print(\"This is the overridden method from the ChildClass\")\n",
    "\n",
    "# Creating objects of ParentClass and ChildClass\n",
    "parent_obj = ParentClass()\n",
    "child_obj = ChildClass()\n",
    "\n",
    "# Calling the show method on both objects\n",
    "parent_obj.show()  # Output: This is the method from the ParentClass\n",
    "child_obj.show()   # Output: This is the overridden method from the ChildClass\n"
   ]
  },
  {
   "cell_type": "markdown",
   "metadata": {},
   "source": [
    "In this example:\n",
    "\n",
    "ParentClass has a method named show.\n",
    "\n",
    "ChildClass inherits from ParentClass and also defines a method named show, which overrides the method in the ParentClass.\n",
    "\n",
    "When you create an instance of ChildClass and call the show method, the overridden version in ChildClass is executed.\n",
    "\n",
    "Key Points:\n",
    "Same Method Name: The method in the child class must have the same name as the method in the parent class.\n",
    "\n",
    "Same Parameters: The method should have the same parameters (number and type) as the one in the parent class.\n",
    "\n",
    "Inheritance: Method overriding requires inheritance; the child class should inherit from the parent class."
   ]
  },
  {
   "cell_type": "code",
   "execution_count": 1,
   "metadata": {},
   "outputs": [
    {
     "name": "stdout",
     "output_type": "stream",
     "text": [
      "max speed is 200 Km/Hour\n"
     ]
    }
   ],
   "source": [
    "class Vehicle:\n",
    "    def max_speed(self):\n",
    "        print(\"max speed is 100 Km/Hour\")\n",
    "\n",
    "class Car(Vehicle):\n",
    "    # overridden the implementation of Vehicle class\n",
    "    def max_speed(self):\n",
    "        print(\"max speed is 200 Km/Hour\")\n",
    "\n",
    "# Creating object of Car class\n",
    "car = Car()\n",
    "car.max_speed()"
   ]
  },
  {
   "cell_type": "markdown",
   "metadata": {},
   "source": [
    "In the above example, we create two classes named Vehicle (Parent class) and Car (Child class). The class Car extends from the class Vehicle so, all properties of the parent class are available in the child class. In addition to that, the child class redefined the method max_speed()."
   ]
  },
  {
   "cell_type": "code",
   "execution_count": null,
   "metadata": {},
   "outputs": [
    {
     "name": "stdout",
     "output_type": "stream",
     "text": [
      "This is a generic animal sound\n",
      "This is a barking sound\n"
     ]
    }
   ],
   "source": [
    "# Method overriding with super method\n",
    "class Animal:\n",
    "    def sound(self):\n",
    "        print(\"This is a generic animal sound\")\n",
    "\n",
    "class Dog(Animal):\n",
    "    def sound(self):\n",
    "        super().sound()\n",
    "        print(\"This is a barking sound\")\n",
    "\n",
    "dog = Dog()\n",
    "dog.sound()\n",
    "# Output:\n",
    "# This is a generic animal sound\n",
    "# This is a barking sound\n"
   ]
  },
  {
   "cell_type": "code",
   "execution_count": null,
   "metadata": {},
   "outputs": [],
   "source": []
  },
  {
   "cell_type": "code",
   "execution_count": null,
   "metadata": {},
   "outputs": [],
   "source": []
  },
  {
   "cell_type": "markdown",
   "metadata": {},
   "source": [
    "#### Constructor Overriding\n",
    "\n",
    "- Constructor Overriding in Python occurs when a child class provides its own implementation of the constructor (__init__ method) that is defined in its parent class. This allows the child class to customize the initialization process while potentially leveraging the initialization logic of the parent class.\n",
    "- A subclass in Python defines its own constructor method, thereby replacing the constructor defined in the parent class. This overridden constructor can call the parent class's constructor using the super() function to inherit attributes from the parent class while adding additional attributes or functionality specific to the child class.\n",
    "\n",
    "- Python does support constructor overriding, but it handles it differently compared to some other programming languages. When we talk about constructor overriding, we typically mean the ability to extend or modify the initialization behavior in subclasses. Python uses a flexible and straightforward approach to achieve this:\n",
    "\n",
    "### How Python Handles Constructor Overriding\n",
    "- Using super(): Python allows a subclass to call the parent class constructor using the super() function. This enables the subclass to extend the parent class's initialization logic.\n"
   ]
  },
  {
   "cell_type": "code",
   "execution_count": 7,
   "metadata": {},
   "outputs": [
    {
     "name": "stdout",
     "output_type": "stream",
     "text": [
      "Parent constructor called. Name: Alice\n",
      "Child constructor called. Name: Alice, Age: 10\n"
     ]
    }
   ],
   "source": [
    "class Parent:\n",
    "    def __init__(self, name):\n",
    "        self.name = name\n",
    "        print(f\"Parent constructor called. Name: {self.name}\")\n",
    "\n",
    "class Child(Parent):\n",
    "    def __init__(self, name, age):\n",
    "        super().__init__(name)  # Call the parent class constructor\n",
    "        self.age = age\n",
    "        print(f\"Child constructor called. Name: {self.name}, Age: {self.age}\")\n",
    "\n",
    "# Creating an instance of Child\n",
    "child = Child(\"Alice\", 10)\n",
    "\n"
   ]
  },
  {
   "cell_type": "markdown",
   "metadata": {},
   "source": [
    "The Parent class has an __init__ method that initializes the name attribute and prints a message.\n",
    "\n",
    "The Child class overrides the __init__ method to include an additional age attribute.\n",
    "\n",
    "The Child class’s constructor calls super().__init__(name) to invoke the parent class’s constructor, ensuring the name attribute is initialized.\n",
    "\n",
    "The Child class then initializes its own age attribute and prints a message."
   ]
  },
  {
   "cell_type": "markdown",
   "metadata": {},
   "source": [
    "the Child class can override the Parent class constructor to add more functionality while still utilizing the parent class’s initialization logic."
   ]
  },
  {
   "cell_type": "code",
   "execution_count": null,
   "metadata": {},
   "outputs": [],
   "source": []
  }
 ],
 "metadata": {
  "kernelspec": {
   "display_name": "Python 3",
   "language": "python",
   "name": "python3"
  },
  "language_info": {
   "codemirror_mode": {
    "name": "ipython",
    "version": 3
   },
   "file_extension": ".py",
   "mimetype": "text/x-python",
   "name": "python",
   "nbconvert_exporter": "python",
   "pygments_lexer": "ipython3",
   "version": "3.12.5"
  }
 },
 "nbformat": 4,
 "nbformat_minor": 2
}
