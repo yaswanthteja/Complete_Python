{
 "cells": [
  {
   "cell_type": "markdown",
   "metadata": {},
   "source": [
    "#### What is Inheritance??\n",
    "\n",
    "Inheritance is the capability  of one class to derive (or) inherit the properties from another class."
   ]
  },
  {
   "cell_type": "markdown",
   "metadata": {},
   "source": [
    "**Terms:**\n",
    "\n",
    "- The class which got inherited is called a **parent class or super class or base class.**\n",
    "\n",
    "- The class which inherited the parent class is called a **child class or sub class or derived class**\n",
    "\n",
    "- child class in python inherits all attributes, methods ,and properties from it’s parent class"
   ]
  },
  {
   "cell_type": "markdown",
   "metadata": {},
   "source": [
    "### Syntax\n",
    "\n",
    "```\n",
    "class BaseClass:\n",
    "  Body of base class\n",
    "class DerivedClass(BaseClass):\n",
    "  Body of derived class\n",
    "```"
   ]
  },
  {
   "cell_type": "code",
   "execution_count": null,
   "metadata": {},
   "outputs": [
    {
     "name": "stdout",
     "output_type": "stream",
     "text": [
      "<class '__main__.Parentclass'>\n",
      "<class '__main__.Childclass'>\n"
     ]
    }
   ],
   "source": [
    "# Parent class\n",
    "class Parentclass:\n",
    "\tpass\n",
    "print(Parentclass)\n",
    "\n",
    "class Childclass(Parentclass):\n",
    "\tpass\n",
    "print(Childclass)"
   ]
  },
  {
   "cell_type": "code",
   "execution_count": 2,
   "metadata": {},
   "outputs": [
    {
     "name": "stdout",
     "output_type": "stream",
     "text": [
      "<bound method Parentclass.display of <__main__.Childclass object at 0x0000024E28EF2A20>>\n"
     ]
    }
   ],
   "source": [
    "# example for inheritence\n",
    "\n",
    "# Parentclass\n",
    "class Parentclass:\n",
    "\tstring='python'\n",
    "\t#Instance metod\n",
    "\tdef display(self):\n",
    "\t\treturn self.string\n",
    "# child class\n",
    "class Childclass(Parentclass):\n",
    "\tpass\n",
    "# object for child class\n",
    "child=Childclass()\n",
    "print(child.display)"
   ]
  },
  {
   "cell_type": "markdown",
   "metadata": {},
   "source": [
    "### **Benefits of Inheritance:**\n",
    "\n",
    "- Reusability of code.\n",
    "- We can use the features of the other class, without modifying it.\n",
    "- It is transitive in nature i.e. A->B->C == A->C and B->C."
   ]
  },
  {
   "cell_type": "markdown",
   "metadata": {},
   "source": [
    "# **Types Of Inheritance**\n",
    "\n",
    "In Python, based upon the number of child and parent classes involved, there are five types of inheritance. The type of inheritance are listed below:\n",
    "\n",
    "1. Single inheritance\n",
    "2. Multiple Inheritance\n",
    "3. Multilevel inheritance\n",
    "4. Hierarchical Inheritance\n",
    "5. Hybrid Inheritance\n",
    "\n",
    "Now let’s see each in detail with an example."
   ]
  },
  {
   "cell_type": "markdown",
   "metadata": {},
   "source": [
    "The Child class in python inherets all attributes,methods and properties from its parent class"
   ]
  },
  {
   "cell_type": "code",
   "execution_count": null,
   "metadata": {},
   "outputs": [],
   "source": []
  },
  {
   "attachments": {
    "image.png": {
     "image/png": "[encoded data removed]"
    }
   },
   "cell_type": "markdown",
   "metadata": {},
   "source": [
    "### 1. Single Inheritance\n",
    "\n",
    "when one child class inherits only one parent class It is called single Inheritance.\n",
    "\n",
    "\n",
    "![image.png](attachment:image.png)\n",
    "\n",
    "\n",
    "In single inheritance, a child class inherits from a single-parent class. Here is one child class and one parent class.\n",
    "\n"
   ]
  },
  {
   "cell_type": "markdown",
   "metadata": {},
   "source": []
  },
  {
   "cell_type": "code",
   "execution_count": null,
   "metadata": {},
   "outputs": [
    {
     "name": "stdout",
     "output_type": "stream",
     "text": [
      "Inside Vehicle class\n",
      "Inside Car class\n"
     ]
    }
   ],
   "source": [
    "# Base class or Parent class\n",
    "class Vehicle:\n",
    "    def Vehicle_info(self):\n",
    "        print('Inside Vehicle class')\n",
    "\n",
    "# derived class or Child class\n",
    "class Car(Vehicle):\n",
    "    def car_info(self):\n",
    "        print('Inside Car class')\n",
    "\n",
    "# Create object of Car\n",
    "car = Car()\n",
    "\n",
    "# access Vehicle's info using car object\n",
    "car.Vehicle_info()\n",
    "car.car_info()\n"
   ]
  },
  {
   "cell_type": "code",
   "execution_count": 4,
   "metadata": {},
   "outputs": [
    {
     "name": "stdout",
     "output_type": "stream",
     "text": [
      "yash is a programmer\n"
     ]
    }
   ],
   "source": [
    "# Example 2 \n",
    "# example for single inheritance\n",
    "\n",
    "class Person:\n",
    "\tdef __init__(self,name,age):\n",
    "\t\tself.name=name\n",
    "\t\tself.age=age\n",
    "\n",
    "class Programmer(Person):\n",
    "\tdef isprogrammer(self):\n",
    "\t\treturn f\"{self.name} is a programmer\"\n",
    "\n",
    "sir=Programmer('yash',23)\n",
    "print(sir.isprogrammer())"
   ]
  },
  {
   "cell_type": "code",
   "execution_count": 5,
   "metadata": {},
   "outputs": [
    {
     "name": "stdout",
     "output_type": "stream",
     "text": [
      "It's a BMW and it's a Black colour\n"
     ]
    }
   ],
   "source": [
    "# Example 3\n",
    "\n",
    "class Vehicle:\n",
    "\tdef __init__(self,name,color):\n",
    "\t\tself.name=name\n",
    "\t\tself.color=color\n",
    "\n",
    "class Car(Vehicle):\n",
    "\tdef display(self):\n",
    "\t\treturn f\"It's a {self.name} and it's a {self.color} colour\"\n",
    "# object\n",
    "car=Car('BMW','Black')\n",
    "print(car.display())"
   ]
  },
  {
   "cell_type": "code",
   "execution_count": null,
   "metadata": {},
   "outputs": [],
   "source": []
  },
  {
   "attachments": {
    "image.png": {
     "image/png": "[encoded data removed]"
    }
   },
   "cell_type": "markdown",
   "metadata": {},
   "source": [
    "### Multiple Inheritance\n",
    "In multiple inheritance, one child class can inherit from multiple parent classes. So here is one child class and multiple parent classes.\n",
    "\n",
    "![image.png](attachment:image.png)\n",
    "\n",
    "In multiple inheritance, one child class can inherit from multiple parent classes. So here is one child class and multiple parent classes.\n",
    "\n"
   ]
  },
  {
   "cell_type": "markdown",
   "metadata": {},
   "source": [
    "## syntax\n",
    "```\n",
    "class Parentclass1:\n",
    "    pass\n",
    "class ParentClass2:\n",
    "    pass\n",
    "class Childclass(parentclass1,parentClass2):\n",
    "    #class body\n",
    "```"
   ]
  },
  {
   "cell_type": "markdown",
   "metadata": {},
   "source": []
  },
  {
   "cell_type": "code",
   "execution_count": null,
   "metadata": {},
   "outputs": [
    {
     "name": "stdout",
     "output_type": "stream",
     "text": [
      "8\n"
     ]
    }
   ],
   "source": [
    "# Example 1 for multiple inheritance\n",
    "# parent class1\n",
    "class Parentclass1:\n",
    "    num1 = 3\n",
    "# Parent class2\n",
    "class Parentclass2:\n",
    "    num2 = 5\n",
    "# Child class \n",
    "class Childclass(Parentclass1, Parentclass2):\n",
    "    def addition(self):\n",
    "        return self.num1 + self.num2\n",
    "# Object creation\n",
    "obj = Childclass()\n",
    "\n",
    "print(obj.addition())\n"
   ]
  },
  {
   "cell_type": "code",
   "execution_count": null,
   "metadata": {},
   "outputs": [],
   "source": [
    "# Example 2 for multiple inheritance\n",
    "# Parent class 1\n",
    "class Person:\n",
    "    def person_info(self, name, age):\n",
    "        print('Inside Person class')\n",
    "        print('Name:', name, 'Age:', age)\n",
    "\n",
    "# Parent class 2\n",
    "class Company:\n",
    "    def company_info(self, company_name, location):\n",
    "        print('Inside Company class')\n",
    "        print('Name:', company_name, 'location:', location)\n",
    "\n",
    "# Child class\n",
    "class Employee(Person, Company):\n",
    "    def Employee_info(self, salary, skill):\n",
    "        print('Inside Employee class')\n",
    "        print('Salary:', salary, 'Skill:', skill)\n",
    "\n",
    "# Create object of Employee\n",
    "emp = Employee()\n",
    "\n",
    "# access data\n",
    "emp.person_info('Jessa', 28)\n",
    "emp.company_info('Google', 'Atlanta')\n",
    "emp.Employee_info(12000, 'Machine Learning')\n"
   ]
  },
  {
   "cell_type": "markdown",
   "metadata": {},
   "source": [
    "In the above example, we created two parent classes Person and Company respectively. Then we create one child called Employee which inherit from Person and Company classes."
   ]
  },
  {
   "cell_type": "code",
   "execution_count": null,
   "metadata": {},
   "outputs": [],
   "source": []
  },
  {
   "cell_type": "code",
   "execution_count": null,
   "metadata": {},
   "outputs": [],
   "source": []
  },
  {
   "cell_type": "markdown",
   "metadata": {},
   "source": [
    "### Multilevel inheritance\n",
    "\n",
    "In multilevel inheritance, a class inherits from a child class or derived class. Suppose three classes A, B, C. A is the superclass, B is the child class of A, C is the child class of B. In other words, we can say a chain of classes is called multilevel inheritance."
   ]
  },
  {
   "attachments": {
    "image.png": {
     "image/png": "[encoded data removed]"
    }
   },
   "cell_type": "markdown",
   "metadata": {},
   "source": [
    "- The chain of classes is called multilevel inheritance.\n",
    "\n",
    "- When we have a child and grandchild relationship.\n",
    "\n",
    "- When a class inherits a child class it is called multilevel inheritance. \n",
    "\n",
    "- The class which inherits the child class is called a grand child class.. \n",
    "\n",
    "- Suppose three classes A, B, C. \n",
    "\n",
    "   - A is the Parent class,\n",
    "\n",
    "   - B is the child class of A,\n",
    "\n",
    "   - C is the child class of B. \n",
    "\n",
    "- In other words, we can say a **chain of classes** is **called multilevel inheritance.**\n",
    "\n",
    "![image.png](attachment:image.png)"
   ]
  },
  {
   "cell_type": "markdown",
   "metadata": {},
   "source": []
  },
  {
   "cell_type": "code",
   "execution_count": 10,
   "metadata": {},
   "outputs": [],
   "source": [
    "# Syntax\n",
    "class GrandParent:\n",
    "    pass\n",
    "class Parent:\n",
    "    pass\n",
    "class Child:\n",
    "    pass\n"
   ]
  },
  {
   "cell_type": "code",
   "execution_count": 13,
   "metadata": {},
   "outputs": [
    {
     "name": "stdout",
     "output_type": "stream",
     "text": [
      "PythonProgramming\n"
     ]
    }
   ],
   "source": [
    "# Example1 for Multi level Inhertetance\n",
    "class GrandParent:\n",
    "    str1='Python'\n",
    "class Parent(GrandParent):\n",
    "    str2=\"Programming\"\n",
    "class Child(Parent):\n",
    "    def get_str(self):\n",
    "        print(self.str1+self.str2)\n",
    "# object creation\n",
    "obj=Child()\n",
    "obj.get_str()"
   ]
  },
  {
   "cell_type": "code",
   "execution_count": 14,
   "metadata": {},
   "outputs": [
    {
     "name": "stdout",
     "output_type": "stream",
     "text": [
      "Inside Vehicle class\n",
      "Inside Car class\n",
      "Inside SportsCar class\n"
     ]
    }
   ],
   "source": [
    "# Example 2 for multilevel Inheretence\n",
    "\n",
    "# Base class\n",
    "class Vehicle:\n",
    "    def Vehicle_info(self):\n",
    "        print('Inside Vehicle class')\n",
    "\n",
    "# Child class\n",
    "class Car(Vehicle):\n",
    "    def car_info(self):\n",
    "        print('Inside Car class')\n",
    "\n",
    "# Child class\n",
    "class SportsCar(Car):\n",
    "    def sports_car_info(self):\n",
    "        print('Inside SportsCar class')\n",
    "\n",
    "# Create object of SportsCar\n",
    "s_car = SportsCar()\n",
    "\n",
    "# access Vehicle's and Car info using SportsCar object\n",
    "s_car.Vehicle_info()\n",
    "s_car.car_info()\n",
    "s_car.sports_car_info()\n"
   ]
  },
  {
   "cell_type": "code",
   "execution_count": null,
   "metadata": {},
   "outputs": [],
   "source": []
  },
  {
   "cell_type": "code",
   "execution_count": null,
   "metadata": {},
   "outputs": [],
   "source": []
  },
  {
   "attachments": {
    "image.png": {
     "image/png": "[encoded data removed]"
    }
   },
   "cell_type": "markdown",
   "metadata": {},
   "source": [
    "## 4. **Hierarchical Inheritance**\n",
    "\n",
    "when multiple classes inherit the same class It is called Hierarchical  Inheritance.\n",
    "\n",
    "![image.png](attachment:image.png)\n",
    "\n",
    "In Hierarchical inheritance, more than one child class is derived from a single parent class. In other words, we can say one parent class and multiple child classes."
   ]
  },
  {
   "cell_type": "code",
   "execution_count": 16,
   "metadata": {},
   "outputs": [],
   "source": [
    "# syntax\n",
    "# Hierarchical Inheritance\n",
    "class Parentclass:\n",
    "    pass\n",
    "\t\n",
    "class Childclass(Parentclass):\n",
    "    pass\n",
    "\t\n",
    "class Childclass2(Parentclass):\n",
    "    pass\n",
    "\t"
   ]
  },
  {
   "cell_type": "code",
   "execution_count": 19,
   "metadata": {},
   "outputs": [
    {
     "name": "stdout",
     "output_type": "stream",
     "text": [
      "This is parent class \n",
      "This is parent class \n",
      "This is parent class \n"
     ]
    }
   ],
   "source": [
    "# Example 1 for Hierarchial Inheritance\n",
    "\n",
    "class Parent:\n",
    "    string=\"This is parent class \"\n",
    "class Child1(Parent):\n",
    "    pass\n",
    "class Child2(Parent):\n",
    "    pass\n",
    "class Child3(Parent):\n",
    "    pass\n",
    "\n",
    "# Object Creation\n",
    "obj1=Child1()\n",
    "obj2=Child2()\n",
    "obj3=Child3()\n",
    "print(obj1.string)\n",
    "print(obj2.string)\n",
    "print(obj3.string)\n",
    "   "
   ]
  },
  {
   "cell_type": "code",
   "execution_count": 20,
   "metadata": {},
   "outputs": [
    {
     "name": "stdout",
     "output_type": "stream",
     "text": [
      "This is Vehicle\n",
      "Car name is: BMW\n",
      "This is Vehicle\n",
      "Truck name is: Ford\n"
     ]
    }
   ],
   "source": [
    "# Example 2 for hierarchial Inheritance\n",
    "\n",
    "class Vehicle:\n",
    "    def info(self):\n",
    "        print(\"This is Vehicle\")\n",
    "\n",
    "class Car(Vehicle):\n",
    "    def car_info(self, name):\n",
    "        print(\"Car name is:\", name)\n",
    "\n",
    "class Truck(Vehicle):\n",
    "    def truck_info(self, name):\n",
    "        print(\"Truck name is:\", name)\n",
    "\n",
    "obj1 = Car()\n",
    "obj1.info()\n",
    "obj1.car_info('BMW')\n",
    "\n",
    "obj2 = Truck()\n",
    "obj2.info()\n",
    "obj2.truck_info('Ford')"
   ]
  },
  {
   "cell_type": "code",
   "execution_count": 21,
   "metadata": {},
   "outputs": [
    {
     "name": "stdout",
     "output_type": "stream",
     "text": [
      "Yash\n",
      "25000\n"
     ]
    }
   ],
   "source": [
    "# Example 3 for hierarchial Inheritance\n",
    "# Hierarchical Inheritance\n",
    "\n",
    "class Company:\n",
    "\tdef details(self,name,sal):\n",
    "\t\tself.name=name\n",
    "\t\tself.sal=sal\n",
    "\n",
    "class Person(Company):\n",
    "\tdef info(self):\n",
    "\t\tprint(self.name)\n",
    "\n",
    "class Employee(Company):\n",
    "\tdef show(self):\n",
    "\t\tprint(self.sal)\n",
    "\n",
    "# object for child class1\n",
    "obj1=Person()\n",
    "obj1.details('Yash',55000)\n",
    "obj1.info()\n",
    "\n",
    "# object for child class2\n",
    "obj2=Employee()\n",
    "obj2.details('Teja',25000)\n",
    "obj2.show()"
   ]
  },
  {
   "cell_type": "code",
   "execution_count": null,
   "metadata": {},
   "outputs": [],
   "source": []
  },
  {
   "attachments": {
    "image.png": {
     "image/png": "[encoded data removed]"
    }
   },
   "cell_type": "markdown",
   "metadata": {},
   "source": [
    "## **Hybrid Inheritance**\n",
    "\n",
    "A combination  of more than one type of Inheritance is called Hybrid Inheritance\n",
    "\n",
    "![image.png](attachment:image.png)\n",
    "\n",
    "When inheritance is consists of multiple types or a combination of different inheritance is called hybrid inheritance."
   ]
  },
  {
   "cell_type": "code",
   "execution_count": 22,
   "metadata": {},
   "outputs": [
    {
     "name": "stdout",
     "output_type": "stream",
     "text": [
      "10\n"
     ]
    }
   ],
   "source": [
    "# hybrid\n",
    "\n",
    "class X:\n",
    "\tnum=10\n",
    "class A(X):\n",
    "\tpass\n",
    "class B(A):\n",
    "\tpass\n",
    "class C(A):\n",
    "\tpass\n",
    "class D(B,C):\n",
    "\tpass\n",
    "obj=D()\n",
    "print(D.num)"
   ]
  },
  {
   "cell_type": "code",
   "execution_count": 23,
   "metadata": {},
   "outputs": [
    {
     "name": "stdout",
     "output_type": "stream",
     "text": [
      "Inside Vehicle class\n",
      "Inside Car class\n",
      "Inside SportsCar class\n"
     ]
    }
   ],
   "source": [
    "# Example 2 for Hybrid Inheritance \n",
    "\n",
    "class Vehicle:\n",
    "    def vehicle_info(self):\n",
    "        print(\"Inside Vehicle class\")\n",
    "\n",
    "class Car(Vehicle):\n",
    "    def car_info(self):\n",
    "        print(\"Inside Car class\")\n",
    "\n",
    "class Truck(Vehicle):\n",
    "    def truck_info(self):\n",
    "        print(\"Inside Truck class\")\n",
    "\n",
    "# Sports Car can inherits properties of Vehicle and Car\n",
    "class SportsCar(Car, Vehicle):\n",
    "    def sports_car_info(self):\n",
    "        print(\"Inside SportsCar class\")\n",
    "\n",
    "# create object\n",
    "s_car = SportsCar()\n",
    "\n",
    "s_car.vehicle_info()\n",
    "s_car.car_info()\n",
    "s_car.sports_car_info()"
   ]
  },
  {
   "cell_type": "markdown",
   "metadata": {},
   "source": [
    "In the above example, hierarchical and multiple inheritance exists. Here we created, parent class Vehicle and two child classes named Car and Truck this is hierarchical inheritance.\n",
    "\n",
    "Another is SportsCar inherit from two parent classes named Car and Vehicle. This is multiple inheritance."
   ]
  },
  {
   "cell_type": "code",
   "execution_count": null,
   "metadata": {},
   "outputs": [],
   "source": []
  }
 ],
 "metadata": {
  "kernelspec": {
   "display_name": "Python 3",
   "language": "python",
   "name": "python3"
  },
  "language_info": {
   "codemirror_mode": {
    "name": "ipython",
    "version": 3
   },
   "file_extension": ".py",
   "mimetype": "text/x-python",
   "name": "python",
   "nbconvert_exporter": "python",
   "pygments_lexer": "ipython3",
   "version": "3.12.5"
  }
 },
 "nbformat": 4,
 "nbformat_minor": 2
}
