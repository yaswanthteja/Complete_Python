{
 "cells": [
  {
   "cell_type": "markdown",
   "metadata": {},
   "source": [
    "## File handling in Python\n",
    "File handling in Python allows you to read from and write to files. This is important when\n",
    "you want to store data permanently or work with large datasets.\n",
    "Python provides built-in functions and methods to interact with files.\n",
    "\n",
    "### Steps for File Handling in Python:\n",
    "- Opening a file}\n",
    "- Reading from a file\n",
    "- Writing to a file\n",
    "- Closing the file"
   ]
  },
  {
   "cell_type": "markdown",
   "metadata": {},
   "source": [
    "### Open a File\n",
    "\n",
    "To perform any operation (read/write) on a file, you first need to open the file using Python’s open() function.\n",
    "\n",
    "Syntax:\n",
    "```\n",
    "file_object = open('filename', 'mode’)\n",
    "```\n",
    "\n",
    "- 'filename': Name of the file (can be relative or absolute path).\n",
    "- 'mode': Mode in which the file is opened (read, write, append, etc.).\n",
    "\n",
    "### File Modes:\n",
    "\n",
    "- 'r': Read (default mode). Opens the file for reading.\n",
    "- 'w': Write. Opens the file for writing (if file doesn’t exist, it creates one).\n",
    "- 'a': Append. Opens the file for appending (if file doesn’t exist, it creates one).\n",
    "- 'rb'/'wb': Read/Write in binary mode."
   ]
  },
  {
   "cell_type": "markdown",
   "metadata": {},
   "source": [
    "### Read from a File\n",
    "Once a file is open, you can read from it using the following methods:\n",
    "- read(): Reads the entire content of the file.\n",
    "- readline(): Reads one line from the file at a time.\n",
    "- readlines(): Reads all lines and returns into a list."
   ]
  },
  {
   "cell_type": "code",
   "execution_count": 1,
   "metadata": {},
   "outputs": [],
   "source": [
    "# Open file\n",
    "\n",
    "file=open(\"example.txt\",'r')"
   ]
  },
  {
   "cell_type": "code",
   "execution_count": 4,
   "metadata": {},
   "outputs": [
    {
     "name": "stdout",
     "output_type": "stream",
     "text": [
      "File handling in Python\n"
     ]
    }
   ],
   "source": [
    "# Read content of the file\n",
    "\n",
    "file=open(\"example.txt\",'r')\n",
    "content=file.read() # reads entire data from file\n",
    "print(content)\n",
    "file.close() # close the file"
   ]
  },
  {
   "cell_type": "code",
   "execution_count": 5,
   "metadata": {},
   "outputs": [
    {
     "name": "stdout",
     "output_type": "stream",
     "text": [
      "File handling in Python\n",
      "\n"
     ]
    }
   ],
   "source": [
    "# Implementing readline\n",
    "file=open(\"example.txt\",'r')\n",
    "content=file.readline()  # read only the first line\n",
    "print(content)\n",
    "file.close()"
   ]
  },
  {
   "cell_type": "code",
   "execution_count": 6,
   "metadata": {},
   "outputs": [
    {
     "name": "stdout",
     "output_type": "stream",
     "text": [
      "['File handling in Python\\n', 'Hello world\\n', 'Python Programming']\n"
     ]
    }
   ],
   "source": [
    "# Implementing readlines\n",
    "\n",
    "file=open(\"example.txt\",'r')\n",
    "content=file.readlines() # readlines reads all content and returns it in list\n",
    "print(content)\n",
    "file.close()"
   ]
  },
  {
   "cell_type": "code",
   "execution_count": 7,
   "metadata": {},
   "outputs": [
    {
     "ename": "FileNotFoundError",
     "evalue": "[Errno 2] No such file or directory: 'example2.txt'",
     "output_type": "error",
     "traceback": [
      "\u001b[1;31m---------------------------------------------------------------------------\u001b[0m",
      "\u001b[1;31mFileNotFoundError\u001b[0m                         Traceback (most recent call last)",
      "Cell \u001b[1;32mIn[7], line 3\u001b[0m\n\u001b[0;32m      1\u001b[0m \u001b[38;5;66;03m# In read mode 'r' only existing files can be read or it throws error\u001b[39;00m\n\u001b[1;32m----> 3\u001b[0m file\u001b[38;5;241m=\u001b[39m\u001b[38;5;28;43mopen\u001b[39;49m\u001b[43m(\u001b[49m\u001b[38;5;124;43m\"\u001b[39;49m\u001b[38;5;124;43mexample2.txt\u001b[39;49m\u001b[38;5;124;43m\"\u001b[39;49m\u001b[43m,\u001b[49m\u001b[38;5;124;43m'\u001b[39;49m\u001b[38;5;124;43mr\u001b[39;49m\u001b[38;5;124;43m'\u001b[39;49m\u001b[43m)\u001b[49m\n\u001b[0;32m      4\u001b[0m content\u001b[38;5;241m=\u001b[39mfile\u001b[38;5;241m.\u001b[39mread()\n\u001b[0;32m      5\u001b[0m \u001b[38;5;28mprint\u001b[39m(content)\n",
      "File \u001b[1;32m~\\AppData\\Roaming\\Python\\Python312\\site-packages\\IPython\\core\\interactiveshell.py:324\u001b[0m, in \u001b[0;36m_modified_open\u001b[1;34m(file, *args, **kwargs)\u001b[0m\n\u001b[0;32m    317\u001b[0m \u001b[38;5;28;01mif\u001b[39;00m file \u001b[38;5;129;01min\u001b[39;00m {\u001b[38;5;241m0\u001b[39m, \u001b[38;5;241m1\u001b[39m, \u001b[38;5;241m2\u001b[39m}:\n\u001b[0;32m    318\u001b[0m     \u001b[38;5;28;01mraise\u001b[39;00m \u001b[38;5;167;01mValueError\u001b[39;00m(\n\u001b[0;32m    319\u001b[0m         \u001b[38;5;124mf\u001b[39m\u001b[38;5;124m\"\u001b[39m\u001b[38;5;124mIPython won\u001b[39m\u001b[38;5;124m'\u001b[39m\u001b[38;5;124mt let you open fd=\u001b[39m\u001b[38;5;132;01m{\u001b[39;00mfile\u001b[38;5;132;01m}\u001b[39;00m\u001b[38;5;124m by default \u001b[39m\u001b[38;5;124m\"\u001b[39m\n\u001b[0;32m    320\u001b[0m         \u001b[38;5;124m\"\u001b[39m\u001b[38;5;124mas it is likely to crash IPython. If you know what you are doing, \u001b[39m\u001b[38;5;124m\"\u001b[39m\n\u001b[0;32m    321\u001b[0m         \u001b[38;5;124m\"\u001b[39m\u001b[38;5;124myou can use builtins\u001b[39m\u001b[38;5;124m'\u001b[39m\u001b[38;5;124m open.\u001b[39m\u001b[38;5;124m\"\u001b[39m\n\u001b[0;32m    322\u001b[0m     )\n\u001b[1;32m--> 324\u001b[0m \u001b[38;5;28;01mreturn\u001b[39;00m \u001b[43mio_open\u001b[49m\u001b[43m(\u001b[49m\u001b[43mfile\u001b[49m\u001b[43m,\u001b[49m\u001b[43m \u001b[49m\u001b[38;5;241;43m*\u001b[39;49m\u001b[43margs\u001b[49m\u001b[43m,\u001b[49m\u001b[43m \u001b[49m\u001b[38;5;241;43m*\u001b[39;49m\u001b[38;5;241;43m*\u001b[39;49m\u001b[43mkwargs\u001b[49m\u001b[43m)\u001b[49m\n",
      "\u001b[1;31mFileNotFoundError\u001b[0m: [Errno 2] No such file or directory: 'example2.txt'"
     ]
    }
   ],
   "source": [
    "# In read mode 'r' only existing files can be read or it throws FileNotFoundError,in this case we can use Write mode \n",
    "\n",
    "file=open(\"example2.txt\",'r')\n",
    "content=file.read()\n",
    "print(content)"
   ]
  },
  {
   "cell_type": "markdown",
   "metadata": {},
   "source": [
    "### Write to a File\n",
    "To write to a file, you can use the write() or writelines() method:\n",
    "- write(): Writes a string to the file.\n",
    "- writelines(): Writes a list of strings."
   ]
  },
  {
   "cell_type": "code",
   "execution_count": 8,
   "metadata": {},
   "outputs": [],
   "source": [
    "# In write mode if the file doesn't exist then it will create the file with that name\n",
    "file=open(\"example2.txt\",'w')"
   ]
  },
  {
   "cell_type": "code",
   "execution_count": 9,
   "metadata": {},
   "outputs": [],
   "source": [
    "# wite the text in the file\n",
    "file=open(\"example2.txt\",'w')\n",
    "file.write(\"This the example2 file\") # when new text added by using write() insead of adding it to new line, it overwrite the value everytime it runs \n",
    "file.close()"
   ]
  },
  {
   "cell_type": "code",
   "execution_count": 10,
   "metadata": {},
   "outputs": [],
   "source": [
    "# \n",
    "file=open('example2.txt','w')\n",
    "file.write(\"example2,using write\")\n",
    "file.close()"
   ]
  },
  {
   "cell_type": "code",
   "execution_count": 14,
   "metadata": {},
   "outputs": [],
   "source": [
    "# So if we want to add new text better to choose append will add text at last so if you preffer it new line use \\n\n",
    "file=open('example2.txt','a')\n",
    "file.write(\"\\nthis the new text inserted\")\n",
    "file.close()"
   ]
  },
  {
   "cell_type": "code",
   "execution_count": null,
   "metadata": {},
   "outputs": [],
   "source": []
  },
  {
   "cell_type": "markdown",
   "metadata": {},
   "source": [
    "### Close a File\n",
    "Instead of manually opening and closing a file, you can use the with statement, which automatically handles closing the file when the block of code is done.\n",
    "\n",
    "- close()\n",
    "- with\n",
    "- Exception handling"
   ]
  },
  {
   "cell_type": "code",
   "execution_count": 15,
   "metadata": {},
   "outputs": [
    {
     "name": "stdout",
     "output_type": "stream",
     "text": [
      "File handling in Python\n",
      "Hello world\n",
      "Python Programming\n"
     ]
    }
   ],
   "source": [
    "# Example: Reading with with statement\n",
    "with open('example.txt', 'r') as file:\n",
    "    content = file.read()\n",
    "    print(content)"
   ]
  },
  {
   "cell_type": "markdown",
   "metadata": {},
   "source": [
    "In this case, you don’t need to call file.close(), because Python automatically closes the file when the block is finished."
   ]
  },
  {
   "cell_type": "code",
   "execution_count": 17,
   "metadata": {},
   "outputs": [
    {
     "name": "stdout",
     "output_type": "stream",
     "text": [
      "File handling in Python\n",
      "Hello world\n",
      "Python Programming\n"
     ]
    }
   ],
   "source": [
    "# Example: Using exception handling to close a file\n",
    "try:\n",
    "    with open('example.txt', 'r') as file:\n",
    "        content = file.read()\n",
    "        print(content)\n",
    "finally:\n",
    "    file.close()"
   ]
  },
  {
   "cell_type": "markdown",
   "metadata": {},
   "source": []
  }
 ],
 "metadata": {
  "kernelspec": {
   "display_name": "Python 3",
   "language": "python",
   "name": "python3"
  },
  "language_info": {
   "codemirror_mode": {
    "name": "ipython",
    "version": 3
   },
   "file_extension": ".py",
   "mimetype": "text/x-python",
   "name": "python",
   "nbconvert_exporter": "python",
   "pygments_lexer": "ipython3",
   "version": "3.12.5"
  }
 },
 "nbformat": 4,
 "nbformat_minor": 2
}
