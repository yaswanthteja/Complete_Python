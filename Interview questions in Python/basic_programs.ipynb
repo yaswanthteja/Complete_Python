{
 "cells": [
  {
   "cell_type": "code",
   "execution_count": 1,
   "metadata": {},
   "outputs": [
    {
     "name": "stdout",
     "output_type": "stream",
     "text": [
      "hello world!!\n"
     ]
    }
   ],
   "source": [
    "# write a program to print hello world\n",
    "\n",
    "print(\"hello world!!\")"
   ]
  },
  {
   "cell_type": "code",
   "execution_count": 3,
   "metadata": {},
   "outputs": [
    {
     "name": "stdout",
     "output_type": "stream",
     "text": [
      "30\n"
     ]
    }
   ],
   "source": [
    "# : Calculate the sum of two numbers entered by the user.\n",
    "\n",
    "num1=int(input(\"Enter a number: \"))\n",
    "num2=int(input(\"Enter a number: \"))\n",
    "add=num1+num2\n",
    "print(add)"
   ]
  },
  {
   "cell_type": "code",
   "execution_count": 1,
   "metadata": {},
   "outputs": [
    {
     "name": "stdout",
     "output_type": "stream",
     "text": [
      "131.0\n"
     ]
    }
   ],
   "source": [
    "# Convert temperature from Celsius to Fahrenheit.\n",
    "\n",
    "celsius=float(input(\"Enter the celsius :\"))\n",
    "fahrenheit=(celsius*9/5)+32\n",
    "print(fahrenheit)"
   ]
  },
  {
   "cell_type": "code",
   "execution_count": 3,
   "metadata": {},
   "outputs": [
    {
     "name": "stdout",
     "output_type": "stream",
     "text": [
      "55.0\n"
     ]
    }
   ],
   "source": [
    "# Convert temperature from Celsius to Fahrenheit.\n",
    "\n",
    "fahrenheit=float(input(\"Enter the celsius :\"))\n",
    "celsius=(fahrenheit-32)*5/9\n",
    "print(celsius)"
   ]
  },
  {
   "cell_type": "code",
   "execution_count": 3,
   "metadata": {},
   "outputs": [
    {
     "name": "stdout",
     "output_type": "stream",
     "text": [
      "200\n"
     ]
    }
   ],
   "source": [
    "# area of triangle\n",
    "\n",
    "length=int(input(\"Enter the length: \"))\n",
    "width=int(input(\"Enter the Width: \"))\n",
    "Area=length*width\n",
    "print(Area)\n"
   ]
  },
  {
   "cell_type": "code",
   "execution_count": 6,
   "metadata": {},
   "outputs": [
    {
     "name": "stdout",
     "output_type": "stream",
     "text": [
      "200\n"
     ]
    }
   ],
   "source": [
    "def area(length,width):\n",
    "    return length*width\n",
    "result=area(10,20)\n",
    "print(result)"
   ]
  },
  {
   "cell_type": "code",
   "execution_count": 7,
   "metadata": {},
   "outputs": [
    {
     "name": "stdout",
     "output_type": "stream",
     "text": [
      "Hello yash Congrats you're  22 old\n"
     ]
    }
   ],
   "source": [
    "# create program that takes user name and age as input and print welcome message\n",
    "\n",
    "name=input(\"Enter your name: \")\n",
    "age=input(\"Enter your age : \")\n",
    "print(f\"Hello {name} Congrats you're  {age} old\" )"
   ]
  },
  {
   "cell_type": "code",
   "execution_count": 8,
   "metadata": {},
   "outputs": [
    {
     "name": "stdout",
     "output_type": "stream",
     "text": [
      "10 is a Even number\n"
     ]
    }
   ],
   "source": [
    "# even or odd\n",
    "\n",
    "num=int(input(\"Enter  a number: \"))\n",
    "if num%2==0:\n",
    "    print(f\"{num} is a Even number\")\n",
    "else:\n",
    "    print(f\"{num} is a  odd number\")\n"
   ]
  },
  {
   "cell_type": "code",
   "execution_count": 10,
   "metadata": {},
   "outputs": [
    {
     "data": {
      "text/plain": [
       "(1, 5)"
      ]
     },
     "execution_count": 10,
     "metadata": {},
     "output_type": "execute_result"
    }
   ],
   "source": [
    "# Given a list of numbers, find the maximum and minimum values\n",
    "\n",
    "def find_min_max(lst):\n",
    "    min_val=min(lst)\n",
    "    max_val=max(lst)\n",
    "    return min_val, max_val\n",
    "lst=[1,2,3,4,5]\n",
    "find_min_max(lst)"
   ]
  },
  {
   "cell_type": "code",
   "execution_count": 11,
   "metadata": {},
   "outputs": [
    {
     "name": "stdout",
     "output_type": "stream",
     "text": [
      "Is palindrome\n"
     ]
    }
   ],
   "source": [
    "# palindrome\n",
    "\n",
    "def palindrome(input_str):\n",
    "    input_str=input_str.replace(\" \",\"\").lower()\n",
    "    return input_str==input_str[::-1]\n",
    "input_str=input(\"Enter a string:\")\n",
    "if palindrome(input_str):\n",
    "    print(\"Is palindrome\")\n",
    "else:\n",
    "    print(\"Is Not palindrome\")\n",
    "\n",
    "    \n"
   ]
  },
  {
   "cell_type": "code",
   "execution_count": 17,
   "metadata": {},
   "outputs": [
    {
     "name": "stdout",
     "output_type": "stream",
     "text": [
      "Compound intrest is 30525.50\n",
      "Total amount for 5.0 years is  80525.50\n"
     ]
    }
   ],
   "source": [
    "# Compound intrest\n",
    "principle=float(input(\"Enter a the principle amount \"))\n",
    "rate=float(input(\"Enter the rate of intrest \"))/100\n",
    "time=float(input(\"Enter the time in years \"))\n",
    "n=float(input(\"Enter how many times intrest compounded per year \"))\n",
    "\n",
    "# TO find the total ammount\n",
    "Amount=principle*(1+rate/n)**(n*time)\n",
    "\n",
    "# find the compound intrest\n",
    "CI=Amount-principle\n",
    "\n",
    "print(f\"Compound intrest is {CI:.2f}\")\n",
    "print(f\"Total amount for {time} years is  {Amount:.2f}\")"
   ]
  },
  {
   "cell_type": "code",
   "execution_count": 11,
   "metadata": {},
   "outputs": [
    {
     "name": "stdout",
     "output_type": "stream",
     "text": [
      "Compound intrest is 30525.50\n",
      "amount after 5.0 years is 80525.50\n"
     ]
    }
   ],
   "source": [
    "def compound_intrest(principle,rate,time,n):\n",
    "    # amount\n",
    "    amount=principle*(1+rate/n)**(n*time)\n",
    "    # Compound intrest\n",
    "    CI=amount-principle\n",
    "    return CI,amount\n",
    "principle=float(input(\"Enter a principle amount\"))\n",
    "rate=float(input(\"Enter a  rate of intrest \"))/100\n",
    "time=float(input(\"Enter a time in years \"))\n",
    "n=float(input(\"Enter a number of times intrest compound per year \"))\n",
    "\n",
    "CI,amount=compound_intrest(principle,rate,time,n)\n",
    "print(f\"Compound intrest is {CI:.2f}\")\n",
    "print(f\"amount after {time} years is {amount:.2f}\")"
   ]
  },
  {
   "cell_type": "code",
   "execution_count": 8,
   "metadata": {},
   "outputs": [
    {
     "name": "stdout",
     "output_type": "stream",
     "text": [
      "The compound interest is 30525.50\n",
      "The amount after 5.0 years is 80525.50\n"
     ]
    }
   ],
   "source": [
    "# Function to calculate compound interest\n",
    "def calculate_compound_interest(principal, rate, time, n):\n",
    "    # Calculate the accumulated amount (A)\n",
    "    amount = principal * (1 + rate / n) ** (n * time)\n",
    "    # Calculate the compound interest\n",
    "    compound_interest = amount - principal\n",
    "    return compound_interest, amount\n",
    "\n",
    "# Example usage\n",
    "principal = float(input(\"Enter the principal amount: \"))\n",
    "rate = float(input(\"Enter the annual interest rate (as a percentage): \")) / 100\n",
    "time = float(input(\"Enter the time period in years: \"))\n",
    "n = int(input(\"Enter the number of times interest is compounded per year: \"))\n",
    "\n",
    "# Calculate compound interest\n",
    "compound_interest, amount = calculate_compound_interest(principal, rate, time, n)\n",
    "\n",
    "# Display the results\n",
    "print(f\"The compound interest is {compound_interest:.2f}\")\n",
    "print(f\"The amount after {time} years is {amount:.2f}\")\n"
   ]
  },
  {
   "cell_type": "code",
   "execution_count": 3,
   "metadata": {},
   "outputs": [
    {
     "name": "stdout",
     "output_type": "stream",
     "text": [
      "210.0\n"
     ]
    }
   ],
   "source": [
    "# simple intrest\n",
    "\n",
    "principle=float(input(\"Enter a the principle amount \"))\n",
    "rate=float(input(\"Enter the rate of intrest \"))\n",
    "time=float(input(\"Enter the time in years \"))\n",
    "\n",
    "Si=principle*time*rate/100\n",
    "print(Si)"
   ]
  },
  {
   "cell_type": "code",
   "execution_count": 9,
   "metadata": {},
   "outputs": [
    {
     "data": {
      "text/plain": [
       "'1 years 5.0 weeks 0 days'"
      ]
     },
     "execution_count": 9,
     "metadata": {},
     "output_type": "execute_result"
    }
   ],
   "source": [
    "# years and weeks & days\n",
    "\n",
    "def convert_days(days):\n",
    "\n",
    "    # calculate the years  from days\n",
    "    years=int(days/365)\n",
    "    remaining_days_of_year=days%365\n",
    "\n",
    "    #calculate weeks\n",
    "    weeks=remaining_days_of_year/7\n",
    "    remaining_days=remaining_days_of_year%7\n",
    "    return f\"{years} years {weeks} weeks {remaining_days} days\"\n",
    "\n",
    "convert_days(400)\n",
    "\n",
    "\n"
   ]
  },
  {
   "cell_type": "code",
   "execution_count": 11,
   "metadata": {},
   "outputs": [
    {
     "name": "stdout",
     "output_type": "stream",
     "text": [
      "The sum of all positive numbers is: 100\n"
     ]
    }
   ],
   "source": [
    "# Function to find the sum of all positive numbers in a list\n",
    "def sum_of_positive_numbers(numbers):\n",
    "    # Initialize the sum to 0\n",
    "    positive_sum = 0\n",
    "    \n",
    "    # Iterate through the list\n",
    "    for number in numbers:\n",
    "        # Check if the number is positive\n",
    "        if number > 0:\n",
    "            # Add the positive number to the sum\n",
    "            positive_sum += number\n",
    "            \n",
    "    return positive_sum\n",
    "\n",
    "# Example usage\n",
    "numbers = [int(x) for x in input(\"Enter a list of integers separated by spaces: \").split()]\n",
    "\n",
    "# Calculate the sum of positive numbers\n",
    "positive_sum = sum_of_positive_numbers(numbers)\n",
    "\n",
    "# Display the result\n",
    "print(f\"The sum of all positive numbers is: {positive_sum}\")\n"
   ]
  },
  {
   "cell_type": "code",
   "execution_count": 18,
   "metadata": {},
   "outputs": [
    {
     "data": {
      "text/plain": [
       "10"
      ]
     },
     "execution_count": 18,
     "metadata": {},
     "output_type": "execute_result"
    }
   ],
   "source": [
    "# sum of positive numbers\n",
    "def sum_positive(num):\n",
    "    positive_num=0\n",
    "    for i in num:\n",
    "        if i>0:\n",
    "            positive_num+=i\n",
    "    return positive_num\n",
    "num=[int(x) for x in input(\"enter a numbers with spaces\").split()]\n",
    "sum_positive(num)"
   ]
  },
  {
   "cell_type": "code",
   "execution_count": 19,
   "metadata": {},
   "outputs": [
    {
     "data": {
      "text/plain": [
       "20"
      ]
     },
     "execution_count": 19,
     "metadata": {},
     "output_type": "execute_result"
    }
   ],
   "source": [
    "# Create a program that takes a sentence as input and counts the number of words in it.\n",
    "\n",
    "def count_words(sentence):\n",
    "    words=sentence.split()\n",
    "    return len(words)\n",
    "sentence=input(\"Enter a  sentence: \")\n",
    "count_words(sentence)"
   ]
  },
  {
   "cell_type": "code",
   "execution_count": 25,
   "metadata": {},
   "outputs": [
    {
     "data": {
      "text/plain": [
       "(20, 15)"
      ]
     },
     "execution_count": 25,
     "metadata": {},
     "output_type": "execute_result"
    }
   ],
   "source": [
    "# Create a program that takes a sentence as input and counts the number of words in sentence\n",
    "def count_words_no_duplicates(sentence):\n",
    "    words=sentence.split()\n",
    "    unique_words=set(words)\n",
    "    return len(words), len(unique_words)\n",
    "sentence=input(\"Enter a sentence \")\n",
    "count_words_no_duplicates(sentence)\n",
    "\n",
    "\n",
    "\n",
    "\n"
   ]
  },
  {
   "cell_type": "code",
   "execution_count": 27,
   "metadata": {},
   "outputs": [
    {
     "name": "stdout",
     "output_type": "stream",
     "text": [
      "20\n",
      "10\n"
     ]
    }
   ],
   "source": [
    "# Implement a program that swaps the values of two variables.\n",
    "var1=10\n",
    "var2=20\n",
    "temp=var1\n",
    "var1=var2\n",
    "var2=temp\n",
    "\n",
    "print(var1)\n",
    "print(var2)\n"
   ]
  },
  {
   "cell_type": "markdown",
   "metadata": {},
   "source": [
    "## Variables and data types"
   ]
  },
  {
   "cell_type": "code",
   "execution_count": 29,
   "metadata": {},
   "outputs": [
    {
     "name": "stdout",
     "output_type": "stream",
     "text": [
      "25.0\n"
     ]
    }
   ],
   "source": [
    "# Create variables for storing a person's name, age, and average test score.\n",
    "\n",
    "person_name=input(\"enter a name: \")\n",
    "age=int( input(\"enter your age: \"))\n",
    "test_scores=[int(x) for x in input(\"Enter the test scores\").split()]\n",
    "average= sum(test_scores)/len(test_scores)\n",
    "print(average)"
   ]
  },
  {
   "cell_type": "code",
   "execution_count": 30,
   "metadata": {},
   "outputs": [
    {
     "name": "stdout",
     "output_type": "stream",
     "text": [
      "HelloWorld!!\n"
     ]
    }
   ],
   "source": [
    "# concatinate two strings\n",
    "str1=\"Hello\"\n",
    "str2=\"World!!\"\n",
    "print(str1+str2)"
   ]
  },
  {
   "cell_type": "code",
   "execution_count": 41,
   "metadata": {},
   "outputs": [
    {
     "name": "stdout",
     "output_type": "stream",
     "text": [
      "0 Apple\n",
      "1 Mango\n",
      "2 Banana\n",
      "3 Guavua\n"
     ]
    }
   ],
   "source": [
    "# Create a list of fruits and access elements using indexing.\n",
    "fruits=['Apple','Mango','Banana','Guavua']\n",
    "\n",
    "# for i in range(len(fruits)):\n",
    "#     print(i,fruits[i])\n",
    "   \n",
    "for index,value in enumerate(fruits):\n",
    "    print(index,value)"
   ]
  },
  {
   "cell_type": "code",
   "execution_count": 43,
   "metadata": {},
   "outputs": [
    {
     "name": "stdout",
     "output_type": "stream",
     "text": [
      "150\n",
      "30.0\n"
     ]
    }
   ],
   "source": [
    "# given a list of numbers find the sum and avearge of list\n",
    "\n",
    "lst=[10,20,30,40,50]\n",
    "lst_sum=sum(lst)\n",
    "lst_average=lst_sum/len(lst)\n",
    "print(lst_sum)\n",
    "print(lst_average)"
   ]
  },
  {
   "cell_type": "code",
   "execution_count": 48,
   "metadata": {},
   "outputs": [
    {
     "name": "stdout",
     "output_type": "stream",
     "text": [
      "273.15 k\n"
     ]
    }
   ],
   "source": [
    "#Create a program that takes a temperature in Celsius and converts it to Kelvin.\n",
    "celsius=float(input(\"Enter a number: \"))\n",
    "kelvin=celsius+273.15\n",
    "print(kelvin,\"k\")\n"
   ]
  },
  {
   "cell_type": "code",
   "execution_count": 49,
   "metadata": {},
   "outputs": [
    {
     "name": "stdout",
     "output_type": "stream",
     "text": [
      "Palindrome\n"
     ]
    }
   ],
   "source": [
    "# check the given string is palindrome or not\n",
    "string='malayalam'\n",
    "if string==string[::-1]:\n",
    "    print(\"Palindrome\")\n",
    "else:\n",
    "    print(\"Not a palindrome\")"
   ]
  },
  {
   "cell_type": "code",
   "execution_count": 50,
   "metadata": {},
   "outputs": [
    {
     "data": {
      "text/plain": [
       "'nohtyp olleh'"
      ]
     },
     "execution_count": 50,
     "metadata": {},
     "output_type": "execute_result"
    }
   ],
   "source": [
    "# create a function to reverse a string\n",
    "def reverse_string(str):\n",
    "    return str[::-1]\n",
    "str=\"hello python\"\n",
    "reverse_string(str)"
   ]
  },
  {
   "cell_type": "code",
   "execution_count": 1,
   "metadata": {},
   "outputs": [
    {
     "name": "stdout",
     "output_type": "stream",
     "text": [
      "concatenated names yash teja mia merryua\n"
     ]
    }
   ],
   "source": [
    "# given a list of names concatenate them as a single list with in single line using spaces\n",
    "\n",
    "names=['yash','teja','mia','merryua']\n",
    "concatenate=' '.join(names)\n",
    "print(f\"concatenated names {concatenate}\")"
   ]
  },
  {
   "cell_type": "code",
   "execution_count": 4,
   "metadata": {},
   "outputs": [
    {
     "name": "stdout",
     "output_type": "stream",
     "text": [
      "Pangram\n"
     ]
    }
   ],
   "source": [
    "letters = ['a', 'b', 'c', 'd', 'e', 'f', 'g', 'h', 'i', 'j', 'k', 'l', 'm', 'n', 'o', 'p', 'q', 'r', 's', 't', 'u', 'v', 'w', 'x', 'y', 'z']\n",
    "text = \"the quick brown fox jumps over the lazy dog\"\n",
    "\n",
    "# Convert text to lowercase for case insensitive comparison\n",
    "text = text.lower()\n",
    "\n",
    "# Check if each letter is in the text\n",
    "for letter in letters:\n",
    "    if letter not in text:\n",
    "        print(\"Not a pangram\")\n",
    "        break\n",
    "else:\n",
    "    print(\"Pangram\")\n"
   ]
  },
  {
   "cell_type": "code",
   "execution_count": 5,
   "metadata": {},
   "outputs": [
    {
     "name": "stdout",
     "output_type": "stream",
     "text": [
      "The area of the circle with radius 12.0 is: 452.39\n",
      "The circumference of the circle with radius 12.0 is: 75.40\n"
     ]
    }
   ],
   "source": [
    "import math\n",
    "\n",
    "# Function to calculate the area of a circle\n",
    "def calculate_area(radius):\n",
    "    return math.pi * (radius ** 2)\n",
    "\n",
    "# Function to calculate the circumference of a circle\n",
    "def calculate_circumference(radius):\n",
    "    return 2 * math.pi * radius\n",
    "\n",
    "# Example usage\n",
    "radius = float(input(\"Enter the radius of the circle: \"))\n",
    "\n",
    "# Calculate the area\n",
    "area = calculate_area(radius)\n",
    "\n",
    "# Calculate the circumference\n",
    "circumference = calculate_circumference(radius)\n",
    "\n",
    "# Display the results\n",
    "print(f\"The area of the circle with radius {radius} is: {area:.2f}\")\n",
    "print(f\"The circumference of the circle with radius {radius} is: {circumference:.2f}\")\n"
   ]
  },
  {
   "cell_type": "code",
   "execution_count": 8,
   "metadata": {},
   "outputs": [
    {
     "name": "stdout",
     "output_type": "stream",
     "text": [
      "2 hours and 5 minutes\n"
     ]
    }
   ],
   "source": [
    "def convert_minutes(minutes):\n",
    "    hours=minutes//60\n",
    "    remaining_minutes=minutes%60\n",
    "    return hours, remaining_minutes\n",
    "\n",
    "minutes=int(input(\"Enter the minutes: \"))\n",
    "hours,remaining_minutes=convert_minutes(minutes)\n",
    "print(f\"{hours} hours and {remaining_minutes} minutes\")"
   ]
  },
  {
   "cell_type": "code",
   "execution_count": 9,
   "metadata": {},
   "outputs": [
    {
     "data": {
      "text/plain": [
       "4"
      ]
     },
     "execution_count": 9,
     "metadata": {},
     "output_type": "execute_result"
    }
   ],
   "source": [
    "# vowels\n",
    "def count_vowels(string):\n",
    "    vowels='aeiouAEIOU'\n",
    "    count=0\n",
    "    for char in string:\n",
    "        if char in vowels:\n",
    "            count+=1\n",
    "    return count\n",
    "\n",
    "string=input(\"Enter a string: \")\n",
    "count_vowels(string)"
   ]
  },
  {
   "cell_type": "code",
   "execution_count": null,
   "metadata": {},
   "outputs": [],
   "source": [
    "# write a program to check whether a given number is prime\n",
    "# Function to check if a number is prime\n",
    "def is_prime(number):\n",
    "    if number <= 1:\n",
    "        return False\n",
    "    for i in range(2, int(number**0.5) + 1):\n",
    "        if number % i == 0:\n",
    "            return False\n",
    "    return True\n",
    "\n",
    "# Example usage\n",
    "number = int(input(\"Enter a number: \"))\n",
    "\n",
    "# Check if the number is prime\n",
    "if is_prime(number):\n",
    "    print(f\"{number} is a prime number.\")\n",
    "else:\n",
    "    print(f\"{number} is not a prime number.\")\n"
   ]
  },
  {
   "cell_type": "code",
   "execution_count": 1,
   "metadata": {},
   "outputs": [
    {
     "name": "stdout",
     "output_type": "stream",
     "text": [
      "2 is a prime number\n"
     ]
    }
   ],
   "source": [
    "num=int(input(\"Enter any postive number: \"))\n",
    "if num>1:\n",
    "    for i in range(2,num):\n",
    "        if (num %i)==0:\n",
    "            print(num,\"is not a prime number\")\n",
    "            break\n",
    "    else:\n",
    "        print(num,\"is a prime number\")\n",
    "else:\n",
    "    print(num,\"is not a prime  number\")"
   ]
  },
  {
   "cell_type": "code",
   "execution_count": 4,
   "metadata": {},
   "outputs": [
    {
     "name": "stdout",
     "output_type": "stream",
     "text": [
      "it is not a prime nmber\n"
     ]
    }
   ],
   "source": [
    "num=int(input('Enter a number: '))\n",
    "if num>1:\n",
    "    for i in range(2,num):\n",
    "        if num%i==0:\n",
    "            print('It is not a prime number')\n",
    "            break\n",
    "    else:\n",
    "        print('it is a prime number')\n",
    "else:\n",
    "    print('it is not a prime nmber')"
   ]
  },
  {
   "cell_type": "code",
   "execution_count": 10,
   "metadata": {},
   "outputs": [
    {
     "name": "stdout",
     "output_type": "stream",
     "text": [
      "2\n",
      "3\n",
      "5\n",
      "7\n"
     ]
    }
   ],
   "source": [
    "lower=int(input('enter a number: '))\n",
    "upper=int(input('Enter a number '))\n",
    "for num in range(lower,upper+1):\n",
    "    if num>1:\n",
    "        for i in range(2,num):\n",
    "            if num%i==0:\n",
    "                break\n",
    "        else:\n",
    "             print(num)\n",
    "\n"
   ]
  },
  {
   "cell_type": "code",
   "execution_count": 12,
   "metadata": {},
   "outputs": [
    {
     "name": "stdout",
     "output_type": "stream",
     "text": [
      "0\n",
      "1\n",
      "1\n",
      "2\n",
      "3\n"
     ]
    }
   ],
   "source": [
    "#  fibanocci series\n",
    "num=int(input('Enter a number: '))\n",
    "first=0\n",
    "second=1\n",
    "for i in range(num):\n",
    "    print(first)\n",
    "    temp=first\n",
    "    first=second\n",
    "    second=temp+first"
   ]
  },
  {
   "cell_type": "code",
   "execution_count": 15,
   "metadata": {},
   "outputs": [
    {
     "data": {
      "text/plain": [
       "3"
      ]
     },
     "execution_count": 15,
     "metadata": {},
     "output_type": "execute_result"
    }
   ],
   "source": [
    "# using recursion\n",
    "def fibanocci(n):\n",
    "    assert int(n)==n& n>=0 ,'The number must be positive'\n",
    "    if n in [0,1]:\n",
    "        return n\n",
    "    else:\n",
    "        return fibanocci(n-1)+fibanocci(n-2)\n",
    "n=int(input('enter a number: '))    \n",
    "fibanocci(n)"
   ]
  },
  {
   "cell_type": "code",
   "execution_count": 18,
   "metadata": {},
   "outputs": [
    {
     "name": "stdout",
     "output_type": "stream",
     "text": [
      "7 X 1 = 7\n",
      "7 X 2 = 14\n",
      "7 X 3 = 21\n",
      "7 X 4 = 28\n",
      "7 X 5 = 35\n",
      "7 X 6 = 42\n",
      "7 X 7 = 49\n",
      "7 X 8 = 56\n",
      "7 X 9 = 63\n",
      "7 X 10 = 70\n"
     ]
    }
   ],
   "source": [
    "# multiplication \n",
    "num=int(input('enter a number: '))\n",
    "for i in range(1,11):\n",
    "    print(num,'X',i,'=',num*i)"
   ]
  },
  {
   "cell_type": "code",
   "execution_count": 31,
   "metadata": {},
   "outputs": [
    {
     "name": "stdout",
     "output_type": "stream",
     "text": [
      "3 is not a armstrong number\n"
     ]
    }
   ],
   "source": [
    "#armstrong number\n",
    "input_value=input('Enter a number: ')\n",
    "length=len(input_value)\n",
    "armstrong_num=0\n",
    "for num in input_value:\n",
    "    armstrong_num+=int(num)**length\n",
    "if armstrong_num==int(num):\n",
    "    print(num,'is armstrong number')\n",
    "else:\n",
    "    print(num,'is not a armstrong number')"
   ]
  },
  {
   "cell_type": "code",
   "execution_count": null,
   "metadata": {},
   "outputs": [],
   "source": []
  }
 ],
 "metadata": {
  "kernelspec": {
   "display_name": "Python 3",
   "language": "python",
   "name": "python3"
  },
  "language_info": {
   "codemirror_mode": {
    "name": "ipython",
    "version": 3
   },
   "file_extension": ".py",
   "mimetype": "text/x-python",
   "name": "python",
   "nbconvert_exporter": "python",
   "pygments_lexer": "ipython3",
   "version": "3.11.1"
  }
 },
 "nbformat": 4,
 "nbformat_minor": 2
}
